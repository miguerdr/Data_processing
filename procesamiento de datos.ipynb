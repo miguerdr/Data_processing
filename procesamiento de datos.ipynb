{
 "cells": [
  {
   "cell_type": "markdown",
   "id": "607389f7",
   "metadata": {},
   "source": [
    "# Análisis del riesgo de incumplimiento de los prestatarios\n"
   ]
  },
  {
   "cell_type": "markdown",
   "id": "778de93b",
   "metadata": {},
   "source": [
    "## 1 Abre el archivo de datos y mira la información general. "
   ]
  },
  {
   "cell_type": "code",
   "execution_count": 1,
   "id": "dcbb5202",
   "metadata": {},
   "outputs": [],
   "source": [
    "# Cargar todas las librerías\n",
    "import pandas as pd\n",
    "import matplotlib.pyplot as plt\n",
    "\n",
    "try:\n",
    "    df = pd.read_csv('credit_scoring_eng.csv')\n",
    "except: \n",
    "    df = pd.read_csv('/datasets/credit_scoring_eng.csv')"
   ]
  },
  {
   "cell_type": "markdown",
   "id": "cd7292d0",
   "metadata": {},
   "source": [
    "## 2 Ejercicio 1. Exploración de datos\n",
    "\n"
   ]
  },
  {
   "cell_type": "code",
   "execution_count": 2,
   "id": "e1742e41",
   "metadata": {},
   "outputs": [
    {
     "name": "stdout",
     "output_type": "stream",
     "text": [
      "<class 'pandas.core.frame.DataFrame'>\n",
      "RangeIndex: 21525 entries, 0 to 21524\n",
      "Data columns (total 12 columns):\n",
      " #   Column            Non-Null Count  Dtype  \n",
      "---  ------            --------------  -----  \n",
      " 0   children          21525 non-null  int64  \n",
      " 1   days_employed     19351 non-null  float64\n",
      " 2   dob_years         21525 non-null  int64  \n",
      " 3   education         21525 non-null  object \n",
      " 4   education_id      21525 non-null  int64  \n",
      " 5   family_status     21525 non-null  object \n",
      " 6   family_status_id  21525 non-null  int64  \n",
      " 7   gender            21525 non-null  object \n",
      " 8   income_type       21525 non-null  object \n",
      " 9   debt              21525 non-null  int64  \n",
      " 10  total_income      19351 non-null  float64\n",
      " 11  purpose           21525 non-null  object \n",
      "dtypes: float64(2), int64(5), object(5)\n",
      "memory usage: 2.0+ MB\n",
      "None\n"
     ]
    }
   ],
   "source": [
    "# Vamos a ver cuántas filas y columnas tiene nuestro conjunto de datos\n",
    "print(df.info())"
   ]
  },
  {
   "cell_type": "code",
   "execution_count": 3,
   "id": "5ffa999e",
   "metadata": {
    "scrolled": true
   },
   "outputs": [
    {
     "data": {
      "text/html": [
       "<div>\n",
       "<style scoped>\n",
       "    .dataframe tbody tr th:only-of-type {\n",
       "        vertical-align: middle;\n",
       "    }\n",
       "\n",
       "    .dataframe tbody tr th {\n",
       "        vertical-align: top;\n",
       "    }\n",
       "\n",
       "    .dataframe thead th {\n",
       "        text-align: right;\n",
       "    }\n",
       "</style>\n",
       "<table border=\"1\" class=\"dataframe\">\n",
       "  <thead>\n",
       "    <tr style=\"text-align: right;\">\n",
       "      <th></th>\n",
       "      <th>children</th>\n",
       "      <th>days_employed</th>\n",
       "      <th>dob_years</th>\n",
       "      <th>education</th>\n",
       "      <th>education_id</th>\n",
       "      <th>family_status</th>\n",
       "      <th>family_status_id</th>\n",
       "      <th>gender</th>\n",
       "      <th>income_type</th>\n",
       "      <th>debt</th>\n",
       "      <th>total_income</th>\n",
       "      <th>purpose</th>\n",
       "    </tr>\n",
       "  </thead>\n",
       "  <tbody>\n",
       "    <tr>\n",
       "      <th>0</th>\n",
       "      <td>1</td>\n",
       "      <td>-8437.673028</td>\n",
       "      <td>42</td>\n",
       "      <td>bachelor's degree</td>\n",
       "      <td>0</td>\n",
       "      <td>married</td>\n",
       "      <td>0</td>\n",
       "      <td>F</td>\n",
       "      <td>employee</td>\n",
       "      <td>0</td>\n",
       "      <td>40620.102</td>\n",
       "      <td>purchase of the house</td>\n",
       "    </tr>\n",
       "    <tr>\n",
       "      <th>1</th>\n",
       "      <td>1</td>\n",
       "      <td>-4024.803754</td>\n",
       "      <td>36</td>\n",
       "      <td>secondary education</td>\n",
       "      <td>1</td>\n",
       "      <td>married</td>\n",
       "      <td>0</td>\n",
       "      <td>F</td>\n",
       "      <td>employee</td>\n",
       "      <td>0</td>\n",
       "      <td>17932.802</td>\n",
       "      <td>car purchase</td>\n",
       "    </tr>\n",
       "    <tr>\n",
       "      <th>2</th>\n",
       "      <td>0</td>\n",
       "      <td>-5623.422610</td>\n",
       "      <td>33</td>\n",
       "      <td>Secondary Education</td>\n",
       "      <td>1</td>\n",
       "      <td>married</td>\n",
       "      <td>0</td>\n",
       "      <td>M</td>\n",
       "      <td>employee</td>\n",
       "      <td>0</td>\n",
       "      <td>23341.752</td>\n",
       "      <td>purchase of the house</td>\n",
       "    </tr>\n",
       "    <tr>\n",
       "      <th>3</th>\n",
       "      <td>3</td>\n",
       "      <td>-4124.747207</td>\n",
       "      <td>32</td>\n",
       "      <td>secondary education</td>\n",
       "      <td>1</td>\n",
       "      <td>married</td>\n",
       "      <td>0</td>\n",
       "      <td>M</td>\n",
       "      <td>employee</td>\n",
       "      <td>0</td>\n",
       "      <td>42820.568</td>\n",
       "      <td>supplementary education</td>\n",
       "    </tr>\n",
       "    <tr>\n",
       "      <th>4</th>\n",
       "      <td>0</td>\n",
       "      <td>340266.072047</td>\n",
       "      <td>53</td>\n",
       "      <td>secondary education</td>\n",
       "      <td>1</td>\n",
       "      <td>civil partnership</td>\n",
       "      <td>1</td>\n",
       "      <td>F</td>\n",
       "      <td>retiree</td>\n",
       "      <td>0</td>\n",
       "      <td>25378.572</td>\n",
       "      <td>to have a wedding</td>\n",
       "    </tr>\n",
       "    <tr>\n",
       "      <th>5</th>\n",
       "      <td>0</td>\n",
       "      <td>-926.185831</td>\n",
       "      <td>27</td>\n",
       "      <td>bachelor's degree</td>\n",
       "      <td>0</td>\n",
       "      <td>civil partnership</td>\n",
       "      <td>1</td>\n",
       "      <td>M</td>\n",
       "      <td>business</td>\n",
       "      <td>0</td>\n",
       "      <td>40922.170</td>\n",
       "      <td>purchase of the house</td>\n",
       "    </tr>\n",
       "    <tr>\n",
       "      <th>6</th>\n",
       "      <td>0</td>\n",
       "      <td>-2879.202052</td>\n",
       "      <td>43</td>\n",
       "      <td>bachelor's degree</td>\n",
       "      <td>0</td>\n",
       "      <td>married</td>\n",
       "      <td>0</td>\n",
       "      <td>F</td>\n",
       "      <td>business</td>\n",
       "      <td>0</td>\n",
       "      <td>38484.156</td>\n",
       "      <td>housing transactions</td>\n",
       "    </tr>\n",
       "    <tr>\n",
       "      <th>7</th>\n",
       "      <td>0</td>\n",
       "      <td>-152.779569</td>\n",
       "      <td>50</td>\n",
       "      <td>SECONDARY EDUCATION</td>\n",
       "      <td>1</td>\n",
       "      <td>married</td>\n",
       "      <td>0</td>\n",
       "      <td>M</td>\n",
       "      <td>employee</td>\n",
       "      <td>0</td>\n",
       "      <td>21731.829</td>\n",
       "      <td>education</td>\n",
       "    </tr>\n",
       "    <tr>\n",
       "      <th>8</th>\n",
       "      <td>2</td>\n",
       "      <td>-6929.865299</td>\n",
       "      <td>35</td>\n",
       "      <td>BACHELOR'S DEGREE</td>\n",
       "      <td>0</td>\n",
       "      <td>civil partnership</td>\n",
       "      <td>1</td>\n",
       "      <td>F</td>\n",
       "      <td>employee</td>\n",
       "      <td>0</td>\n",
       "      <td>15337.093</td>\n",
       "      <td>having a wedding</td>\n",
       "    </tr>\n",
       "    <tr>\n",
       "      <th>9</th>\n",
       "      <td>0</td>\n",
       "      <td>-2188.756445</td>\n",
       "      <td>41</td>\n",
       "      <td>secondary education</td>\n",
       "      <td>1</td>\n",
       "      <td>married</td>\n",
       "      <td>0</td>\n",
       "      <td>M</td>\n",
       "      <td>employee</td>\n",
       "      <td>0</td>\n",
       "      <td>23108.150</td>\n",
       "      <td>purchase of the house for my family</td>\n",
       "    </tr>\n",
       "  </tbody>\n",
       "</table>\n",
       "</div>"
      ],
      "text/plain": [
       "   children  days_employed  dob_years            education  education_id  \\\n",
       "0         1   -8437.673028         42    bachelor's degree             0   \n",
       "1         1   -4024.803754         36  secondary education             1   \n",
       "2         0   -5623.422610         33  Secondary Education             1   \n",
       "3         3   -4124.747207         32  secondary education             1   \n",
       "4         0  340266.072047         53  secondary education             1   \n",
       "5         0    -926.185831         27    bachelor's degree             0   \n",
       "6         0   -2879.202052         43    bachelor's degree             0   \n",
       "7         0    -152.779569         50  SECONDARY EDUCATION             1   \n",
       "8         2   -6929.865299         35    BACHELOR'S DEGREE             0   \n",
       "9         0   -2188.756445         41  secondary education             1   \n",
       "\n",
       "       family_status  family_status_id gender income_type  debt  total_income  \\\n",
       "0            married                 0      F    employee     0     40620.102   \n",
       "1            married                 0      F    employee     0     17932.802   \n",
       "2            married                 0      M    employee     0     23341.752   \n",
       "3            married                 0      M    employee     0     42820.568   \n",
       "4  civil partnership                 1      F     retiree     0     25378.572   \n",
       "5  civil partnership                 1      M    business     0     40922.170   \n",
       "6            married                 0      F    business     0     38484.156   \n",
       "7            married                 0      M    employee     0     21731.829   \n",
       "8  civil partnership                 1      F    employee     0     15337.093   \n",
       "9            married                 0      M    employee     0     23108.150   \n",
       "\n",
       "                               purpose  \n",
       "0                purchase of the house  \n",
       "1                         car purchase  \n",
       "2                purchase of the house  \n",
       "3              supplementary education  \n",
       "4                    to have a wedding  \n",
       "5                purchase of the house  \n",
       "6                 housing transactions  \n",
       "7                            education  \n",
       "8                     having a wedding  \n",
       "9  purchase of the house for my family  "
      ]
     },
     "execution_count": 3,
     "metadata": {},
     "output_type": "execute_result"
    }
   ],
   "source": [
    "# vamos a mostrar las primeras filas N\n",
    "df.head(10)"
   ]
  },
  {
   "cell_type": "code",
   "execution_count": 4,
   "id": "0995ef6b",
   "metadata": {},
   "outputs": [],
   "source": [
    "#los datos de la columna de days_employed, hay valores negativos y en la columna de education hay nombres con mayusculas y otros con minusculas"
   ]
  },
  {
   "cell_type": "code",
   "execution_count": 5,
   "id": "1c673452",
   "metadata": {},
   "outputs": [
    {
     "name": "stdout",
     "output_type": "stream",
     "text": [
      "<class 'pandas.core.frame.DataFrame'>\n",
      "RangeIndex: 21525 entries, 0 to 21524\n",
      "Data columns (total 12 columns):\n",
      " #   Column            Non-Null Count  Dtype  \n",
      "---  ------            --------------  -----  \n",
      " 0   children          21525 non-null  int64  \n",
      " 1   days_employed     19351 non-null  float64\n",
      " 2   dob_years         21525 non-null  int64  \n",
      " 3   education         21525 non-null  object \n",
      " 4   education_id      21525 non-null  int64  \n",
      " 5   family_status     21525 non-null  object \n",
      " 6   family_status_id  21525 non-null  int64  \n",
      " 7   gender            21525 non-null  object \n",
      " 8   income_type       21525 non-null  object \n",
      " 9   debt              21525 non-null  int64  \n",
      " 10  total_income      19351 non-null  float64\n",
      " 11  purpose           21525 non-null  object \n",
      "dtypes: float64(2), int64(5), object(5)\n",
      "memory usage: 2.0+ MB\n",
      "None\n"
     ]
    }
   ],
   "source": [
    "# Obtener información sobre los datos\n",
    "print(df.info())"
   ]
  },
  {
   "cell_type": "markdown",
   "id": "fd2d7ac7",
   "metadata": {},
   "source": [
    "`en la columna days_employed y total_income, hay valores ausentes`"
   ]
  },
  {
   "cell_type": "code",
   "execution_count": 6,
   "id": "d6baee30",
   "metadata": {},
   "outputs": [
    {
     "data": {
      "text/html": [
       "<div>\n",
       "<style scoped>\n",
       "    .dataframe tbody tr th:only-of-type {\n",
       "        vertical-align: middle;\n",
       "    }\n",
       "\n",
       "    .dataframe tbody tr th {\n",
       "        vertical-align: top;\n",
       "    }\n",
       "\n",
       "    .dataframe thead th {\n",
       "        text-align: right;\n",
       "    }\n",
       "</style>\n",
       "<table border=\"1\" class=\"dataframe\">\n",
       "  <thead>\n",
       "    <tr style=\"text-align: right;\">\n",
       "      <th></th>\n",
       "      <th>children</th>\n",
       "      <th>days_employed</th>\n",
       "      <th>dob_years</th>\n",
       "      <th>education</th>\n",
       "      <th>education_id</th>\n",
       "      <th>family_status</th>\n",
       "      <th>family_status_id</th>\n",
       "      <th>gender</th>\n",
       "      <th>income_type</th>\n",
       "      <th>debt</th>\n",
       "      <th>total_income</th>\n",
       "      <th>purpose</th>\n",
       "    </tr>\n",
       "  </thead>\n",
       "  <tbody>\n",
       "    <tr>\n",
       "      <th>12</th>\n",
       "      <td>0</td>\n",
       "      <td>NaN</td>\n",
       "      <td>65</td>\n",
       "      <td>secondary education</td>\n",
       "      <td>1</td>\n",
       "      <td>civil partnership</td>\n",
       "      <td>1</td>\n",
       "      <td>M</td>\n",
       "      <td>retiree</td>\n",
       "      <td>0</td>\n",
       "      <td>NaN</td>\n",
       "      <td>to have a wedding</td>\n",
       "    </tr>\n",
       "    <tr>\n",
       "      <th>26</th>\n",
       "      <td>0</td>\n",
       "      <td>NaN</td>\n",
       "      <td>41</td>\n",
       "      <td>secondary education</td>\n",
       "      <td>1</td>\n",
       "      <td>married</td>\n",
       "      <td>0</td>\n",
       "      <td>M</td>\n",
       "      <td>civil servant</td>\n",
       "      <td>0</td>\n",
       "      <td>NaN</td>\n",
       "      <td>education</td>\n",
       "    </tr>\n",
       "    <tr>\n",
       "      <th>29</th>\n",
       "      <td>0</td>\n",
       "      <td>NaN</td>\n",
       "      <td>63</td>\n",
       "      <td>secondary education</td>\n",
       "      <td>1</td>\n",
       "      <td>unmarried</td>\n",
       "      <td>4</td>\n",
       "      <td>F</td>\n",
       "      <td>retiree</td>\n",
       "      <td>0</td>\n",
       "      <td>NaN</td>\n",
       "      <td>building a real estate</td>\n",
       "    </tr>\n",
       "    <tr>\n",
       "      <th>41</th>\n",
       "      <td>0</td>\n",
       "      <td>NaN</td>\n",
       "      <td>50</td>\n",
       "      <td>secondary education</td>\n",
       "      <td>1</td>\n",
       "      <td>married</td>\n",
       "      <td>0</td>\n",
       "      <td>F</td>\n",
       "      <td>civil servant</td>\n",
       "      <td>0</td>\n",
       "      <td>NaN</td>\n",
       "      <td>second-hand car purchase</td>\n",
       "    </tr>\n",
       "    <tr>\n",
       "      <th>55</th>\n",
       "      <td>0</td>\n",
       "      <td>NaN</td>\n",
       "      <td>54</td>\n",
       "      <td>secondary education</td>\n",
       "      <td>1</td>\n",
       "      <td>civil partnership</td>\n",
       "      <td>1</td>\n",
       "      <td>F</td>\n",
       "      <td>retiree</td>\n",
       "      <td>1</td>\n",
       "      <td>NaN</td>\n",
       "      <td>to have a wedding</td>\n",
       "    </tr>\n",
       "    <tr>\n",
       "      <th>...</th>\n",
       "      <td>...</td>\n",
       "      <td>...</td>\n",
       "      <td>...</td>\n",
       "      <td>...</td>\n",
       "      <td>...</td>\n",
       "      <td>...</td>\n",
       "      <td>...</td>\n",
       "      <td>...</td>\n",
       "      <td>...</td>\n",
       "      <td>...</td>\n",
       "      <td>...</td>\n",
       "      <td>...</td>\n",
       "    </tr>\n",
       "    <tr>\n",
       "      <th>21489</th>\n",
       "      <td>2</td>\n",
       "      <td>NaN</td>\n",
       "      <td>47</td>\n",
       "      <td>Secondary Education</td>\n",
       "      <td>1</td>\n",
       "      <td>married</td>\n",
       "      <td>0</td>\n",
       "      <td>M</td>\n",
       "      <td>business</td>\n",
       "      <td>0</td>\n",
       "      <td>NaN</td>\n",
       "      <td>purchase of a car</td>\n",
       "    </tr>\n",
       "    <tr>\n",
       "      <th>21495</th>\n",
       "      <td>1</td>\n",
       "      <td>NaN</td>\n",
       "      <td>50</td>\n",
       "      <td>secondary education</td>\n",
       "      <td>1</td>\n",
       "      <td>civil partnership</td>\n",
       "      <td>1</td>\n",
       "      <td>F</td>\n",
       "      <td>employee</td>\n",
       "      <td>0</td>\n",
       "      <td>NaN</td>\n",
       "      <td>wedding ceremony</td>\n",
       "    </tr>\n",
       "    <tr>\n",
       "      <th>21497</th>\n",
       "      <td>0</td>\n",
       "      <td>NaN</td>\n",
       "      <td>48</td>\n",
       "      <td>BACHELOR'S DEGREE</td>\n",
       "      <td>0</td>\n",
       "      <td>married</td>\n",
       "      <td>0</td>\n",
       "      <td>F</td>\n",
       "      <td>business</td>\n",
       "      <td>0</td>\n",
       "      <td>NaN</td>\n",
       "      <td>building a property</td>\n",
       "    </tr>\n",
       "    <tr>\n",
       "      <th>21502</th>\n",
       "      <td>1</td>\n",
       "      <td>NaN</td>\n",
       "      <td>42</td>\n",
       "      <td>secondary education</td>\n",
       "      <td>1</td>\n",
       "      <td>married</td>\n",
       "      <td>0</td>\n",
       "      <td>F</td>\n",
       "      <td>employee</td>\n",
       "      <td>0</td>\n",
       "      <td>NaN</td>\n",
       "      <td>building a real estate</td>\n",
       "    </tr>\n",
       "    <tr>\n",
       "      <th>21510</th>\n",
       "      <td>2</td>\n",
       "      <td>NaN</td>\n",
       "      <td>28</td>\n",
       "      <td>secondary education</td>\n",
       "      <td>1</td>\n",
       "      <td>married</td>\n",
       "      <td>0</td>\n",
       "      <td>F</td>\n",
       "      <td>employee</td>\n",
       "      <td>0</td>\n",
       "      <td>NaN</td>\n",
       "      <td>car purchase</td>\n",
       "    </tr>\n",
       "  </tbody>\n",
       "</table>\n",
       "<p>2174 rows × 12 columns</p>\n",
       "</div>"
      ],
      "text/plain": [
       "       children  days_employed  dob_years            education  education_id  \\\n",
       "12            0            NaN         65  secondary education             1   \n",
       "26            0            NaN         41  secondary education             1   \n",
       "29            0            NaN         63  secondary education             1   \n",
       "41            0            NaN         50  secondary education             1   \n",
       "55            0            NaN         54  secondary education             1   \n",
       "...         ...            ...        ...                  ...           ...   \n",
       "21489         2            NaN         47  Secondary Education             1   \n",
       "21495         1            NaN         50  secondary education             1   \n",
       "21497         0            NaN         48    BACHELOR'S DEGREE             0   \n",
       "21502         1            NaN         42  secondary education             1   \n",
       "21510         2            NaN         28  secondary education             1   \n",
       "\n",
       "           family_status  family_status_id gender    income_type  debt  \\\n",
       "12     civil partnership                 1      M        retiree     0   \n",
       "26               married                 0      M  civil servant     0   \n",
       "29             unmarried                 4      F        retiree     0   \n",
       "41               married                 0      F  civil servant     0   \n",
       "55     civil partnership                 1      F        retiree     1   \n",
       "...                  ...               ...    ...            ...   ...   \n",
       "21489            married                 0      M       business     0   \n",
       "21495  civil partnership                 1      F       employee     0   \n",
       "21497            married                 0      F       business     0   \n",
       "21502            married                 0      F       employee     0   \n",
       "21510            married                 0      F       employee     0   \n",
       "\n",
       "       total_income                   purpose  \n",
       "12              NaN         to have a wedding  \n",
       "26              NaN                 education  \n",
       "29              NaN    building a real estate  \n",
       "41              NaN  second-hand car purchase  \n",
       "55              NaN         to have a wedding  \n",
       "...             ...                       ...  \n",
       "21489           NaN         purchase of a car  \n",
       "21495           NaN          wedding ceremony  \n",
       "21497           NaN       building a property  \n",
       "21502           NaN    building a real estate  \n",
       "21510           NaN              car purchase  \n",
       "\n",
       "[2174 rows x 12 columns]"
      ]
     },
     "execution_count": 6,
     "metadata": {},
     "output_type": "execute_result"
    }
   ],
   "source": [
    "# Veamos la tabla filtrada con valores ausentes de la primera columna donde faltan datos\n",
    "df.loc[(df['days_employed'].isna())&(df['total_income'].isna())]"
   ]
  },
  {
   "cell_type": "markdown",
   "id": "c7b25450",
   "metadata": {},
   "source": [
    "`los valores ausentes pueden ser simetricos ya que en el dataFrame sin valores ausentes es muy parecido al DataFrame con valores ausentes`"
   ]
  },
  {
   "cell_type": "code",
   "execution_count": 7,
   "id": "f6cf3179",
   "metadata": {},
   "outputs": [
    {
     "name": "stdout",
     "output_type": "stream",
     "text": [
      "89.90011614401858\n"
     ]
    },
    {
     "data": {
      "text/plain": [
       "children             0.000000\n",
       "days_employed       10.099884\n",
       "dob_years            0.000000\n",
       "education            0.000000\n",
       "education_id         0.000000\n",
       "family_status        0.000000\n",
       "family_status_id     0.000000\n",
       "gender               0.000000\n",
       "income_type          0.000000\n",
       "debt                 0.000000\n",
       "total_income        10.099884\n",
       "purpose              0.000000\n",
       "dtype: float64"
      ]
     },
     "execution_count": 7,
     "metadata": {},
     "output_type": "execute_result"
    }
   ],
   "source": [
    "# Apliquemos múltiples condiciones para filtrar datos y veamos el número de filas en la tabla filtrada.\n",
    "#el porcentaje de valores ausentes es \n",
    "val_aus = df.groupby('days_employed').size().count()\n",
    "val_total = len(df.index)\n",
    "porcent = (val_aus / val_total) * 100\n",
    "print(porcent)\n",
    "porcent_table = (df.isna().sum()/len(df) )*100\n",
    "porcent_table"
   ]
  },
  {
   "cell_type": "markdown",
   "id": "438833dd",
   "metadata": {},
   "source": [
    "`El porcentaje de valores ausentes es de casi el 12% del DataFrame, veamos si los valores ausentes dependiendo la columna`"
   ]
  },
  {
   "cell_type": "code",
   "execution_count": 8,
   "id": "6265891a",
   "metadata": {
    "scrolled": false
   },
   "outputs": [
    {
     "name": "stdout",
     "output_type": "stream",
     "text": [
      " 0     0.656814\n",
      " 1     0.224433\n",
      " 2     0.095654\n",
      " 3     0.015193\n",
      " 20    0.003462\n",
      "-1     0.002274\n",
      " 4     0.001757\n",
      " 5     0.000413\n",
      "Name: children, dtype: float64\n",
      "-8437.673028      0.000052\n",
      "-3507.818775      0.000052\n",
      " 354500.415854    0.000052\n",
      "-769.717438       0.000052\n",
      "-3963.590317      0.000052\n",
      "                    ...   \n",
      "-1099.957609      0.000052\n",
      "-209.984794       0.000052\n",
      " 398099.392433    0.000052\n",
      "-1271.038880      0.000052\n",
      "-1984.507589      0.000052\n",
      "Name: days_employed, Length: 19351, dtype: float64\n",
      "35    0.028577\n",
      "41    0.028319\n",
      "38    0.028112\n",
      "40    0.028061\n",
      "34    0.027595\n",
      "42    0.027492\n",
      "33    0.027389\n",
      "39    0.026975\n",
      "44    0.025993\n",
      "29    0.025580\n",
      "31    0.025580\n",
      "48    0.025425\n",
      "36    0.025425\n",
      "37    0.025012\n",
      "30    0.024908\n",
      "32    0.024443\n",
      "43    0.023926\n",
      "50    0.023926\n",
      "49    0.023668\n",
      "27    0.023616\n",
      "45    0.023100\n",
      "28    0.023048\n",
      "56    0.022376\n",
      "52    0.022273\n",
      "46    0.022066\n",
      "54    0.021911\n",
      "47    0.021756\n",
      "53    0.021446\n",
      "59    0.021188\n",
      "58    0.020929\n",
      "57    0.020877\n",
      "51    0.020567\n",
      "55    0.020412\n",
      "26    0.019275\n",
      "60    0.017467\n",
      "25    0.017260\n",
      "61    0.016382\n",
      "62    0.016227\n",
      "24    0.012557\n",
      "63    0.012402\n",
      "64    0.011782\n",
      "23    0.011266\n",
      "65    0.008992\n",
      "22    0.008578\n",
      "66    0.008423\n",
      "67    0.007803\n",
      "21    0.004806\n",
      "0     0.004703\n",
      "68    0.004651\n",
      "69    0.004134\n",
      "70    0.003204\n",
      "71    0.002739\n",
      "20    0.002377\n",
      "72    0.001602\n",
      "19    0.000672\n",
      "73    0.000362\n",
      "74    0.000310\n",
      "75    0.000052\n",
      "Name: dob_years, dtype: float64\n",
      "secondary education    0.637796\n",
      "bachelor's degree      0.218180\n",
      "SECONDARY EDUCATION    0.036432\n",
      "Secondary Education    0.033383\n",
      "some college           0.031678\n",
      "BACHELOR'S DEGREE      0.012971\n",
      "Bachelor's Degree      0.012557\n",
      "primary education      0.011937\n",
      "Some College           0.002067\n",
      "SOME COLLEGE           0.001137\n",
      "PRIMARY EDUCATION      0.000827\n",
      "Primary Education      0.000723\n",
      "graduate degree        0.000207\n",
      "Graduate Degree        0.000052\n",
      "GRADUATE DEGREE        0.000052\n",
      "Name: education, dtype: float64\n",
      "1    0.707612\n",
      "0    0.243708\n",
      "2    0.034882\n",
      "3    0.013488\n",
      "4    0.000310\n",
      "Name: education_id, dtype: float64\n",
      "married              0.575836\n",
      "civil partnership    0.193013\n",
      "unmarried            0.130484\n",
      "divorced             0.055966\n",
      "widow / widower      0.044701\n",
      "Name: family_status, dtype: float64\n",
      "0    0.575836\n",
      "1    0.193013\n",
      "4    0.130484\n",
      "3    0.055966\n",
      "2    0.044701\n",
      "Name: family_status_id, dtype: float64\n",
      "F      0.658984\n",
      "M      0.340964\n",
      "XNA    0.000052\n",
      "Name: gender, dtype: float64\n",
      "employee                       0.517493\n",
      "business                       0.236525\n",
      "retiree                        0.177924\n",
      "civil servant                  0.067800\n",
      "unemployed                     0.000103\n",
      "student                        0.000052\n",
      "entrepreneur                   0.000052\n",
      "paternity / maternity leave    0.000052\n",
      "Name: income_type, dtype: float64\n",
      "0    0.918816\n",
      "1    0.081184\n",
      "Name: debt, dtype: float64\n",
      "17312.717    0.000103\n",
      "42413.096    0.000103\n",
      "31791.384    0.000103\n",
      "21005.772    0.000052\n",
      "18591.443    0.000052\n",
      "               ...   \n",
      "27020.895    0.000052\n",
      "23686.835    0.000052\n",
      "9606.294     0.000052\n",
      "28156.762    0.000052\n",
      "13127.587    0.000052\n",
      "Name: total_income, Length: 19348, dtype: float64\n",
      "wedding ceremony                            0.037259\n",
      "to have a wedding                           0.035812\n",
      "having a wedding                            0.035399\n",
      "real estate transactions                    0.031781\n",
      "buy commercial real estate                  0.030851\n",
      "purchase of the house                       0.030748\n",
      "buying property for renting out             0.030386\n",
      "housing                                     0.030334\n",
      "transactions with commercial real estate    0.030024\n",
      "building a real estate                      0.029973\n",
      "housing transactions                        0.029921\n",
      "purchase of my own house                    0.029663\n",
      "property                                    0.029559\n",
      "purchase of the house for my family         0.029456\n",
      "building a property                         0.028991\n",
      "construction of own property                0.028939\n",
      "transactions with my real estate            0.028887\n",
      "buy real estate                             0.028526\n",
      "buy residential real estate                 0.028216\n",
      "housing renovation                          0.028009\n",
      "car                                         0.023461\n",
      "buying my own car                           0.023358\n",
      "to buy a car                                0.022841\n",
      "going to university                         0.022738\n",
      "buying a second-hand car                    0.022583\n",
      "second-hand car purchase                    0.022479\n",
      "to own a car                                0.022118\n",
      "cars                                        0.021756\n",
      "car purchase                                0.021653\n",
      "supplementary education                     0.021394\n",
      "university education                        0.021343\n",
      "purchase of a car                           0.021136\n",
      "education                                   0.020929\n",
      "to get a supplementary education            0.020464\n",
      "getting an education                        0.020309\n",
      "getting higher education                    0.020154\n",
      "profile education                           0.020102\n",
      "to become educated                          0.018449\n",
      "Name: purpose, dtype: float64\n",
      " 0     0.657329\n",
      " 1     0.223833\n",
      " 2     0.095470\n",
      " 3     0.015331\n",
      " 20    0.003531\n",
      "-1     0.002184\n",
      " 4     0.001905\n",
      " 5     0.000418\n",
      "Name: children, dtype: float64\n",
      "-8437.673028      0.000052\n",
      "-3507.818775      0.000052\n",
      " 354500.415854    0.000052\n",
      "-769.717438       0.000052\n",
      "-3963.590317      0.000052\n",
      "                    ...   \n",
      "-1099.957609      0.000052\n",
      "-209.984794       0.000052\n",
      " 398099.392433    0.000052\n",
      "-1271.038880      0.000052\n",
      "-1984.507589      0.000052\n",
      "Name: days_employed, Length: 19351, dtype: float64\n",
      "35    0.028664\n",
      "40    0.028293\n",
      "41    0.028200\n",
      "34    0.028014\n",
      "38    0.027782\n",
      "42    0.027735\n",
      "33    0.026992\n",
      "39    0.026620\n",
      "31    0.026016\n",
      "36    0.025784\n",
      "44    0.025412\n",
      "29    0.025319\n",
      "30    0.025087\n",
      "48    0.024994\n",
      "37    0.024948\n",
      "50    0.023879\n",
      "43    0.023833\n",
      "32    0.023693\n",
      "49    0.023600\n",
      "28    0.023368\n",
      "45    0.023089\n",
      "27    0.022904\n",
      "56    0.022625\n",
      "52    0.022485\n",
      "47    0.022300\n",
      "54    0.022253\n",
      "46    0.022067\n",
      "58    0.021417\n",
      "57    0.021370\n",
      "53    0.021324\n",
      "51    0.020813\n",
      "59    0.020627\n",
      "55    0.020581\n",
      "26    0.018955\n",
      "60    0.017515\n",
      "25    0.016585\n",
      "61    0.016492\n",
      "62    0.016353\n",
      "63    0.012497\n",
      "64    0.012311\n",
      "24    0.012265\n",
      "23    0.011800\n",
      "65    0.009013\n",
      "22    0.008502\n",
      "66    0.008502\n",
      "67    0.007758\n",
      "21    0.005157\n",
      "0     0.004692\n",
      "68    0.004599\n",
      "69    0.003949\n",
      "70    0.003020\n",
      "71    0.002695\n",
      "20    0.002369\n",
      "72    0.001533\n",
      "19    0.000650\n",
      "73    0.000372\n",
      "74    0.000279\n",
      "75    0.000046\n",
      "Name: dob_years, dtype: float64\n",
      "secondary education    0.638792\n",
      "bachelor's degree      0.219187\n",
      "SECONDARY EDUCATION    0.035865\n",
      "Secondary Education    0.033031\n",
      "some college           0.031034\n",
      "BACHELOR'S DEGREE      0.012729\n",
      "Bachelor's Degree      0.012451\n",
      "primary education      0.011614\n",
      "Some College           0.002184\n",
      "SOME COLLEGE           0.001347\n",
      "PRIMARY EDUCATION      0.000790\n",
      "Primary Education      0.000697\n",
      "graduate degree        0.000186\n",
      "Graduate Degree        0.000046\n",
      "GRADUATE DEGREE        0.000046\n",
      "Name: education, dtype: float64\n",
      "1    0.707689\n",
      "0    0.244367\n",
      "2    0.034564\n",
      "3    0.013101\n",
      "4    0.000279\n",
      "Name: education_id, dtype: float64\n",
      "married              0.575145\n",
      "civil partnership    0.194053\n",
      "unmarried            0.130685\n",
      "divorced             0.055517\n",
      "widow / widower      0.044599\n",
      "Name: family_status, dtype: float64\n",
      "0    0.575145\n",
      "1    0.194053\n",
      "4    0.130685\n",
      "3    0.055517\n",
      "2    0.044599\n",
      "Name: family_status_id, dtype: float64\n",
      "F      0.661370\n",
      "M      0.338583\n",
      "XNA    0.000046\n",
      "Name: gender, dtype: float64\n",
      "employee                       0.516562\n",
      "business                       0.236237\n",
      "retiree                        0.179141\n",
      "civil servant                  0.067782\n",
      "unemployed                     0.000093\n",
      "entrepreneur                   0.000093\n",
      "student                        0.000046\n",
      "paternity / maternity leave    0.000046\n",
      "Name: income_type, dtype: float64\n",
      "0    0.919117\n",
      "1    0.080883\n",
      "Name: debt, dtype: float64\n",
      "17312.717    0.000103\n",
      "42413.096    0.000103\n",
      "31791.384    0.000103\n",
      "21005.772    0.000052\n",
      "18591.443    0.000052\n",
      "               ...   \n",
      "27020.895    0.000052\n",
      "23686.835    0.000052\n",
      "9606.294     0.000052\n",
      "28156.762    0.000052\n",
      "13127.587    0.000052\n",
      "Name: total_income, Length: 19348, dtype: float64\n",
      "wedding ceremony                            0.037027\n",
      "having a wedding                            0.036098\n",
      "to have a wedding                           0.035958\n",
      "real estate transactions                    0.031405\n",
      "buy commercial real estate                  0.030848\n",
      "buying property for renting out             0.030337\n",
      "housing transactions                        0.030337\n",
      "transactions with commercial real estate    0.030244\n",
      "purchase of the house                       0.030058\n",
      "housing                                     0.030058\n",
      "purchase of the house for my family         0.029779\n",
      "construction of own property                0.029501\n",
      "property                                    0.029454\n",
      "transactions with my real estate            0.029268\n",
      "building a real estate                      0.029082\n",
      "buy real estate                             0.028990\n",
      "building a property                         0.028804\n",
      "purchase of my own house                    0.028804\n",
      "housing renovation                          0.028432\n",
      "buy residential real estate                 0.028200\n",
      "buying my own car                           0.023461\n",
      "going to university                         0.023043\n",
      "car                                         0.022997\n",
      "second-hand car purchase                    0.022718\n",
      "to own a car                                0.022300\n",
      "buying a second-hand car                    0.022253\n",
      "cars                                        0.022207\n",
      "to buy a car                                0.021928\n",
      "supplementary education                     0.021463\n",
      "car purchase                                0.021463\n",
      "purchase of a car                           0.021138\n",
      "university education                        0.021045\n",
      "education                                   0.020767\n",
      "to get a supplementary education            0.020767\n",
      "getting an education                        0.020581\n",
      "profile education                           0.020256\n",
      "getting higher education                    0.019791\n",
      "to become educated                          0.019141\n",
      "Name: purpose, dtype: float64\n"
     ]
    }
   ],
   "source": [
    "# Vamos a investigar a los clientes que no tienen datos sobre la característica identificada y la columna con los valores ausentes\n",
    "\n",
    "df_without_nan = df.dropna() #aplicamos .dropna() para eliminar los valores ausentes\n",
    "\n",
    "for column in df_without_nan:\n",
    "    print(df_without_nan[column].value_counts(normalize = True)) #Pasamos el bucle for para cada columna sin valores ausentes\n",
    "\n",
    "for column in df:\n",
    "    print(df[column].value_counts(normalize = True)) #Pasamos el bucle for para cada columna con valores ausentes"
   ]
  },
  {
   "cell_type": "markdown",
   "id": "810460c9",
   "metadata": {},
   "source": [
    "`creamos un nuevo DataFrame sin valores ausentes y recorremos cada columna con un bucle for y le pasamos la funcion value_counts para saber la frecuencia relativa en cada columna, hacemos lo mismo con el DataFrame con valores ausentes` "
   ]
  },
  {
   "cell_type": "code",
   "execution_count": 9,
   "id": "3aa0bfb3",
   "metadata": {},
   "outputs": [],
   "source": [
    "# Comprobación de la distribución\n",
    "\n",
    "difference_children = df_without_nan['children'].value_counts(normalize = True) / df['children'].value_counts(normalize = True)\n",
    "difference_days_employed = df_without_nan['days_employed'].value_counts(normalize = True) / df['days_employed'].value_counts(normalize = True)\n",
    "difference_dob_years = df_without_nan['dob_years'].value_counts(normalize = True) / df['dob_years'].value_counts(normalize = True)\n",
    "difference_education = df_without_nan['education'].value_counts(normalize = True) / df['education'].value_counts(normalize = True)\n",
    "difference_education_id = df_without_nan['education_id'].value_counts(normalize = True) / df['education_id'].value_counts(normalize = True)\n",
    "difference_family_status = df_without_nan['family_status'].value_counts(normalize = True) / df['family_status'].value_counts(normalize = True)\n",
    "difference_family_status_id = df_without_nan['family_status_id'].value_counts(normalize = True) / df['family_status_id'].value_counts(normalize = True)\n",
    "difference_gender = df_without_nan['gender'].value_counts(normalize = True) / df['gender'].value_counts(normalize = True)\n",
    "difference_income_type = df_without_nan['income_type'].value_counts(normalize = True) / df['income_type'].value_counts(normalize = True)\n",
    "difference_debt = df_without_nan['debt'].value_counts(normalize = True) / df['debt'].value_counts(normalize = True)\n",
    "difference_total_income = df_without_nan['total_income'].value_counts(normalize = True) / df['total_income'].value_counts(normalize = True)\n",
    "difference_purpose = df_without_nan['purpose'].value_counts(normalize = True) / df['purpose'].value_counts(normalize = True)"
   ]
  },
  {
   "cell_type": "markdown",
   "id": "00640c32",
   "metadata": {},
   "source": [
    "`al realizar la division entre la misma columna de los dos DataFrame podemos observar que entre mas se acerque a 1, eso quiere decir que los valores de cada DataFrame no diferencia mucho`"
   ]
  },
  {
   "cell_type": "code",
   "execution_count": 10,
   "id": "e391a14b",
   "metadata": {},
   "outputs": [
    {
     "name": "stdout",
     "output_type": "stream",
     "text": [
      " 0     0.999216\n",
      " 1     1.002681\n",
      " 2     1.001923\n",
      " 3     0.990999\n",
      " 20    0.980620\n",
      "-1     1.041345\n",
      " 4     0.922433\n",
      " 5     0.988752\n",
      "Name: children, dtype: float64\n",
      "\n",
      "-8437.673028      1.0\n",
      "-3507.818775      1.0\n",
      " 354500.415854    1.0\n",
      "-769.717438       1.0\n",
      "-3963.590317      1.0\n",
      "                 ... \n",
      "-1099.957609      1.0\n",
      "-209.984794       1.0\n",
      " 398099.392433    1.0\n",
      "-1271.038880      1.0\n",
      "-1984.507589      1.0\n",
      "Name: days_employed, Length: 19351, dtype: float64\n",
      "\n",
      "0     1.002212\n",
      "19    1.032892\n",
      "20    1.003292\n",
      "21    0.931965\n",
      "22    1.009013\n",
      "23    0.954690\n",
      "24    1.023864\n",
      "25    1.040682\n",
      "26    1.016924\n",
      "27    1.031120\n",
      "28    0.986295\n",
      "29    1.010296\n",
      "30    0.992871\n",
      "31    0.983234\n",
      "32    1.031646\n",
      "33    1.014704\n",
      "34    0.985062\n",
      "35    0.996965\n",
      "36    0.986079\n",
      "37    1.002561\n",
      "38    1.011900\n",
      "39    1.013341\n",
      "40    0.991796\n",
      "41    1.004226\n",
      "42    0.991236\n",
      "43    1.003930\n",
      "44    1.022870\n",
      "45    1.000440\n",
      "46    0.999940\n",
      "47    0.975620\n",
      "48    1.017238\n",
      "49    1.002863\n",
      "50    1.001977\n",
      "51    0.988200\n",
      "52    0.990539\n",
      "53    1.005716\n",
      "54    0.984623\n",
      "55    0.991821\n",
      "56    0.989005\n",
      "57    0.976930\n",
      "58    0.977223\n",
      "59    1.027166\n",
      "60    0.997275\n",
      "61    0.993278\n",
      "62    0.992263\n",
      "63    0.992427\n",
      "64    0.957037\n",
      "65    0.997671\n",
      "66    0.990778\n",
      "67    1.005774\n",
      "68    1.011223\n",
      "69    1.046914\n",
      "70    1.061007\n",
      "71    1.016454\n",
      "72    1.044931\n",
      "73    0.973302\n",
      "74    1.112346\n",
      "75    1.112346\n",
      "Name: dob_years, dtype: float64\n",
      "\n",
      "secondary education    0.998441\n",
      "bachelor's degree      0.995406\n",
      "SECONDARY EDUCATION    1.015808\n",
      "Secondary Education    1.010654\n",
      "some college           1.020760\n",
      "BACHELOR'S DEGREE      1.018974\n",
      "Bachelor's Degree      1.008582\n",
      "primary education      1.027807\n",
      "Some College           0.946677\n",
      "SOME COLLEGE           0.843848\n",
      "PRIMARY EDUCATION      1.046914\n",
      "Primary Education      1.038189\n",
      "graduate degree        1.112346\n",
      "Graduate Degree        1.112346\n",
      "GRADUATE DEGREE        1.112346\n",
      "Name: education, dtype: float64\n",
      "\n",
      "1    0.999892\n",
      "0    0.997305\n",
      "2    1.009185\n",
      "3    1.029511\n",
      "4    1.112346\n",
      "Name: education_id, dtype: float64\n",
      "\n",
      "married              1.001201\n",
      "civil partnership    0.994640\n",
      "unmarried            0.998462\n",
      "divorced             1.008092\n",
      "widow / widower      1.002270\n",
      "Name: family_status, dtype: float64\n",
      "\n",
      "0    1.001201\n",
      "1    0.994640\n",
      "4    0.998462\n",
      "3    1.008092\n",
      "2    1.002270\n",
      "Name: family_status_id, dtype: float64\n",
      "\n",
      "F      0.996392\n",
      "M      1.007033\n",
      "XNA    1.112346\n",
      "Name: gender, dtype: float64\n",
      "\n",
      "business                       1.001220\n",
      "civil servant                  1.000272\n",
      "employee                       1.001801\n",
      "entrepreneur                   0.556173\n",
      "paternity / maternity leave    1.112346\n",
      "retiree                        0.993207\n",
      "student                        1.112346\n",
      "unemployed                     1.112346\n",
      "Name: income_type, dtype: float64\n",
      "\n",
      "0    0.999672\n",
      "1    1.003731\n",
      "Name: debt, dtype: float64\n",
      "\n",
      "17312.717    1.0\n",
      "42413.096    1.0\n",
      "31791.384    1.0\n",
      "21005.772    1.0\n",
      "18591.443    1.0\n",
      "            ... \n",
      "27020.895    1.0\n",
      "23686.835    1.0\n",
      "9606.294     1.0\n",
      "28156.762    1.0\n",
      "13127.587    1.0\n",
      "Name: total_income, Length: 19348, dtype: float64\n",
      "\n",
      "building a property                         1.006493\n",
      "building a real estate                      1.030608\n",
      "buy commercial real estate                  1.000106\n",
      "buy real estate                             0.983998\n",
      "buy residential real estate                 1.000561\n",
      "buying a second-hand car                    1.014812\n",
      "buying my own car                           0.995604\n",
      "buying property for renting out             1.001622\n",
      "car                                         1.020212\n",
      "car purchase                                1.008816\n",
      "cars                                        0.979702\n",
      "construction of own property                0.980966\n",
      "education                                   1.007830\n",
      "getting an education                        0.986799\n",
      "getting higher education                    1.018345\n",
      "going to university                         0.986758\n",
      "having a wedding                            0.980639\n",
      "housing                                     1.009191\n",
      "housing renovation                          0.985117\n",
      "housing transactions                        0.986291\n",
      "profile education                           0.992437\n",
      "property                                    1.003567\n",
      "purchase of a car                           0.999889\n",
      "purchase of my own house                    1.029817\n",
      "purchase of the house                       1.022945\n",
      "purchase of the house for my family         0.989137\n",
      "real estate transactions                    1.011971\n",
      "second-hand car purchase                    0.989510\n",
      "supplementary education                     0.996777\n",
      "to become educated                          0.963853\n",
      "to buy a car                                1.041646\n",
      "to get a supplementary education            0.985434\n",
      "to have a wedding                           0.995937\n",
      "to own a car                                0.991842\n",
      "transactions with commercial real estate    0.992739\n",
      "transactions with my real estate            0.986986\n",
      "university education                        1.014125\n",
      "wedding ceremony                            1.006275\n",
      "Name: purpose, dtype: float64\n"
     ]
    }
   ],
   "source": [
    "# Comprobando la distribución en el conjunto de datos entero\n",
    "\n",
    "print(difference_children)\n",
    "print()\n",
    "print(difference_days_employed)\n",
    "print()\n",
    "print(difference_dob_years)\n",
    "print()\n",
    "print(difference_education)\n",
    "print()\n",
    "print(difference_education_id)\n",
    "print()\n",
    "print(difference_family_status)\n",
    "print()\n",
    "print(difference_family_status_id)\n",
    "print()\n",
    "print(difference_gender)\n",
    "print()\n",
    "print(difference_income_type)\n",
    "print()\n",
    "print(difference_debt)\n",
    "print()\n",
    "print(difference_total_income)\n",
    "print()\n",
    "print(difference_purpose)"
   ]
  },
  {
   "cell_type": "markdown",
   "id": "71c361d7",
   "metadata": {},
   "source": [
    "`Ya que la diferencia no se aleja mucho de 1, esto quiere decir que son similares \n",
    "Esto quiere decir que los valores ausentes son del tipo aleatorio `"
   ]
  },
  {
   "cell_type": "code",
   "execution_count": 11,
   "id": "a9e63c2a",
   "metadata": {
    "scrolled": true
   },
   "outputs": [
    {
     "name": "stdout",
     "output_type": "stream",
     "text": [
      "business                       1.001220\n",
      "civil servant                  1.000272\n",
      "employee                       1.001801\n",
      "entrepreneur                   0.556173\n",
      "paternity / maternity leave    1.112346\n",
      "retiree                        0.993207\n",
      "student                        1.112346\n",
      "unemployed                     1.112346\n",
      "Name: income_type, dtype: float64\n"
     ]
    }
   ],
   "source": [
    "# Comprobación de otros patrones: explica cuáles\n",
    "print(difference_income_type)"
   ]
  },
  {
   "cell_type": "markdown",
   "id": "a428d176",
   "metadata": {},
   "source": [
    "`Podemos ver que hay una diferencia casi de la mitad para los emprendedores, esto podria ser una patron en los valores ausentes`"
   ]
  },
  {
   "cell_type": "markdown",
   "id": "c0239a0b",
   "metadata": {},
   "source": [
    "## 3 Transformación de datos "
   ]
  },
  {
   "cell_type": "code",
   "execution_count": 12,
   "id": "18d034b6",
   "metadata": {},
   "outputs": [
    {
     "name": "stdout",
     "output_type": "stream",
     "text": [
      "secondary education    13750\n",
      "bachelor's degree       4718\n",
      "SECONDARY EDUCATION      772\n",
      "Secondary Education      711\n",
      "some college             668\n",
      "BACHELOR'S DEGREE        274\n",
      "Bachelor's Degree        268\n",
      "primary education        250\n",
      "Some College              47\n",
      "SOME COLLEGE              29\n",
      "PRIMARY EDUCATION         17\n",
      "Primary Education         15\n",
      "graduate degree            4\n",
      "Graduate Degree            1\n",
      "GRADUATE DEGREE            1\n",
      "Name: education, dtype: int64\n"
     ]
    }
   ],
   "source": [
    "# Veamos todos los valores en la columna de educación para verificar si será necesario corregir la ortografía y qué habrá que corregir exactamente\n",
    "print(df['education'].value_counts())"
   ]
  },
  {
   "cell_type": "code",
   "execution_count": 13,
   "id": "d9381cde",
   "metadata": {},
   "outputs": [],
   "source": [
    "# Arregla los registros si es necesario\n",
    "df['education'] = df['education'].str.lower()"
   ]
  },
  {
   "cell_type": "code",
   "execution_count": 14,
   "id": "e2b8a1fb",
   "metadata": {
    "scrolled": true
   },
   "outputs": [
    {
     "name": "stdout",
     "output_type": "stream",
     "text": [
      "secondary education    15233\n",
      "bachelor's degree       5260\n",
      "some college             744\n",
      "primary education        282\n",
      "graduate degree            6\n",
      "Name: education, dtype: int64\n"
     ]
    }
   ],
   "source": [
    "# Comprobar todos los valores en la columna para asegurarnos de que los hayamos corregido\n",
    "print(df['education'].value_counts())"
   ]
  },
  {
   "cell_type": "code",
   "execution_count": 15,
   "id": "e31b15b8",
   "metadata": {
    "scrolled": true
   },
   "outputs": [
    {
     "data": {
      "text/plain": [
       "children\n",
       " 0     14149\n",
       " 1      4818\n",
       " 2      2055\n",
       " 3       330\n",
       " 20       76\n",
       "-1        47\n",
       " 4        41\n",
       " 5         9\n",
       "dtype: int64"
      ]
     },
     "execution_count": 15,
     "metadata": {},
     "output_type": "execute_result"
    }
   ],
   "source": [
    "# Veamos la distribución de los valores en la columna `children`\n",
    "df.value_counts('children')"
   ]
  },
  {
   "cell_type": "code",
   "execution_count": 16,
   "id": "3cbc25dd",
   "metadata": {},
   "outputs": [],
   "source": [
    "# [arregla los datos según tu decisión]\n",
    "df.loc[df['children'] == -1, 'children'] = 1\n",
    "df.loc[df['children'] == 20, 'children'] = 2"
   ]
  },
  {
   "cell_type": "code",
   "execution_count": 17,
   "id": "fb21b5b6",
   "metadata": {
    "scrolled": false
   },
   "outputs": [
    {
     "data": {
      "text/plain": [
       "children\n",
       "0    14149\n",
       "1     4865\n",
       "2     2131\n",
       "3      330\n",
       "4       41\n",
       "5        9\n",
       "dtype: int64"
      ]
     },
     "execution_count": 17,
     "metadata": {},
     "output_type": "execute_result"
    }
   ],
   "source": [
    "# Comprobar la columna `children` de nuevo para asegurarnos de que todo está arreglado\n",
    "df.value_counts('children')"
   ]
  },
  {
   "cell_type": "markdown",
   "id": "0fcdf16b",
   "metadata": {},
   "source": [
    "`-No puede haber valores negativos, 20 hijos es un valor muy improblable.\n",
    " -Los datos negativos se pueden convertir en positivos, el numero de 20 hijos posiblemente sea un error humano y en vez de poner 2 hijos puedieron 20`"
   ]
  },
  {
   "cell_type": "code",
   "execution_count": 18,
   "id": "ec1262fa",
   "metadata": {},
   "outputs": [
    {
     "name": "stdout",
     "output_type": "stream",
     "text": [
      "-8437.673028      1\n",
      "-3507.818775      1\n",
      " 354500.415854    1\n",
      "-769.717438       1\n",
      "-3963.590317      1\n",
      "                 ..\n",
      "-1099.957609      1\n",
      "-209.984794       1\n",
      " 398099.392433    1\n",
      "-1271.038880      1\n",
      "-1984.507589      1\n",
      "Name: days_employed, Length: 19351, dtype: int64\n"
     ]
    }
   ],
   "source": [
    "# Encuentra datos problemáticos en `days_employed`, si existen, y calcula el porcentaje\n",
    "print(df['days_employed'].value_counts())"
   ]
  },
  {
   "cell_type": "markdown",
   "id": "180e3c8c",
   "metadata": {},
   "source": [
    "- La entrada indica que son valores enteros y no float \n",
    "- hay valores negativos"
   ]
  },
  {
   "cell_type": "code",
   "execution_count": 19,
   "id": "b573fbc1",
   "metadata": {},
   "outputs": [],
   "source": [
    "# Aborda los valores problemáticos, si existen.\n",
    "df['days_employed'] = df['days_employed'].abs()\n",
    "df['days_employed'] = df['days_employed'].astype('float64')"
   ]
  },
  {
   "cell_type": "code",
   "execution_count": 20,
   "id": "7bcb8e26",
   "metadata": {
    "scrolled": false
   },
   "outputs": [
    {
     "name": "stdout",
     "output_type": "stream",
     "text": [
      "0      8437.673028\n",
      "1      4024.803754\n",
      "2      5623.422610\n",
      "3      4124.747207\n",
      "4    340266.072047\n",
      "5       926.185831\n",
      "6      2879.202052\n",
      "7       152.779569\n",
      "8      6929.865299\n",
      "9      2188.756445\n",
      "Name: days_employed, dtype: float64\n"
     ]
    }
   ],
   "source": [
    "# Comprueba el resultado - asegúrate de que esté arreglado\n",
    "print(df['days_employed'].head(10))"
   ]
  },
  {
   "cell_type": "code",
   "execution_count": 21,
   "id": "b982c6b2",
   "metadata": {},
   "outputs": [
    {
     "data": {
      "image/png": "[encoded data removed]",
      "text/plain": [
       "<Figure size 432x288 with 1 Axes>"
      ]
     },
     "metadata": {
      "needs_background": "light"
     },
     "output_type": "display_data"
    }
   ],
   "source": [
    "my_plot = df.plot(\"dob_years\", \"days_employed\", kind=\"scatter\")\n",
    "plt.show()"
   ]
  },
  {
   "cell_type": "markdown",
   "id": "c0e7e7ae",
   "metadata": {},
   "source": [
    "-los valores mayores de 300000 no son probables, estos se cambiaran por la media de los valores menores a 5000"
   ]
  },
  {
   "cell_type": "code",
   "execution_count": 22,
   "id": "296bd5d6",
   "metadata": {
    "scrolled": true
   },
   "outputs": [
    {
     "name": "stdout",
     "output_type": "stream",
     "text": [
      "401755.40047533\n",
      "2194.220566878695\n"
     ]
    }
   ],
   "source": [
    "print(df['days_employed'].max())\n",
    "print(df['days_employed'].median())"
   ]
  },
  {
   "cell_type": "code",
   "execution_count": 23,
   "id": "da4878dd",
   "metadata": {},
   "outputs": [
    {
     "name": "stdout",
     "output_type": "stream",
     "text": [
      "18388.949900568383\n",
      "24.14163324048118\n",
      "2353.015931998879\n",
      "1630.0193809778218\n"
     ]
    }
   ],
   "source": [
    "days_employed_greater = df[df['days_employed'] <= 50000]\n",
    "days_employed_avg = days_employed_greater['days_employed'].mean()\n",
    "days_employed_med = days_employed_greater['days_employed'].median()\n",
    "print(days_employed_greater['days_employed'].max())\n",
    "print(days_employed_greater['days_employed'].min())\n",
    "print(days_employed_avg)\n",
    "print(days_employed_med)"
   ]
  },
  {
   "cell_type": "code",
   "execution_count": 24,
   "id": "8dc345d7",
   "metadata": {},
   "outputs": [],
   "source": [
    "#sustituimos los valores mayores a 30000 por la media de los valores debajo de 5000\n",
    "df.loc[df['days_employed'] > 300000, 'days_employed'] = days_employed_avg"
   ]
  },
  {
   "cell_type": "code",
   "execution_count": 25,
   "id": "f253853c",
   "metadata": {
    "scrolled": true
   },
   "outputs": [
    {
     "data": {
      "text/plain": [
       "0        8437.673028\n",
       "1        4024.803754\n",
       "2        5623.422610\n",
       "3        4124.747207\n",
       "4        2353.015932\n",
       "            ...     \n",
       "21520    4529.316663\n",
       "21521    2353.015932\n",
       "21522    2113.346888\n",
       "21523    3112.481705\n",
       "21524    1984.507589\n",
       "Name: days_employed, Length: 21525, dtype: float64"
      ]
     },
     "execution_count": 25,
     "metadata": {},
     "output_type": "execute_result"
    }
   ],
   "source": [
    "df['days_employed']"
   ]
  },
  {
   "cell_type": "code",
   "execution_count": 26,
   "id": "14d021f3",
   "metadata": {
    "scrolled": false
   },
   "outputs": [
    {
     "data": {
      "image/png": "[encoded data removed]",
      "text/plain": [
       "<Figure size 432x288 with 1 Axes>"
      ]
     },
     "metadata": {
      "needs_background": "light"
     },
     "output_type": "display_data"
    },
    {
     "name": "stdout",
     "output_type": "stream",
     "text": [
      "24.14163324048118\n",
      "18388.949900568383\n",
      "2194.220566878695\n",
      "2353.0159319989175\n"
     ]
    }
   ],
   "source": [
    "my_plot = df.plot(\"dob_years\", \"days_employed\", kind=\"scatter\")\n",
    "plt.show()\n",
    "\n",
    "print(df['days_employed'].min())\n",
    "print(df['days_employed'].max())\n",
    "print(df['days_employed'].median())\n",
    "print(df['days_employed'].mean())"
   ]
  },
  {
   "cell_type": "markdown",
   "id": "58b2b12b",
   "metadata": {},
   "source": [
    "- Podemos ver una distribución mas constante, ya que entre mas años tenga el cliente es mas su experiencia trabajando"
   ]
  },
  {
   "cell_type": "code",
   "execution_count": 27,
   "id": "b88ddefe",
   "metadata": {
    "scrolled": true
   },
   "outputs": [
    {
     "name": "stdout",
     "output_type": "stream",
     "text": [
      "0\n",
      "75\n",
      "42.0\n",
      "43.29337979094077\n"
     ]
    },
    {
     "data": {
      "image/png": "[encoded data removed]",
      "text/plain": [
       "<Figure size 432x288 with 1 Axes>"
      ]
     },
     "metadata": {
      "needs_background": "light"
     },
     "output_type": "display_data"
    }
   ],
   "source": [
    "# Revisa `dob_years` en busca de valores sospechosos y cuenta el porcentaje\n",
    "my_plot = df.plot(\"days_employed\", \"dob_years\", kind=\"scatter\")\n",
    "\n",
    "print(df['dob_years'].min())\n",
    "print(df['dob_years'].max())\n",
    "print(df['dob_years'].median())\n",
    "print(df['dob_years'].mean())"
   ]
  },
  {
   "cell_type": "markdown",
   "id": "542f0cad",
   "metadata": {},
   "source": [
    "- no puede haber trabajadores menores de 18 años\n",
    "- estos se cambiaran por el promedio, descartando los valores menores de 18 años"
   ]
  },
  {
   "cell_type": "code",
   "execution_count": 28,
   "id": "1ee05474",
   "metadata": {
    "scrolled": true
   },
   "outputs": [
    {
     "data": {
      "text/html": [
       "<div>\n",
       "<style scoped>\n",
       "    .dataframe tbody tr th:only-of-type {\n",
       "        vertical-align: middle;\n",
       "    }\n",
       "\n",
       "    .dataframe tbody tr th {\n",
       "        vertical-align: top;\n",
       "    }\n",
       "\n",
       "    .dataframe thead th {\n",
       "        text-align: right;\n",
       "    }\n",
       "</style>\n",
       "<table border=\"1\" class=\"dataframe\">\n",
       "  <thead>\n",
       "    <tr style=\"text-align: right;\">\n",
       "      <th></th>\n",
       "      <th>children</th>\n",
       "      <th>days_employed</th>\n",
       "      <th>dob_years</th>\n",
       "      <th>education</th>\n",
       "      <th>education_id</th>\n",
       "      <th>family_status</th>\n",
       "      <th>family_status_id</th>\n",
       "      <th>gender</th>\n",
       "      <th>income_type</th>\n",
       "      <th>debt</th>\n",
       "      <th>total_income</th>\n",
       "      <th>purpose</th>\n",
       "    </tr>\n",
       "  </thead>\n",
       "  <tbody>\n",
       "    <tr>\n",
       "      <th>0</th>\n",
       "      <td>1</td>\n",
       "      <td>8437.673028</td>\n",
       "      <td>42</td>\n",
       "      <td>bachelor's degree</td>\n",
       "      <td>0</td>\n",
       "      <td>married</td>\n",
       "      <td>0</td>\n",
       "      <td>F</td>\n",
       "      <td>employee</td>\n",
       "      <td>0</td>\n",
       "      <td>40620.102</td>\n",
       "      <td>purchase of the house</td>\n",
       "    </tr>\n",
       "    <tr>\n",
       "      <th>1</th>\n",
       "      <td>1</td>\n",
       "      <td>4024.803754</td>\n",
       "      <td>36</td>\n",
       "      <td>secondary education</td>\n",
       "      <td>1</td>\n",
       "      <td>married</td>\n",
       "      <td>0</td>\n",
       "      <td>F</td>\n",
       "      <td>employee</td>\n",
       "      <td>0</td>\n",
       "      <td>17932.802</td>\n",
       "      <td>car purchase</td>\n",
       "    </tr>\n",
       "    <tr>\n",
       "      <th>2</th>\n",
       "      <td>0</td>\n",
       "      <td>5623.422610</td>\n",
       "      <td>33</td>\n",
       "      <td>secondary education</td>\n",
       "      <td>1</td>\n",
       "      <td>married</td>\n",
       "      <td>0</td>\n",
       "      <td>M</td>\n",
       "      <td>employee</td>\n",
       "      <td>0</td>\n",
       "      <td>23341.752</td>\n",
       "      <td>purchase of the house</td>\n",
       "    </tr>\n",
       "    <tr>\n",
       "      <th>3</th>\n",
       "      <td>3</td>\n",
       "      <td>4124.747207</td>\n",
       "      <td>32</td>\n",
       "      <td>secondary education</td>\n",
       "      <td>1</td>\n",
       "      <td>married</td>\n",
       "      <td>0</td>\n",
       "      <td>M</td>\n",
       "      <td>employee</td>\n",
       "      <td>0</td>\n",
       "      <td>42820.568</td>\n",
       "      <td>supplementary education</td>\n",
       "    </tr>\n",
       "    <tr>\n",
       "      <th>4</th>\n",
       "      <td>0</td>\n",
       "      <td>2353.015932</td>\n",
       "      <td>53</td>\n",
       "      <td>secondary education</td>\n",
       "      <td>1</td>\n",
       "      <td>civil partnership</td>\n",
       "      <td>1</td>\n",
       "      <td>F</td>\n",
       "      <td>retiree</td>\n",
       "      <td>0</td>\n",
       "      <td>25378.572</td>\n",
       "      <td>to have a wedding</td>\n",
       "    </tr>\n",
       "    <tr>\n",
       "      <th>...</th>\n",
       "      <td>...</td>\n",
       "      <td>...</td>\n",
       "      <td>...</td>\n",
       "      <td>...</td>\n",
       "      <td>...</td>\n",
       "      <td>...</td>\n",
       "      <td>...</td>\n",
       "      <td>...</td>\n",
       "      <td>...</td>\n",
       "      <td>...</td>\n",
       "      <td>...</td>\n",
       "      <td>...</td>\n",
       "    </tr>\n",
       "    <tr>\n",
       "      <th>21520</th>\n",
       "      <td>1</td>\n",
       "      <td>4529.316663</td>\n",
       "      <td>43</td>\n",
       "      <td>secondary education</td>\n",
       "      <td>1</td>\n",
       "      <td>civil partnership</td>\n",
       "      <td>1</td>\n",
       "      <td>F</td>\n",
       "      <td>business</td>\n",
       "      <td>0</td>\n",
       "      <td>35966.698</td>\n",
       "      <td>housing transactions</td>\n",
       "    </tr>\n",
       "    <tr>\n",
       "      <th>21521</th>\n",
       "      <td>0</td>\n",
       "      <td>2353.015932</td>\n",
       "      <td>67</td>\n",
       "      <td>secondary education</td>\n",
       "      <td>1</td>\n",
       "      <td>married</td>\n",
       "      <td>0</td>\n",
       "      <td>F</td>\n",
       "      <td>retiree</td>\n",
       "      <td>0</td>\n",
       "      <td>24959.969</td>\n",
       "      <td>purchase of a car</td>\n",
       "    </tr>\n",
       "    <tr>\n",
       "      <th>21522</th>\n",
       "      <td>1</td>\n",
       "      <td>2113.346888</td>\n",
       "      <td>38</td>\n",
       "      <td>secondary education</td>\n",
       "      <td>1</td>\n",
       "      <td>civil partnership</td>\n",
       "      <td>1</td>\n",
       "      <td>M</td>\n",
       "      <td>employee</td>\n",
       "      <td>1</td>\n",
       "      <td>14347.610</td>\n",
       "      <td>property</td>\n",
       "    </tr>\n",
       "    <tr>\n",
       "      <th>21523</th>\n",
       "      <td>3</td>\n",
       "      <td>3112.481705</td>\n",
       "      <td>38</td>\n",
       "      <td>secondary education</td>\n",
       "      <td>1</td>\n",
       "      <td>married</td>\n",
       "      <td>0</td>\n",
       "      <td>M</td>\n",
       "      <td>employee</td>\n",
       "      <td>1</td>\n",
       "      <td>39054.888</td>\n",
       "      <td>buying my own car</td>\n",
       "    </tr>\n",
       "    <tr>\n",
       "      <th>21524</th>\n",
       "      <td>2</td>\n",
       "      <td>1984.507589</td>\n",
       "      <td>40</td>\n",
       "      <td>secondary education</td>\n",
       "      <td>1</td>\n",
       "      <td>married</td>\n",
       "      <td>0</td>\n",
       "      <td>F</td>\n",
       "      <td>employee</td>\n",
       "      <td>0</td>\n",
       "      <td>13127.587</td>\n",
       "      <td>to buy a car</td>\n",
       "    </tr>\n",
       "  </tbody>\n",
       "</table>\n",
       "<p>21424 rows × 12 columns</p>\n",
       "</div>"
      ],
      "text/plain": [
       "       children  days_employed  dob_years            education  education_id  \\\n",
       "0             1    8437.673028         42    bachelor's degree             0   \n",
       "1             1    4024.803754         36  secondary education             1   \n",
       "2             0    5623.422610         33  secondary education             1   \n",
       "3             3    4124.747207         32  secondary education             1   \n",
       "4             0    2353.015932         53  secondary education             1   \n",
       "...         ...            ...        ...                  ...           ...   \n",
       "21520         1    4529.316663         43  secondary education             1   \n",
       "21521         0    2353.015932         67  secondary education             1   \n",
       "21522         1    2113.346888         38  secondary education             1   \n",
       "21523         3    3112.481705         38  secondary education             1   \n",
       "21524         2    1984.507589         40  secondary education             1   \n",
       "\n",
       "           family_status  family_status_id gender income_type  debt  \\\n",
       "0                married                 0      F    employee     0   \n",
       "1                married                 0      F    employee     0   \n",
       "2                married                 0      M    employee     0   \n",
       "3                married                 0      M    employee     0   \n",
       "4      civil partnership                 1      F     retiree     0   \n",
       "...                  ...               ...    ...         ...   ...   \n",
       "21520  civil partnership                 1      F    business     0   \n",
       "21521            married                 0      F     retiree     0   \n",
       "21522  civil partnership                 1      M    employee     1   \n",
       "21523            married                 0      M    employee     1   \n",
       "21524            married                 0      F    employee     0   \n",
       "\n",
       "       total_income                  purpose  \n",
       "0         40620.102    purchase of the house  \n",
       "1         17932.802             car purchase  \n",
       "2         23341.752    purchase of the house  \n",
       "3         42820.568  supplementary education  \n",
       "4         25378.572        to have a wedding  \n",
       "...             ...                      ...  \n",
       "21520     35966.698     housing transactions  \n",
       "21521     24959.969        purchase of a car  \n",
       "21522     14347.610                 property  \n",
       "21523     39054.888        buying my own car  \n",
       "21524     13127.587             to buy a car  \n",
       "\n",
       "[21424 rows x 12 columns]"
      ]
     },
     "execution_count": 28,
     "metadata": {},
     "output_type": "execute_result"
    }
   ],
   "source": [
    "dob_years_minors = df[df['dob_years'] > 17]\n",
    "dob_years_minors"
   ]
  },
  {
   "cell_type": "code",
   "execution_count": 29,
   "id": "1c2bf2df",
   "metadata": {},
   "outputs": [
    {
     "data": {
      "text/html": [
       "<div>\n",
       "<style scoped>\n",
       "    .dataframe tbody tr th:only-of-type {\n",
       "        vertical-align: middle;\n",
       "    }\n",
       "\n",
       "    .dataframe tbody tr th {\n",
       "        vertical-align: top;\n",
       "    }\n",
       "\n",
       "    .dataframe thead th {\n",
       "        text-align: right;\n",
       "    }\n",
       "</style>\n",
       "<table border=\"1\" class=\"dataframe\">\n",
       "  <thead>\n",
       "    <tr style=\"text-align: right;\">\n",
       "      <th></th>\n",
       "      <th>children</th>\n",
       "      <th>days_employed</th>\n",
       "      <th>dob_years</th>\n",
       "      <th>education</th>\n",
       "      <th>education_id</th>\n",
       "      <th>family_status</th>\n",
       "      <th>family_status_id</th>\n",
       "      <th>gender</th>\n",
       "      <th>income_type</th>\n",
       "      <th>debt</th>\n",
       "      <th>total_income</th>\n",
       "      <th>purpose</th>\n",
       "    </tr>\n",
       "  </thead>\n",
       "  <tbody>\n",
       "    <tr>\n",
       "      <th>0</th>\n",
       "      <td>1</td>\n",
       "      <td>8437.673028</td>\n",
       "      <td>42</td>\n",
       "      <td>bachelor's degree</td>\n",
       "      <td>0</td>\n",
       "      <td>married</td>\n",
       "      <td>0</td>\n",
       "      <td>F</td>\n",
       "      <td>employee</td>\n",
       "      <td>0</td>\n",
       "      <td>40620.102</td>\n",
       "      <td>purchase of the house</td>\n",
       "    </tr>\n",
       "    <tr>\n",
       "      <th>1</th>\n",
       "      <td>1</td>\n",
       "      <td>4024.803754</td>\n",
       "      <td>36</td>\n",
       "      <td>secondary education</td>\n",
       "      <td>1</td>\n",
       "      <td>married</td>\n",
       "      <td>0</td>\n",
       "      <td>F</td>\n",
       "      <td>employee</td>\n",
       "      <td>0</td>\n",
       "      <td>17932.802</td>\n",
       "      <td>car purchase</td>\n",
       "    </tr>\n",
       "    <tr>\n",
       "      <th>2</th>\n",
       "      <td>0</td>\n",
       "      <td>5623.422610</td>\n",
       "      <td>33</td>\n",
       "      <td>secondary education</td>\n",
       "      <td>1</td>\n",
       "      <td>married</td>\n",
       "      <td>0</td>\n",
       "      <td>M</td>\n",
       "      <td>employee</td>\n",
       "      <td>0</td>\n",
       "      <td>23341.752</td>\n",
       "      <td>purchase of the house</td>\n",
       "    </tr>\n",
       "    <tr>\n",
       "      <th>3</th>\n",
       "      <td>3</td>\n",
       "      <td>4124.747207</td>\n",
       "      <td>32</td>\n",
       "      <td>secondary education</td>\n",
       "      <td>1</td>\n",
       "      <td>married</td>\n",
       "      <td>0</td>\n",
       "      <td>M</td>\n",
       "      <td>employee</td>\n",
       "      <td>0</td>\n",
       "      <td>42820.568</td>\n",
       "      <td>supplementary education</td>\n",
       "    </tr>\n",
       "    <tr>\n",
       "      <th>4</th>\n",
       "      <td>0</td>\n",
       "      <td>2353.015932</td>\n",
       "      <td>53</td>\n",
       "      <td>secondary education</td>\n",
       "      <td>1</td>\n",
       "      <td>civil partnership</td>\n",
       "      <td>1</td>\n",
       "      <td>F</td>\n",
       "      <td>retiree</td>\n",
       "      <td>0</td>\n",
       "      <td>25378.572</td>\n",
       "      <td>to have a wedding</td>\n",
       "    </tr>\n",
       "    <tr>\n",
       "      <th>...</th>\n",
       "      <td>...</td>\n",
       "      <td>...</td>\n",
       "      <td>...</td>\n",
       "      <td>...</td>\n",
       "      <td>...</td>\n",
       "      <td>...</td>\n",
       "      <td>...</td>\n",
       "      <td>...</td>\n",
       "      <td>...</td>\n",
       "      <td>...</td>\n",
       "      <td>...</td>\n",
       "      <td>...</td>\n",
       "    </tr>\n",
       "    <tr>\n",
       "      <th>21520</th>\n",
       "      <td>1</td>\n",
       "      <td>4529.316663</td>\n",
       "      <td>43</td>\n",
       "      <td>secondary education</td>\n",
       "      <td>1</td>\n",
       "      <td>civil partnership</td>\n",
       "      <td>1</td>\n",
       "      <td>F</td>\n",
       "      <td>business</td>\n",
       "      <td>0</td>\n",
       "      <td>35966.698</td>\n",
       "      <td>housing transactions</td>\n",
       "    </tr>\n",
       "    <tr>\n",
       "      <th>21521</th>\n",
       "      <td>0</td>\n",
       "      <td>2353.015932</td>\n",
       "      <td>67</td>\n",
       "      <td>secondary education</td>\n",
       "      <td>1</td>\n",
       "      <td>married</td>\n",
       "      <td>0</td>\n",
       "      <td>F</td>\n",
       "      <td>retiree</td>\n",
       "      <td>0</td>\n",
       "      <td>24959.969</td>\n",
       "      <td>purchase of a car</td>\n",
       "    </tr>\n",
       "    <tr>\n",
       "      <th>21522</th>\n",
       "      <td>1</td>\n",
       "      <td>2113.346888</td>\n",
       "      <td>38</td>\n",
       "      <td>secondary education</td>\n",
       "      <td>1</td>\n",
       "      <td>civil partnership</td>\n",
       "      <td>1</td>\n",
       "      <td>M</td>\n",
       "      <td>employee</td>\n",
       "      <td>1</td>\n",
       "      <td>14347.610</td>\n",
       "      <td>property</td>\n",
       "    </tr>\n",
       "    <tr>\n",
       "      <th>21523</th>\n",
       "      <td>3</td>\n",
       "      <td>3112.481705</td>\n",
       "      <td>38</td>\n",
       "      <td>secondary education</td>\n",
       "      <td>1</td>\n",
       "      <td>married</td>\n",
       "      <td>0</td>\n",
       "      <td>M</td>\n",
       "      <td>employee</td>\n",
       "      <td>1</td>\n",
       "      <td>39054.888</td>\n",
       "      <td>buying my own car</td>\n",
       "    </tr>\n",
       "    <tr>\n",
       "      <th>21524</th>\n",
       "      <td>2</td>\n",
       "      <td>1984.507589</td>\n",
       "      <td>40</td>\n",
       "      <td>secondary education</td>\n",
       "      <td>1</td>\n",
       "      <td>married</td>\n",
       "      <td>0</td>\n",
       "      <td>F</td>\n",
       "      <td>employee</td>\n",
       "      <td>0</td>\n",
       "      <td>13127.587</td>\n",
       "      <td>to buy a car</td>\n",
       "    </tr>\n",
       "  </tbody>\n",
       "</table>\n",
       "<p>21525 rows × 12 columns</p>\n",
       "</div>"
      ],
      "text/plain": [
       "       children  days_employed  dob_years            education  education_id  \\\n",
       "0             1    8437.673028         42    bachelor's degree             0   \n",
       "1             1    4024.803754         36  secondary education             1   \n",
       "2             0    5623.422610         33  secondary education             1   \n",
       "3             3    4124.747207         32  secondary education             1   \n",
       "4             0    2353.015932         53  secondary education             1   \n",
       "...         ...            ...        ...                  ...           ...   \n",
       "21520         1    4529.316663         43  secondary education             1   \n",
       "21521         0    2353.015932         67  secondary education             1   \n",
       "21522         1    2113.346888         38  secondary education             1   \n",
       "21523         3    3112.481705         38  secondary education             1   \n",
       "21524         2    1984.507589         40  secondary education             1   \n",
       "\n",
       "           family_status  family_status_id gender income_type  debt  \\\n",
       "0                married                 0      F    employee     0   \n",
       "1                married                 0      F    employee     0   \n",
       "2                married                 0      M    employee     0   \n",
       "3                married                 0      M    employee     0   \n",
       "4      civil partnership                 1      F     retiree     0   \n",
       "...                  ...               ...    ...         ...   ...   \n",
       "21520  civil partnership                 1      F    business     0   \n",
       "21521            married                 0      F     retiree     0   \n",
       "21522  civil partnership                 1      M    employee     1   \n",
       "21523            married                 0      M    employee     1   \n",
       "21524            married                 0      F    employee     0   \n",
       "\n",
       "       total_income                  purpose  \n",
       "0         40620.102    purchase of the house  \n",
       "1         17932.802             car purchase  \n",
       "2         23341.752    purchase of the house  \n",
       "3         42820.568  supplementary education  \n",
       "4         25378.572        to have a wedding  \n",
       "...             ...                      ...  \n",
       "21520     35966.698     housing transactions  \n",
       "21521     24959.969        purchase of a car  \n",
       "21522     14347.610                 property  \n",
       "21523     39054.888        buying my own car  \n",
       "21524     13127.587             to buy a car  \n",
       "\n",
       "[21525 rows x 12 columns]"
      ]
     },
     "execution_count": 29,
     "metadata": {},
     "output_type": "execute_result"
    }
   ],
   "source": [
    "df"
   ]
  },
  {
   "cell_type": "code",
   "execution_count": 30,
   "id": "f7d99c18",
   "metadata": {},
   "outputs": [
    {
     "data": {
      "text/plain": [
       "43"
      ]
     },
     "execution_count": 30,
     "metadata": {},
     "output_type": "execute_result"
    }
   ],
   "source": [
    "dob_years_avg = dob_years_minors['dob_years'].mean()\n",
    "round(dob_years_avg)"
   ]
  },
  {
   "cell_type": "code",
   "execution_count": 31,
   "id": "a30ace95",
   "metadata": {},
   "outputs": [
    {
     "data": {
      "text/html": [
       "<div>\n",
       "<style scoped>\n",
       "    .dataframe tbody tr th:only-of-type {\n",
       "        vertical-align: middle;\n",
       "    }\n",
       "\n",
       "    .dataframe tbody tr th {\n",
       "        vertical-align: top;\n",
       "    }\n",
       "\n",
       "    .dataframe thead th {\n",
       "        text-align: right;\n",
       "    }\n",
       "</style>\n",
       "<table border=\"1\" class=\"dataframe\">\n",
       "  <thead>\n",
       "    <tr style=\"text-align: right;\">\n",
       "      <th></th>\n",
       "      <th>children</th>\n",
       "      <th>days_employed</th>\n",
       "      <th>dob_years</th>\n",
       "      <th>education</th>\n",
       "      <th>education_id</th>\n",
       "      <th>family_status</th>\n",
       "      <th>family_status_id</th>\n",
       "      <th>gender</th>\n",
       "      <th>income_type</th>\n",
       "      <th>debt</th>\n",
       "      <th>total_income</th>\n",
       "      <th>purpose</th>\n",
       "    </tr>\n",
       "  </thead>\n",
       "  <tbody>\n",
       "    <tr>\n",
       "      <th>0</th>\n",
       "      <td>1</td>\n",
       "      <td>8437.673028</td>\n",
       "      <td>42</td>\n",
       "      <td>bachelor's degree</td>\n",
       "      <td>0</td>\n",
       "      <td>married</td>\n",
       "      <td>0</td>\n",
       "      <td>F</td>\n",
       "      <td>employee</td>\n",
       "      <td>0</td>\n",
       "      <td>40620.102</td>\n",
       "      <td>purchase of the house</td>\n",
       "    </tr>\n",
       "    <tr>\n",
       "      <th>1</th>\n",
       "      <td>1</td>\n",
       "      <td>4024.803754</td>\n",
       "      <td>36</td>\n",
       "      <td>secondary education</td>\n",
       "      <td>1</td>\n",
       "      <td>married</td>\n",
       "      <td>0</td>\n",
       "      <td>F</td>\n",
       "      <td>employee</td>\n",
       "      <td>0</td>\n",
       "      <td>17932.802</td>\n",
       "      <td>car purchase</td>\n",
       "    </tr>\n",
       "    <tr>\n",
       "      <th>2</th>\n",
       "      <td>0</td>\n",
       "      <td>5623.422610</td>\n",
       "      <td>33</td>\n",
       "      <td>secondary education</td>\n",
       "      <td>1</td>\n",
       "      <td>married</td>\n",
       "      <td>0</td>\n",
       "      <td>M</td>\n",
       "      <td>employee</td>\n",
       "      <td>0</td>\n",
       "      <td>23341.752</td>\n",
       "      <td>purchase of the house</td>\n",
       "    </tr>\n",
       "    <tr>\n",
       "      <th>3</th>\n",
       "      <td>3</td>\n",
       "      <td>4124.747207</td>\n",
       "      <td>32</td>\n",
       "      <td>secondary education</td>\n",
       "      <td>1</td>\n",
       "      <td>married</td>\n",
       "      <td>0</td>\n",
       "      <td>M</td>\n",
       "      <td>employee</td>\n",
       "      <td>0</td>\n",
       "      <td>42820.568</td>\n",
       "      <td>supplementary education</td>\n",
       "    </tr>\n",
       "    <tr>\n",
       "      <th>4</th>\n",
       "      <td>0</td>\n",
       "      <td>2353.015932</td>\n",
       "      <td>53</td>\n",
       "      <td>secondary education</td>\n",
       "      <td>1</td>\n",
       "      <td>civil partnership</td>\n",
       "      <td>1</td>\n",
       "      <td>F</td>\n",
       "      <td>retiree</td>\n",
       "      <td>0</td>\n",
       "      <td>25378.572</td>\n",
       "      <td>to have a wedding</td>\n",
       "    </tr>\n",
       "    <tr>\n",
       "      <th>...</th>\n",
       "      <td>...</td>\n",
       "      <td>...</td>\n",
       "      <td>...</td>\n",
       "      <td>...</td>\n",
       "      <td>...</td>\n",
       "      <td>...</td>\n",
       "      <td>...</td>\n",
       "      <td>...</td>\n",
       "      <td>...</td>\n",
       "      <td>...</td>\n",
       "      <td>...</td>\n",
       "      <td>...</td>\n",
       "    </tr>\n",
       "    <tr>\n",
       "      <th>21520</th>\n",
       "      <td>1</td>\n",
       "      <td>4529.316663</td>\n",
       "      <td>43</td>\n",
       "      <td>secondary education</td>\n",
       "      <td>1</td>\n",
       "      <td>civil partnership</td>\n",
       "      <td>1</td>\n",
       "      <td>F</td>\n",
       "      <td>business</td>\n",
       "      <td>0</td>\n",
       "      <td>35966.698</td>\n",
       "      <td>housing transactions</td>\n",
       "    </tr>\n",
       "    <tr>\n",
       "      <th>21521</th>\n",
       "      <td>0</td>\n",
       "      <td>2353.015932</td>\n",
       "      <td>67</td>\n",
       "      <td>secondary education</td>\n",
       "      <td>1</td>\n",
       "      <td>married</td>\n",
       "      <td>0</td>\n",
       "      <td>F</td>\n",
       "      <td>retiree</td>\n",
       "      <td>0</td>\n",
       "      <td>24959.969</td>\n",
       "      <td>purchase of a car</td>\n",
       "    </tr>\n",
       "    <tr>\n",
       "      <th>21522</th>\n",
       "      <td>1</td>\n",
       "      <td>2113.346888</td>\n",
       "      <td>38</td>\n",
       "      <td>secondary education</td>\n",
       "      <td>1</td>\n",
       "      <td>civil partnership</td>\n",
       "      <td>1</td>\n",
       "      <td>M</td>\n",
       "      <td>employee</td>\n",
       "      <td>1</td>\n",
       "      <td>14347.610</td>\n",
       "      <td>property</td>\n",
       "    </tr>\n",
       "    <tr>\n",
       "      <th>21523</th>\n",
       "      <td>3</td>\n",
       "      <td>3112.481705</td>\n",
       "      <td>38</td>\n",
       "      <td>secondary education</td>\n",
       "      <td>1</td>\n",
       "      <td>married</td>\n",
       "      <td>0</td>\n",
       "      <td>M</td>\n",
       "      <td>employee</td>\n",
       "      <td>1</td>\n",
       "      <td>39054.888</td>\n",
       "      <td>buying my own car</td>\n",
       "    </tr>\n",
       "    <tr>\n",
       "      <th>21524</th>\n",
       "      <td>2</td>\n",
       "      <td>1984.507589</td>\n",
       "      <td>40</td>\n",
       "      <td>secondary education</td>\n",
       "      <td>1</td>\n",
       "      <td>married</td>\n",
       "      <td>0</td>\n",
       "      <td>F</td>\n",
       "      <td>employee</td>\n",
       "      <td>0</td>\n",
       "      <td>13127.587</td>\n",
       "      <td>to buy a car</td>\n",
       "    </tr>\n",
       "  </tbody>\n",
       "</table>\n",
       "<p>21525 rows × 12 columns</p>\n",
       "</div>"
      ],
      "text/plain": [
       "       children  days_employed  dob_years            education  education_id  \\\n",
       "0             1    8437.673028         42    bachelor's degree             0   \n",
       "1             1    4024.803754         36  secondary education             1   \n",
       "2             0    5623.422610         33  secondary education             1   \n",
       "3             3    4124.747207         32  secondary education             1   \n",
       "4             0    2353.015932         53  secondary education             1   \n",
       "...         ...            ...        ...                  ...           ...   \n",
       "21520         1    4529.316663         43  secondary education             1   \n",
       "21521         0    2353.015932         67  secondary education             1   \n",
       "21522         1    2113.346888         38  secondary education             1   \n",
       "21523         3    3112.481705         38  secondary education             1   \n",
       "21524         2    1984.507589         40  secondary education             1   \n",
       "\n",
       "           family_status  family_status_id gender income_type  debt  \\\n",
       "0                married                 0      F    employee     0   \n",
       "1                married                 0      F    employee     0   \n",
       "2                married                 0      M    employee     0   \n",
       "3                married                 0      M    employee     0   \n",
       "4      civil partnership                 1      F     retiree     0   \n",
       "...                  ...               ...    ...         ...   ...   \n",
       "21520  civil partnership                 1      F    business     0   \n",
       "21521            married                 0      F     retiree     0   \n",
       "21522  civil partnership                 1      M    employee     1   \n",
       "21523            married                 0      M    employee     1   \n",
       "21524            married                 0      F    employee     0   \n",
       "\n",
       "       total_income                  purpose  \n",
       "0         40620.102    purchase of the house  \n",
       "1         17932.802             car purchase  \n",
       "2         23341.752    purchase of the house  \n",
       "3         42820.568  supplementary education  \n",
       "4         25378.572        to have a wedding  \n",
       "...             ...                      ...  \n",
       "21520     35966.698     housing transactions  \n",
       "21521     24959.969        purchase of a car  \n",
       "21522     14347.610                 property  \n",
       "21523     39054.888        buying my own car  \n",
       "21524     13127.587             to buy a car  \n",
       "\n",
       "[21525 rows x 12 columns]"
      ]
     },
     "execution_count": 31,
     "metadata": {},
     "output_type": "execute_result"
    }
   ],
   "source": [
    "df"
   ]
  },
  {
   "cell_type": "code",
   "execution_count": 32,
   "id": "3055fe92",
   "metadata": {},
   "outputs": [],
   "source": [
    "# Resuelve los problemas en la columna `dob_years`, si existen\n",
    "#sustituimos los valores mayores a 20 por la media de los valores entre 20 y 75\n",
    "df.loc[df['dob_years'] < 18, 'dob_years'] = dob_years_avg"
   ]
  },
  {
   "cell_type": "code",
   "execution_count": 33,
   "id": "0a35e9ad",
   "metadata": {
    "scrolled": true
   },
   "outputs": [
    {
     "name": "stdout",
     "output_type": "stream",
     "text": [
      "19.0\n",
      "75.0\n",
      "43.0\n",
      "43.497479462285334\n"
     ]
    },
    {
     "data": {
      "image/png": "[encoded data removed]",
      "text/plain": [
       "<Figure size 432x288 with 1 Axes>"
      ]
     },
     "metadata": {
      "needs_background": "light"
     },
     "output_type": "display_data"
    }
   ],
   "source": [
    "# Comprueba el resultado - asegúrate de que esté arreglado\n",
    "my_plot = df.plot(\"days_employed\", \"dob_years\", kind=\"scatter\")\n",
    "\n",
    "print(df['dob_years'].min())\n",
    "print(df['dob_years'].max())\n",
    "print(df['dob_years'].median())\n",
    "print(df['dob_years'].mean())\n",
    "df['dob_years'] = df['dob_years'].astype('int64')"
   ]
  },
  {
   "cell_type": "code",
   "execution_count": 34,
   "id": "843c99a0",
   "metadata": {
    "scrolled": true
   },
   "outputs": [
    {
     "name": "stdout",
     "output_type": "stream",
     "text": [
      "married              12380\n",
      "civil partnership     4177\n",
      "unmarried             2813\n",
      "divorced              1195\n",
      "widow / widower        960\n",
      "Name: family_status, dtype: int64\n",
      "<class 'pandas.core.frame.DataFrame'>\n",
      "RangeIndex: 21525 entries, 0 to 21524\n",
      "Data columns (total 12 columns):\n",
      " #   Column            Non-Null Count  Dtype  \n",
      "---  ------            --------------  -----  \n",
      " 0   children          21525 non-null  int64  \n",
      " 1   days_employed     19351 non-null  float64\n",
      " 2   dob_years         21525 non-null  int64  \n",
      " 3   education         21525 non-null  object \n",
      " 4   education_id      21525 non-null  int64  \n",
      " 5   family_status     21525 non-null  object \n",
      " 6   family_status_id  21525 non-null  int64  \n",
      " 7   gender            21525 non-null  object \n",
      " 8   income_type       21525 non-null  object \n",
      " 9   debt              21525 non-null  int64  \n",
      " 10  total_income      19351 non-null  float64\n",
      " 11  purpose           21525 non-null  object \n",
      "dtypes: float64(2), int64(5), object(5)\n",
      "memory usage: 2.0+ MB\n"
     ]
    }
   ],
   "source": [
    "# Veamos los valores de la columna family_status\n",
    "print(df['family_status'].value_counts())\n",
    "df.info()"
   ]
  },
  {
   "cell_type": "markdown",
   "id": "efbe768d",
   "metadata": {},
   "source": [
    "- Estos valores los sumaremos y sustituiremos en unmarried"
   ]
  },
  {
   "cell_type": "code",
   "execution_count": 35,
   "id": "ecd01984",
   "metadata": {
    "scrolled": true
   },
   "outputs": [
    {
     "name": "stdout",
     "output_type": "stream",
     "text": [
      "married              12380\n",
      "civil partnership     4177\n",
      "unmarried             2813\n",
      "divorced              1195\n",
      "widow / widower        960\n",
      "Name: family_status, dtype: int64\n",
      "\n",
      "<class 'pandas.core.frame.DataFrame'>\n",
      "RangeIndex: 21525 entries, 0 to 21524\n",
      "Data columns (total 12 columns):\n",
      " #   Column            Non-Null Count  Dtype  \n",
      "---  ------            --------------  -----  \n",
      " 0   children          21525 non-null  int64  \n",
      " 1   days_employed     19351 non-null  float64\n",
      " 2   dob_years         21525 non-null  int64  \n",
      " 3   education         21525 non-null  object \n",
      " 4   education_id      21525 non-null  int64  \n",
      " 5   family_status     21525 non-null  object \n",
      " 6   family_status_id  21525 non-null  int64  \n",
      " 7   gender            21525 non-null  object \n",
      " 8   income_type       21525 non-null  object \n",
      " 9   debt              21525 non-null  int64  \n",
      " 10  total_income      19351 non-null  float64\n",
      " 11  purpose           21525 non-null  object \n",
      "dtypes: float64(2), int64(5), object(5)\n",
      "memory usage: 2.0+ MB\n",
      "\n"
     ]
    }
   ],
   "source": [
    "# Aborda los valores problemáticos en `family_status`, si existen\n",
    "print(df['family_status'].value_counts())\n",
    "print()\n",
    "df.info()\n",
    "print()\n"
   ]
  },
  {
   "cell_type": "code",
   "execution_count": 36,
   "id": "28591e55",
   "metadata": {
    "scrolled": true
   },
   "outputs": [
    {
     "name": "stdout",
     "output_type": "stream",
     "text": [
      "married              12380\n",
      "civil partnership     4177\n",
      "unmarried             2813\n",
      "divorced              1195\n",
      "widow / widower        960\n",
      "Name: family_status, dtype: int64\n"
     ]
    }
   ],
   "source": [
    "# Comprueba el resultado - asegúrate de que esté arreglado\n",
    "print(df['family_status'].value_counts())"
   ]
  },
  {
   "cell_type": "code",
   "execution_count": 37,
   "id": "325ebd81",
   "metadata": {},
   "outputs": [
    {
     "name": "stdout",
     "output_type": "stream",
     "text": [
      "F      14236\n",
      "M       7288\n",
      "XNA        1\n",
      "Name: gender, dtype: int64\n"
     ]
    }
   ],
   "source": [
    "# Veamos los valores en la columna gender\n",
    "print(df['gender'].value_counts())"
   ]
  },
  {
   "cell_type": "markdown",
   "id": "292758a7",
   "metadata": {},
   "source": [
    "- El valor de XNA no es valido, remplazaran en M "
   ]
  },
  {
   "cell_type": "code",
   "execution_count": 38,
   "id": "47fca105",
   "metadata": {},
   "outputs": [],
   "source": [
    "# Aborda los valores problemáticos, si existen\n",
    "df.loc[df['gender'] == 'XNA', 'gender'] = 'M'"
   ]
  },
  {
   "cell_type": "code",
   "execution_count": 39,
   "id": "87e64f86",
   "metadata": {
    "scrolled": true
   },
   "outputs": [
    {
     "name": "stdout",
     "output_type": "stream",
     "text": [
      "F    14236\n",
      "M     7289\n",
      "Name: gender, dtype: int64\n"
     ]
    }
   ],
   "source": [
    "# Comprueba el resultado - asegúrate de que esté arreglado\n",
    "print(df['gender'].value_counts())"
   ]
  },
  {
   "cell_type": "code",
   "execution_count": 40,
   "id": "04e3f223",
   "metadata": {},
   "outputs": [
    {
     "name": "stdout",
     "output_type": "stream",
     "text": [
      "employee                       11119\n",
      "business                        5085\n",
      "retiree                         3856\n",
      "civil servant                   1459\n",
      "unemployed                         2\n",
      "entrepreneur                       2\n",
      "student                            1\n",
      "paternity / maternity leave        1\n",
      "Name: income_type, dtype: int64\n"
     ]
    }
   ],
   "source": [
    "# Veamos los valores en la columna income_type\n",
    "print(df['income_type'].value_counts())"
   ]
  },
  {
   "cell_type": "code",
   "execution_count": 41,
   "id": "b6637dc3",
   "metadata": {
    "scrolled": true
   },
   "outputs": [
    {
     "name": "stdout",
     "output_type": "stream",
     "text": [
      "employee                       11119\n",
      "business                        5085\n",
      "retiree                         3856\n",
      "civil servant                   1459\n",
      "unemployed                         2\n",
      "entrepreneur                       2\n",
      "student                            1\n",
      "paternity / maternity leave        1\n",
      "Name: income_type, dtype: int64\n"
     ]
    }
   ],
   "source": [
    "# Comprueba el resultado - asegúrate de que esté arreglado\n",
    "print(df['income_type'].value_counts())"
   ]
  },
  {
   "cell_type": "code",
   "execution_count": 42,
   "id": "5b474581",
   "metadata": {},
   "outputs": [
    {
     "name": "stdout",
     "output_type": "stream",
     "text": [
      "<class 'pandas.core.frame.DataFrame'>\n",
      "RangeIndex: 21525 entries, 0 to 21524\n",
      "Data columns (total 12 columns):\n",
      " #   Column            Non-Null Count  Dtype  \n",
      "---  ------            --------------  -----  \n",
      " 0   children          21525 non-null  int64  \n",
      " 1   days_employed     19351 non-null  float64\n",
      " 2   dob_years         21525 non-null  int64  \n",
      " 3   education         21525 non-null  object \n",
      " 4   education_id      21525 non-null  int64  \n",
      " 5   family_status     21525 non-null  object \n",
      " 6   family_status_id  21525 non-null  int64  \n",
      " 7   gender            21525 non-null  object \n",
      " 8   income_type       21525 non-null  object \n",
      " 9   debt              21525 non-null  int64  \n",
      " 10  total_income      19351 non-null  float64\n",
      " 11  purpose           21525 non-null  object \n",
      "dtypes: float64(2), int64(5), object(5)\n",
      "memory usage: 2.0+ MB\n"
     ]
    }
   ],
   "source": [
    "df.info()"
   ]
  },
  {
   "cell_type": "code",
   "execution_count": 43,
   "id": "f1ff8273",
   "metadata": {},
   "outputs": [
    {
     "data": {
      "text/plain": [
       "71"
      ]
     },
     "execution_count": 43,
     "metadata": {},
     "output_type": "execute_result"
    }
   ],
   "source": [
    "# Comprobar los duplicados\n",
    "df.duplicated().sum()"
   ]
  },
  {
   "cell_type": "code",
   "execution_count": 44,
   "id": "ebf0b0b2",
   "metadata": {},
   "outputs": [],
   "source": [
    "# Aborda los duplicados, si existen\n",
    "df = df.drop_duplicates().reset_index(drop = True)"
   ]
  },
  {
   "cell_type": "code",
   "execution_count": 45,
   "id": "bc5c573c",
   "metadata": {},
   "outputs": [
    {
     "data": {
      "text/plain": [
       "0"
      ]
     },
     "execution_count": 45,
     "metadata": {},
     "output_type": "execute_result"
    }
   ],
   "source": [
    "# Última comprobación para ver si tenemos duplicados\n",
    "df.duplicated().sum()"
   ]
  },
  {
   "cell_type": "code",
   "execution_count": 46,
   "id": "b0d494ca",
   "metadata": {},
   "outputs": [
    {
     "name": "stdout",
     "output_type": "stream",
     "text": [
      "<class 'pandas.core.frame.DataFrame'>\n",
      "RangeIndex: 21454 entries, 0 to 21453\n",
      "Data columns (total 12 columns):\n",
      " #   Column            Non-Null Count  Dtype  \n",
      "---  ------            --------------  -----  \n",
      " 0   children          21454 non-null  int64  \n",
      " 1   days_employed     19351 non-null  float64\n",
      " 2   dob_years         21454 non-null  int64  \n",
      " 3   education         21454 non-null  object \n",
      " 4   education_id      21454 non-null  int64  \n",
      " 5   family_status     21454 non-null  object \n",
      " 6   family_status_id  21454 non-null  int64  \n",
      " 7   gender            21454 non-null  object \n",
      " 8   income_type       21454 non-null  object \n",
      " 9   debt              21454 non-null  int64  \n",
      " 10  total_income      19351 non-null  float64\n",
      " 11  purpose           21454 non-null  object \n",
      "dtypes: float64(2), int64(5), object(5)\n",
      "memory usage: 2.0+ MB\n"
     ]
    }
   ],
   "source": [
    "# Comprueba el tamaño del conjunto de datos que tienes ahora, después de haber ejecutado estas primeras manipulaciones\n",
    "df.info()"
   ]
  },
  {
   "cell_type": "markdown",
   "id": "7c718aed",
   "metadata": {},
   "source": [
    "- En el nuevo conjunto de datos se han eliminado datos duplicados y se ha reducido casi en 1% del valor original, se han areglado las columnas mal escritas y con valores negativos "
   ]
  },
  {
   "cell_type": "markdown",
   "id": "91adc796",
   "metadata": {},
   "source": [
    "# Trabajar con valores ausentes"
   ]
  },
  {
   "cell_type": "code",
   "execution_count": 47,
   "id": "f11f8af2",
   "metadata": {},
   "outputs": [],
   "source": [
    "# Encuentra los diccionarios\n",
    "import numpy as np"
   ]
  },
  {
   "cell_type": "markdown",
   "id": "5b43ad91",
   "metadata": {},
   "source": [
    "### Restaurar valores ausentes en `total_income`"
   ]
  },
  {
   "cell_type": "code",
   "execution_count": 48,
   "id": "3b697505",
   "metadata": {},
   "outputs": [],
   "source": [
    "# Vamos a escribir una función que calcule la categoría de edad\n",
    "\n",
    "def dob_years_group(dob_years):\n",
    "    if dob_years < 30 or pd.isna(dob_years):\n",
    "        return '20-29'\n",
    "    elif 30 <= dob_years < 40:\n",
    "        return '30-39'\n",
    "    elif 40 <= dob_years < 50:\n",
    "        return '40-49'\n",
    "    elif 50 <= dob_years < 60:\n",
    "        return '50-59'\n",
    "    elif 60 <= dob_years < 70:\n",
    "        return '60-69'\n",
    "    return '70+'\n",
    "\n",
    "#probando la funciòn \n",
    "row_values = ['60-69']  \n",
    "row_columns = ['dob_years']\n",
    "row = pd.Series(data=row_values, index=row_columns)"
   ]
  },
  {
   "cell_type": "code",
   "execution_count": 49,
   "id": "96db2fe1",
   "metadata": {},
   "outputs": [],
   "source": [
    "# Crear una nueva columna basada en la función\n",
    "df['years_goup'] = df['dob_years'].apply(dob_years_group)"
   ]
  },
  {
   "cell_type": "code",
   "execution_count": 50,
   "id": "9743af9d",
   "metadata": {},
   "outputs": [
    {
     "data": {
      "text/html": [
       "<div>\n",
       "<style scoped>\n",
       "    .dataframe tbody tr th:only-of-type {\n",
       "        vertical-align: middle;\n",
       "    }\n",
       "\n",
       "    .dataframe tbody tr th {\n",
       "        vertical-align: top;\n",
       "    }\n",
       "\n",
       "    .dataframe thead th {\n",
       "        text-align: right;\n",
       "    }\n",
       "</style>\n",
       "<table border=\"1\" class=\"dataframe\">\n",
       "  <thead>\n",
       "    <tr style=\"text-align: right;\">\n",
       "      <th></th>\n",
       "      <th>children</th>\n",
       "      <th>days_employed</th>\n",
       "      <th>dob_years</th>\n",
       "      <th>education</th>\n",
       "      <th>education_id</th>\n",
       "      <th>family_status</th>\n",
       "      <th>family_status_id</th>\n",
       "      <th>gender</th>\n",
       "      <th>income_type</th>\n",
       "      <th>debt</th>\n",
       "      <th>total_income</th>\n",
       "      <th>purpose</th>\n",
       "      <th>years_goup</th>\n",
       "    </tr>\n",
       "  </thead>\n",
       "  <tbody>\n",
       "    <tr>\n",
       "      <th>0</th>\n",
       "      <td>1</td>\n",
       "      <td>8437.673028</td>\n",
       "      <td>42</td>\n",
       "      <td>bachelor's degree</td>\n",
       "      <td>0</td>\n",
       "      <td>married</td>\n",
       "      <td>0</td>\n",
       "      <td>F</td>\n",
       "      <td>employee</td>\n",
       "      <td>0</td>\n",
       "      <td>40620.102</td>\n",
       "      <td>purchase of the house</td>\n",
       "      <td>40-49</td>\n",
       "    </tr>\n",
       "    <tr>\n",
       "      <th>1</th>\n",
       "      <td>1</td>\n",
       "      <td>4024.803754</td>\n",
       "      <td>36</td>\n",
       "      <td>secondary education</td>\n",
       "      <td>1</td>\n",
       "      <td>married</td>\n",
       "      <td>0</td>\n",
       "      <td>F</td>\n",
       "      <td>employee</td>\n",
       "      <td>0</td>\n",
       "      <td>17932.802</td>\n",
       "      <td>car purchase</td>\n",
       "      <td>30-39</td>\n",
       "    </tr>\n",
       "    <tr>\n",
       "      <th>2</th>\n",
       "      <td>0</td>\n",
       "      <td>5623.422610</td>\n",
       "      <td>33</td>\n",
       "      <td>secondary education</td>\n",
       "      <td>1</td>\n",
       "      <td>married</td>\n",
       "      <td>0</td>\n",
       "      <td>M</td>\n",
       "      <td>employee</td>\n",
       "      <td>0</td>\n",
       "      <td>23341.752</td>\n",
       "      <td>purchase of the house</td>\n",
       "      <td>30-39</td>\n",
       "    </tr>\n",
       "    <tr>\n",
       "      <th>3</th>\n",
       "      <td>3</td>\n",
       "      <td>4124.747207</td>\n",
       "      <td>32</td>\n",
       "      <td>secondary education</td>\n",
       "      <td>1</td>\n",
       "      <td>married</td>\n",
       "      <td>0</td>\n",
       "      <td>M</td>\n",
       "      <td>employee</td>\n",
       "      <td>0</td>\n",
       "      <td>42820.568</td>\n",
       "      <td>supplementary education</td>\n",
       "      <td>30-39</td>\n",
       "    </tr>\n",
       "    <tr>\n",
       "      <th>4</th>\n",
       "      <td>0</td>\n",
       "      <td>2353.015932</td>\n",
       "      <td>53</td>\n",
       "      <td>secondary education</td>\n",
       "      <td>1</td>\n",
       "      <td>civil partnership</td>\n",
       "      <td>1</td>\n",
       "      <td>F</td>\n",
       "      <td>retiree</td>\n",
       "      <td>0</td>\n",
       "      <td>25378.572</td>\n",
       "      <td>to have a wedding</td>\n",
       "      <td>50-59</td>\n",
       "    </tr>\n",
       "    <tr>\n",
       "      <th>5</th>\n",
       "      <td>0</td>\n",
       "      <td>926.185831</td>\n",
       "      <td>27</td>\n",
       "      <td>bachelor's degree</td>\n",
       "      <td>0</td>\n",
       "      <td>civil partnership</td>\n",
       "      <td>1</td>\n",
       "      <td>M</td>\n",
       "      <td>business</td>\n",
       "      <td>0</td>\n",
       "      <td>40922.170</td>\n",
       "      <td>purchase of the house</td>\n",
       "      <td>20-29</td>\n",
       "    </tr>\n",
       "    <tr>\n",
       "      <th>6</th>\n",
       "      <td>0</td>\n",
       "      <td>2879.202052</td>\n",
       "      <td>43</td>\n",
       "      <td>bachelor's degree</td>\n",
       "      <td>0</td>\n",
       "      <td>married</td>\n",
       "      <td>0</td>\n",
       "      <td>F</td>\n",
       "      <td>business</td>\n",
       "      <td>0</td>\n",
       "      <td>38484.156</td>\n",
       "      <td>housing transactions</td>\n",
       "      <td>40-49</td>\n",
       "    </tr>\n",
       "    <tr>\n",
       "      <th>7</th>\n",
       "      <td>0</td>\n",
       "      <td>152.779569</td>\n",
       "      <td>50</td>\n",
       "      <td>secondary education</td>\n",
       "      <td>1</td>\n",
       "      <td>married</td>\n",
       "      <td>0</td>\n",
       "      <td>M</td>\n",
       "      <td>employee</td>\n",
       "      <td>0</td>\n",
       "      <td>21731.829</td>\n",
       "      <td>education</td>\n",
       "      <td>50-59</td>\n",
       "    </tr>\n",
       "    <tr>\n",
       "      <th>8</th>\n",
       "      <td>2</td>\n",
       "      <td>6929.865299</td>\n",
       "      <td>35</td>\n",
       "      <td>bachelor's degree</td>\n",
       "      <td>0</td>\n",
       "      <td>civil partnership</td>\n",
       "      <td>1</td>\n",
       "      <td>F</td>\n",
       "      <td>employee</td>\n",
       "      <td>0</td>\n",
       "      <td>15337.093</td>\n",
       "      <td>having a wedding</td>\n",
       "      <td>30-39</td>\n",
       "    </tr>\n",
       "    <tr>\n",
       "      <th>9</th>\n",
       "      <td>0</td>\n",
       "      <td>2188.756445</td>\n",
       "      <td>41</td>\n",
       "      <td>secondary education</td>\n",
       "      <td>1</td>\n",
       "      <td>married</td>\n",
       "      <td>0</td>\n",
       "      <td>M</td>\n",
       "      <td>employee</td>\n",
       "      <td>0</td>\n",
       "      <td>23108.150</td>\n",
       "      <td>purchase of the house for my family</td>\n",
       "      <td>40-49</td>\n",
       "    </tr>\n",
       "  </tbody>\n",
       "</table>\n",
       "</div>"
      ],
      "text/plain": [
       "   children  days_employed  dob_years            education  education_id  \\\n",
       "0         1    8437.673028         42    bachelor's degree             0   \n",
       "1         1    4024.803754         36  secondary education             1   \n",
       "2         0    5623.422610         33  secondary education             1   \n",
       "3         3    4124.747207         32  secondary education             1   \n",
       "4         0    2353.015932         53  secondary education             1   \n",
       "5         0     926.185831         27    bachelor's degree             0   \n",
       "6         0    2879.202052         43    bachelor's degree             0   \n",
       "7         0     152.779569         50  secondary education             1   \n",
       "8         2    6929.865299         35    bachelor's degree             0   \n",
       "9         0    2188.756445         41  secondary education             1   \n",
       "\n",
       "       family_status  family_status_id gender income_type  debt  total_income  \\\n",
       "0            married                 0      F    employee     0     40620.102   \n",
       "1            married                 0      F    employee     0     17932.802   \n",
       "2            married                 0      M    employee     0     23341.752   \n",
       "3            married                 0      M    employee     0     42820.568   \n",
       "4  civil partnership                 1      F     retiree     0     25378.572   \n",
       "5  civil partnership                 1      M    business     0     40922.170   \n",
       "6            married                 0      F    business     0     38484.156   \n",
       "7            married                 0      M    employee     0     21731.829   \n",
       "8  civil partnership                 1      F    employee     0     15337.093   \n",
       "9            married                 0      M    employee     0     23108.150   \n",
       "\n",
       "                               purpose years_goup  \n",
       "0                purchase of the house      40-49  \n",
       "1                         car purchase      30-39  \n",
       "2                purchase of the house      30-39  \n",
       "3              supplementary education      30-39  \n",
       "4                    to have a wedding      50-59  \n",
       "5                purchase of the house      20-29  \n",
       "6                 housing transactions      40-49  \n",
       "7                            education      50-59  \n",
       "8                     having a wedding      30-39  \n",
       "9  purchase of the house for my family      40-49  "
      ]
     },
     "execution_count": 50,
     "metadata": {},
     "output_type": "execute_result"
    }
   ],
   "source": [
    "# Comprobar cómo los valores en la nueva columna\n",
    "df.head(10)"
   ]
  },
  {
   "cell_type": "code",
   "execution_count": 51,
   "id": "f6d52544",
   "metadata": {},
   "outputs": [
    {
     "name": "stdout",
     "output_type": "stream",
     "text": [
      "<class 'pandas.core.frame.DataFrame'>\n",
      "Int64Index: 19351 entries, 0 to 21453\n",
      "Data columns (total 13 columns):\n",
      " #   Column            Non-Null Count  Dtype  \n",
      "---  ------            --------------  -----  \n",
      " 0   children          19351 non-null  int64  \n",
      " 1   days_employed     19351 non-null  float64\n",
      " 2   dob_years         19351 non-null  int64  \n",
      " 3   education         19351 non-null  object \n",
      " 4   education_id      19351 non-null  int64  \n",
      " 5   family_status     19351 non-null  object \n",
      " 6   family_status_id  19351 non-null  int64  \n",
      " 7   gender            19351 non-null  object \n",
      " 8   income_type       19351 non-null  object \n",
      " 9   debt              19351 non-null  int64  \n",
      " 10  total_income      19351 non-null  float64\n",
      " 11  purpose           19351 non-null  object \n",
      " 12  years_goup        19351 non-null  object \n",
      "dtypes: float64(2), int64(5), object(6)\n",
      "memory usage: 2.1+ MB\n"
     ]
    },
    {
     "data": {
      "text/html": [
       "<div>\n",
       "<style scoped>\n",
       "    .dataframe tbody tr th:only-of-type {\n",
       "        vertical-align: middle;\n",
       "    }\n",
       "\n",
       "    .dataframe tbody tr th {\n",
       "        vertical-align: top;\n",
       "    }\n",
       "\n",
       "    .dataframe thead th {\n",
       "        text-align: right;\n",
       "    }\n",
       "</style>\n",
       "<table border=\"1\" class=\"dataframe\">\n",
       "  <thead>\n",
       "    <tr style=\"text-align: right;\">\n",
       "      <th></th>\n",
       "      <th>children</th>\n",
       "      <th>days_employed</th>\n",
       "      <th>dob_years</th>\n",
       "      <th>education</th>\n",
       "      <th>education_id</th>\n",
       "      <th>family_status</th>\n",
       "      <th>family_status_id</th>\n",
       "      <th>gender</th>\n",
       "      <th>income_type</th>\n",
       "      <th>debt</th>\n",
       "      <th>total_income</th>\n",
       "      <th>purpose</th>\n",
       "      <th>years_goup</th>\n",
       "    </tr>\n",
       "  </thead>\n",
       "  <tbody>\n",
       "    <tr>\n",
       "      <th>0</th>\n",
       "      <td>1</td>\n",
       "      <td>8437.673028</td>\n",
       "      <td>42</td>\n",
       "      <td>bachelor's degree</td>\n",
       "      <td>0</td>\n",
       "      <td>married</td>\n",
       "      <td>0</td>\n",
       "      <td>F</td>\n",
       "      <td>employee</td>\n",
       "      <td>0</td>\n",
       "      <td>40620.102</td>\n",
       "      <td>purchase of the house</td>\n",
       "      <td>40-49</td>\n",
       "    </tr>\n",
       "    <tr>\n",
       "      <th>1</th>\n",
       "      <td>1</td>\n",
       "      <td>4024.803754</td>\n",
       "      <td>36</td>\n",
       "      <td>secondary education</td>\n",
       "      <td>1</td>\n",
       "      <td>married</td>\n",
       "      <td>0</td>\n",
       "      <td>F</td>\n",
       "      <td>employee</td>\n",
       "      <td>0</td>\n",
       "      <td>17932.802</td>\n",
       "      <td>car purchase</td>\n",
       "      <td>30-39</td>\n",
       "    </tr>\n",
       "    <tr>\n",
       "      <th>2</th>\n",
       "      <td>0</td>\n",
       "      <td>5623.422610</td>\n",
       "      <td>33</td>\n",
       "      <td>secondary education</td>\n",
       "      <td>1</td>\n",
       "      <td>married</td>\n",
       "      <td>0</td>\n",
       "      <td>M</td>\n",
       "      <td>employee</td>\n",
       "      <td>0</td>\n",
       "      <td>23341.752</td>\n",
       "      <td>purchase of the house</td>\n",
       "      <td>30-39</td>\n",
       "    </tr>\n",
       "    <tr>\n",
       "      <th>3</th>\n",
       "      <td>3</td>\n",
       "      <td>4124.747207</td>\n",
       "      <td>32</td>\n",
       "      <td>secondary education</td>\n",
       "      <td>1</td>\n",
       "      <td>married</td>\n",
       "      <td>0</td>\n",
       "      <td>M</td>\n",
       "      <td>employee</td>\n",
       "      <td>0</td>\n",
       "      <td>42820.568</td>\n",
       "      <td>supplementary education</td>\n",
       "      <td>30-39</td>\n",
       "    </tr>\n",
       "    <tr>\n",
       "      <th>4</th>\n",
       "      <td>0</td>\n",
       "      <td>2353.015932</td>\n",
       "      <td>53</td>\n",
       "      <td>secondary education</td>\n",
       "      <td>1</td>\n",
       "      <td>civil partnership</td>\n",
       "      <td>1</td>\n",
       "      <td>F</td>\n",
       "      <td>retiree</td>\n",
       "      <td>0</td>\n",
       "      <td>25378.572</td>\n",
       "      <td>to have a wedding</td>\n",
       "      <td>50-59</td>\n",
       "    </tr>\n",
       "    <tr>\n",
       "      <th>...</th>\n",
       "      <td>...</td>\n",
       "      <td>...</td>\n",
       "      <td>...</td>\n",
       "      <td>...</td>\n",
       "      <td>...</td>\n",
       "      <td>...</td>\n",
       "      <td>...</td>\n",
       "      <td>...</td>\n",
       "      <td>...</td>\n",
       "      <td>...</td>\n",
       "      <td>...</td>\n",
       "      <td>...</td>\n",
       "      <td>...</td>\n",
       "    </tr>\n",
       "    <tr>\n",
       "      <th>21449</th>\n",
       "      <td>1</td>\n",
       "      <td>4529.316663</td>\n",
       "      <td>43</td>\n",
       "      <td>secondary education</td>\n",
       "      <td>1</td>\n",
       "      <td>civil partnership</td>\n",
       "      <td>1</td>\n",
       "      <td>F</td>\n",
       "      <td>business</td>\n",
       "      <td>0</td>\n",
       "      <td>35966.698</td>\n",
       "      <td>housing transactions</td>\n",
       "      <td>40-49</td>\n",
       "    </tr>\n",
       "    <tr>\n",
       "      <th>21450</th>\n",
       "      <td>0</td>\n",
       "      <td>2353.015932</td>\n",
       "      <td>67</td>\n",
       "      <td>secondary education</td>\n",
       "      <td>1</td>\n",
       "      <td>married</td>\n",
       "      <td>0</td>\n",
       "      <td>F</td>\n",
       "      <td>retiree</td>\n",
       "      <td>0</td>\n",
       "      <td>24959.969</td>\n",
       "      <td>purchase of a car</td>\n",
       "      <td>60-69</td>\n",
       "    </tr>\n",
       "    <tr>\n",
       "      <th>21451</th>\n",
       "      <td>1</td>\n",
       "      <td>2113.346888</td>\n",
       "      <td>38</td>\n",
       "      <td>secondary education</td>\n",
       "      <td>1</td>\n",
       "      <td>civil partnership</td>\n",
       "      <td>1</td>\n",
       "      <td>M</td>\n",
       "      <td>employee</td>\n",
       "      <td>1</td>\n",
       "      <td>14347.610</td>\n",
       "      <td>property</td>\n",
       "      <td>30-39</td>\n",
       "    </tr>\n",
       "    <tr>\n",
       "      <th>21452</th>\n",
       "      <td>3</td>\n",
       "      <td>3112.481705</td>\n",
       "      <td>38</td>\n",
       "      <td>secondary education</td>\n",
       "      <td>1</td>\n",
       "      <td>married</td>\n",
       "      <td>0</td>\n",
       "      <td>M</td>\n",
       "      <td>employee</td>\n",
       "      <td>1</td>\n",
       "      <td>39054.888</td>\n",
       "      <td>buying my own car</td>\n",
       "      <td>30-39</td>\n",
       "    </tr>\n",
       "    <tr>\n",
       "      <th>21453</th>\n",
       "      <td>2</td>\n",
       "      <td>1984.507589</td>\n",
       "      <td>40</td>\n",
       "      <td>secondary education</td>\n",
       "      <td>1</td>\n",
       "      <td>married</td>\n",
       "      <td>0</td>\n",
       "      <td>F</td>\n",
       "      <td>employee</td>\n",
       "      <td>0</td>\n",
       "      <td>13127.587</td>\n",
       "      <td>to buy a car</td>\n",
       "      <td>40-49</td>\n",
       "    </tr>\n",
       "  </tbody>\n",
       "</table>\n",
       "<p>19351 rows × 13 columns</p>\n",
       "</div>"
      ],
      "text/plain": [
       "       children  days_employed  dob_years            education  education_id  \\\n",
       "0             1    8437.673028         42    bachelor's degree             0   \n",
       "1             1    4024.803754         36  secondary education             1   \n",
       "2             0    5623.422610         33  secondary education             1   \n",
       "3             3    4124.747207         32  secondary education             1   \n",
       "4             0    2353.015932         53  secondary education             1   \n",
       "...         ...            ...        ...                  ...           ...   \n",
       "21449         1    4529.316663         43  secondary education             1   \n",
       "21450         0    2353.015932         67  secondary education             1   \n",
       "21451         1    2113.346888         38  secondary education             1   \n",
       "21452         3    3112.481705         38  secondary education             1   \n",
       "21453         2    1984.507589         40  secondary education             1   \n",
       "\n",
       "           family_status  family_status_id gender income_type  debt  \\\n",
       "0                married                 0      F    employee     0   \n",
       "1                married                 0      F    employee     0   \n",
       "2                married                 0      M    employee     0   \n",
       "3                married                 0      M    employee     0   \n",
       "4      civil partnership                 1      F     retiree     0   \n",
       "...                  ...               ...    ...         ...   ...   \n",
       "21449  civil partnership                 1      F    business     0   \n",
       "21450            married                 0      F     retiree     0   \n",
       "21451  civil partnership                 1      M    employee     1   \n",
       "21452            married                 0      M    employee     1   \n",
       "21453            married                 0      F    employee     0   \n",
       "\n",
       "       total_income                  purpose years_goup  \n",
       "0         40620.102    purchase of the house      40-49  \n",
       "1         17932.802             car purchase      30-39  \n",
       "2         23341.752    purchase of the house      30-39  \n",
       "3         42820.568  supplementary education      30-39  \n",
       "4         25378.572        to have a wedding      50-59  \n",
       "...             ...                      ...        ...  \n",
       "21449     35966.698     housing transactions      40-49  \n",
       "21450     24959.969        purchase of a car      60-69  \n",
       "21451     14347.610                 property      30-39  \n",
       "21452     39054.888        buying my own car      30-39  \n",
       "21453     13127.587             to buy a car      40-49  \n",
       "\n",
       "[19351 rows x 13 columns]"
      ]
     },
     "execution_count": 51,
     "metadata": {},
     "output_type": "execute_result"
    }
   ],
   "source": [
    "# Crea una tabla sin valores ausentes y muestra algunas de sus filas para asegurarte de que se ve bien\n",
    "df_without_nan = df.dropna()\n",
    "df_without_nan.info()\n",
    "df_without_nan"
   ]
  },
  {
   "cell_type": "code",
   "execution_count": 52,
   "id": "a6a30cf6",
   "metadata": {},
   "outputs": [
    {
     "name": "stdout",
     "output_type": "stream",
     "text": [
      "3306.762\n",
      "362496.645\n",
      "23202.87\n",
      "26787.56835465871\n"
     ]
    },
    {
     "data": {
      "image/png": "[encoded data removed]",
      "text/plain": [
       "<Figure size 432x288 with 1 Axes>"
      ]
     },
     "metadata": {
      "needs_background": "light"
     },
     "output_type": "display_data"
    }
   ],
   "source": [
    "# Examina los valores medios de los ingresos en función del estado civil\n",
    "my_plot = df_without_nan.plot(\"family_status\", \"total_income\", kind=\"scatter\")\n",
    "\n",
    "print(df_without_nan['total_income'].min())\n",
    "print(df_without_nan['total_income'].max())\n",
    "print(df_without_nan['total_income'].median())\n",
    "print(df_without_nan['total_income'].mean())"
   ]
  },
  {
   "cell_type": "code",
   "execution_count": 53,
   "id": "a4fdcaf2",
   "metadata": {},
   "outputs": [
    {
     "name": "stdout",
     "output_type": "stream",
     "text": [
      "3306.762\n",
      "362496.645\n",
      "23202.87\n",
      "26787.56835465871\n"
     ]
    },
    {
     "data": {
      "image/png": "[encoded data removed]",
      "text/plain": [
       "<Figure size 432x288 with 1 Axes>"
      ]
     },
     "metadata": {
      "needs_background": "light"
     },
     "output_type": "display_data"
    }
   ],
   "source": [
    "# Examina los valores medios de los ingresos en función del la Hijos\n",
    "\n",
    "my_plot = df_without_nan.plot(\"children\", \"total_income\", kind=\"scatter\")\n",
    "\n",
    "print(df_without_nan['total_income'].min())\n",
    "print(df_without_nan['total_income'].max())\n",
    "print(df_without_nan['total_income'].median())\n",
    "print(df_without_nan['total_income'].mean())"
   ]
  },
  {
   "cell_type": "code",
   "execution_count": 54,
   "id": "ec645129",
   "metadata": {
    "scrolled": true
   },
   "outputs": [
    {
     "name": "stdout",
     "output_type": "stream",
     "text": [
      "3306.762\n",
      "362496.645\n",
      "23202.87\n",
      "26787.56835465871\n"
     ]
    },
    {
     "data": {
      "image/png": "[encoded data removed]",
      "text/plain": [
       "<Figure size 432x288 with 1 Axes>"
      ]
     },
     "metadata": {
      "needs_background": "light"
     },
     "output_type": "display_data"
    }
   ],
   "source": [
    "# Examina los valores medios de los ingresos en función del genero\n",
    "\n",
    "my_plot = df_without_nan.plot(\"gender\", \"total_income\", kind=\"scatter\")\n",
    "\n",
    "print(df_without_nan['total_income'].min())\n",
    "print(df_without_nan['total_income'].max())\n",
    "print(df_without_nan['total_income'].median())\n",
    "print(df_without_nan['total_income'].mean())"
   ]
  },
  {
   "cell_type": "code",
   "execution_count": 55,
   "id": "17a3048e",
   "metadata": {},
   "outputs": [
    {
     "name": "stdout",
     "output_type": "stream",
     "text": [
      "3306.762\n",
      "362496.645\n",
      "23202.87\n",
      "26787.56835465871\n"
     ]
    },
    {
     "data": {
      "image/png": "[encoded data removed]",
      "text/plain": [
       "<Figure size 432x288 with 1 Axes>"
      ]
     },
     "metadata": {
      "needs_background": "light"
     },
     "output_type": "display_data"
    }
   ],
   "source": [
    "# Examina los valores medios de los ingresos en función del tipo de empleo \n",
    "\n",
    "my_plot = df_without_nan.plot(\"income_type\", \"total_income\", kind=\"scatter\")\n",
    "\n",
    "print(df_without_nan['total_income'].min())\n",
    "print(df_without_nan['total_income'].max())\n",
    "print(df_without_nan['total_income'].median())\n",
    "print(df_without_nan['total_income'].mean())"
   ]
  },
  {
   "cell_type": "code",
   "execution_count": 56,
   "id": "2317e1fb",
   "metadata": {
    "scrolled": true
   },
   "outputs": [
    {
     "name": "stdout",
     "output_type": "stream",
     "text": [
      "3306.762\n",
      "362496.645\n",
      "23202.87\n",
      "26787.56835465871\n"
     ]
    },
    {
     "data": {
      "image/png": "[encoded data removed]",
      "text/plain": [
       "<Figure size 432x288 with 1 Axes>"
      ]
     },
     "metadata": {
      "needs_background": "light"
     },
     "output_type": "display_data"
    }
   ],
   "source": [
    "# Examina los valores medios de los ingresos en función del la education\n",
    "my_plot = df_without_nan.plot(\"education_id\", \"total_income\", kind=\"scatter\")\n",
    "\n",
    "print(df_without_nan['total_income'].min())\n",
    "print(df_without_nan['total_income'].max())\n",
    "print(df_without_nan['total_income'].median())\n",
    "print(df_without_nan['total_income'].mean())"
   ]
  },
  {
   "cell_type": "markdown",
   "id": "767e953c",
   "metadata": {},
   "source": [
    "Se aplicar sustituiran los valores ausentes por el promedio de cada nivel educativo"
   ]
  },
  {
   "cell_type": "code",
   "execution_count": 57,
   "id": "a98cb6e1",
   "metadata": {},
   "outputs": [
    {
     "data": {
      "text/html": [
       "<div>\n",
       "<style scoped>\n",
       "    .dataframe tbody tr th:only-of-type {\n",
       "        vertical-align: middle;\n",
       "    }\n",
       "\n",
       "    .dataframe tbody tr th {\n",
       "        vertical-align: top;\n",
       "    }\n",
       "\n",
       "    .dataframe thead th {\n",
       "        text-align: right;\n",
       "    }\n",
       "</style>\n",
       "<table border=\"1\" class=\"dataframe\">\n",
       "  <thead>\n",
       "    <tr style=\"text-align: right;\">\n",
       "      <th></th>\n",
       "      <th>total_income</th>\n",
       "    </tr>\n",
       "    <tr>\n",
       "      <th>education_id</th>\n",
       "      <th></th>\n",
       "    </tr>\n",
       "  </thead>\n",
       "  <tbody>\n",
       "    <tr>\n",
       "      <th>0</th>\n",
       "      <td>33142.802434</td>\n",
       "    </tr>\n",
       "    <tr>\n",
       "      <th>1</th>\n",
       "      <td>24594.503037</td>\n",
       "    </tr>\n",
       "    <tr>\n",
       "      <th>2</th>\n",
       "      <td>29045.443644</td>\n",
       "    </tr>\n",
       "    <tr>\n",
       "      <th>3</th>\n",
       "      <td>21144.882211</td>\n",
       "    </tr>\n",
       "    <tr>\n",
       "      <th>4</th>\n",
       "      <td>27960.024667</td>\n",
       "    </tr>\n",
       "  </tbody>\n",
       "</table>\n",
       "</div>"
      ],
      "text/plain": [
       "              total_income\n",
       "education_id              \n",
       "0             33142.802434\n",
       "1             24594.503037\n",
       "2             29045.443644\n",
       "3             21144.882211\n",
       "4             27960.024667"
      ]
     },
     "execution_count": 57,
     "metadata": {},
     "output_type": "execute_result"
    }
   ],
   "source": [
    "#creamos una tabla dinamica donde los indices serian el education_id\n",
    "income_education = df_without_nan.pivot_table(index='education_id', values='total_income', aggfunc='mean')\n",
    "income_education"
   ]
  },
  {
   "cell_type": "code",
   "execution_count": 58,
   "id": "bb58a62c",
   "metadata": {},
   "outputs": [],
   "source": [
    "#  Escribe una función que usaremos para completar los valores ausentes\n",
    "\n",
    "def total_income_education(row):\n",
    "    education_id = row['education_id']\n",
    "    total_income = row['total_income']\n",
    "    if pd.isna(total_income):\n",
    "        return income_education['total_income'][education_id]\n",
    "    return total_income"
   ]
  },
  {
   "cell_type": "code",
   "execution_count": 59,
   "id": "592c4673",
   "metadata": {},
   "outputs": [],
   "source": [
    "#comprobar la funcioncion \n",
    "row_values = [np.nan, 3]  \n",
    "row_columns = ['total_income', 'education_id']\n",
    "row = pd.Series(data=row_values, index=row_columns)\n",
    "total_income_education(row)\n",
    "# Reemplazar los valores ausentes si hay algún error\n",
    "df['total_income'] = df.apply(total_income_education, axis=1)"
   ]
  },
  {
   "cell_type": "code",
   "execution_count": 60,
   "id": "1f21dd95",
   "metadata": {},
   "outputs": [
    {
     "name": "stdout",
     "output_type": "stream",
     "text": [
      "<class 'pandas.core.frame.DataFrame'>\n",
      "RangeIndex: 21454 entries, 0 to 21453\n",
      "Data columns (total 13 columns):\n",
      " #   Column            Non-Null Count  Dtype  \n",
      "---  ------            --------------  -----  \n",
      " 0   children          21454 non-null  int64  \n",
      " 1   days_employed     19351 non-null  float64\n",
      " 2   dob_years         21454 non-null  int64  \n",
      " 3   education         21454 non-null  object \n",
      " 4   education_id      21454 non-null  int64  \n",
      " 5   family_status     21454 non-null  object \n",
      " 6   family_status_id  21454 non-null  int64  \n",
      " 7   gender            21454 non-null  object \n",
      " 8   income_type       21454 non-null  object \n",
      " 9   debt              21454 non-null  int64  \n",
      " 10  total_income      21454 non-null  float64\n",
      " 11  purpose           21454 non-null  object \n",
      " 12  years_goup        21454 non-null  object \n",
      "dtypes: float64(2), int64(5), object(6)\n",
      "memory usage: 2.1+ MB\n"
     ]
    },
    {
     "data": {
      "text/html": [
       "<div>\n",
       "<style scoped>\n",
       "    .dataframe tbody tr th:only-of-type {\n",
       "        vertical-align: middle;\n",
       "    }\n",
       "\n",
       "    .dataframe tbody tr th {\n",
       "        vertical-align: top;\n",
       "    }\n",
       "\n",
       "    .dataframe thead th {\n",
       "        text-align: right;\n",
       "    }\n",
       "</style>\n",
       "<table border=\"1\" class=\"dataframe\">\n",
       "  <thead>\n",
       "    <tr style=\"text-align: right;\">\n",
       "      <th></th>\n",
       "      <th>children</th>\n",
       "      <th>days_employed</th>\n",
       "      <th>dob_years</th>\n",
       "      <th>education</th>\n",
       "      <th>education_id</th>\n",
       "      <th>family_status</th>\n",
       "      <th>family_status_id</th>\n",
       "      <th>gender</th>\n",
       "      <th>income_type</th>\n",
       "      <th>debt</th>\n",
       "      <th>total_income</th>\n",
       "      <th>purpose</th>\n",
       "      <th>years_goup</th>\n",
       "    </tr>\n",
       "  </thead>\n",
       "  <tbody>\n",
       "    <tr>\n",
       "      <th>0</th>\n",
       "      <td>1</td>\n",
       "      <td>8437.673028</td>\n",
       "      <td>42</td>\n",
       "      <td>bachelor's degree</td>\n",
       "      <td>0</td>\n",
       "      <td>married</td>\n",
       "      <td>0</td>\n",
       "      <td>F</td>\n",
       "      <td>employee</td>\n",
       "      <td>0</td>\n",
       "      <td>40620.102000</td>\n",
       "      <td>purchase of the house</td>\n",
       "      <td>40-49</td>\n",
       "    </tr>\n",
       "    <tr>\n",
       "      <th>1</th>\n",
       "      <td>1</td>\n",
       "      <td>4024.803754</td>\n",
       "      <td>36</td>\n",
       "      <td>secondary education</td>\n",
       "      <td>1</td>\n",
       "      <td>married</td>\n",
       "      <td>0</td>\n",
       "      <td>F</td>\n",
       "      <td>employee</td>\n",
       "      <td>0</td>\n",
       "      <td>17932.802000</td>\n",
       "      <td>car purchase</td>\n",
       "      <td>30-39</td>\n",
       "    </tr>\n",
       "    <tr>\n",
       "      <th>2</th>\n",
       "      <td>0</td>\n",
       "      <td>5623.422610</td>\n",
       "      <td>33</td>\n",
       "      <td>secondary education</td>\n",
       "      <td>1</td>\n",
       "      <td>married</td>\n",
       "      <td>0</td>\n",
       "      <td>M</td>\n",
       "      <td>employee</td>\n",
       "      <td>0</td>\n",
       "      <td>23341.752000</td>\n",
       "      <td>purchase of the house</td>\n",
       "      <td>30-39</td>\n",
       "    </tr>\n",
       "    <tr>\n",
       "      <th>3</th>\n",
       "      <td>3</td>\n",
       "      <td>4124.747207</td>\n",
       "      <td>32</td>\n",
       "      <td>secondary education</td>\n",
       "      <td>1</td>\n",
       "      <td>married</td>\n",
       "      <td>0</td>\n",
       "      <td>M</td>\n",
       "      <td>employee</td>\n",
       "      <td>0</td>\n",
       "      <td>42820.568000</td>\n",
       "      <td>supplementary education</td>\n",
       "      <td>30-39</td>\n",
       "    </tr>\n",
       "    <tr>\n",
       "      <th>4</th>\n",
       "      <td>0</td>\n",
       "      <td>2353.015932</td>\n",
       "      <td>53</td>\n",
       "      <td>secondary education</td>\n",
       "      <td>1</td>\n",
       "      <td>civil partnership</td>\n",
       "      <td>1</td>\n",
       "      <td>F</td>\n",
       "      <td>retiree</td>\n",
       "      <td>0</td>\n",
       "      <td>25378.572000</td>\n",
       "      <td>to have a wedding</td>\n",
       "      <td>50-59</td>\n",
       "    </tr>\n",
       "    <tr>\n",
       "      <th>5</th>\n",
       "      <td>0</td>\n",
       "      <td>926.185831</td>\n",
       "      <td>27</td>\n",
       "      <td>bachelor's degree</td>\n",
       "      <td>0</td>\n",
       "      <td>civil partnership</td>\n",
       "      <td>1</td>\n",
       "      <td>M</td>\n",
       "      <td>business</td>\n",
       "      <td>0</td>\n",
       "      <td>40922.170000</td>\n",
       "      <td>purchase of the house</td>\n",
       "      <td>20-29</td>\n",
       "    </tr>\n",
       "    <tr>\n",
       "      <th>6</th>\n",
       "      <td>0</td>\n",
       "      <td>2879.202052</td>\n",
       "      <td>43</td>\n",
       "      <td>bachelor's degree</td>\n",
       "      <td>0</td>\n",
       "      <td>married</td>\n",
       "      <td>0</td>\n",
       "      <td>F</td>\n",
       "      <td>business</td>\n",
       "      <td>0</td>\n",
       "      <td>38484.156000</td>\n",
       "      <td>housing transactions</td>\n",
       "      <td>40-49</td>\n",
       "    </tr>\n",
       "    <tr>\n",
       "      <th>7</th>\n",
       "      <td>0</td>\n",
       "      <td>152.779569</td>\n",
       "      <td>50</td>\n",
       "      <td>secondary education</td>\n",
       "      <td>1</td>\n",
       "      <td>married</td>\n",
       "      <td>0</td>\n",
       "      <td>M</td>\n",
       "      <td>employee</td>\n",
       "      <td>0</td>\n",
       "      <td>21731.829000</td>\n",
       "      <td>education</td>\n",
       "      <td>50-59</td>\n",
       "    </tr>\n",
       "    <tr>\n",
       "      <th>8</th>\n",
       "      <td>2</td>\n",
       "      <td>6929.865299</td>\n",
       "      <td>35</td>\n",
       "      <td>bachelor's degree</td>\n",
       "      <td>0</td>\n",
       "      <td>civil partnership</td>\n",
       "      <td>1</td>\n",
       "      <td>F</td>\n",
       "      <td>employee</td>\n",
       "      <td>0</td>\n",
       "      <td>15337.093000</td>\n",
       "      <td>having a wedding</td>\n",
       "      <td>30-39</td>\n",
       "    </tr>\n",
       "    <tr>\n",
       "      <th>9</th>\n",
       "      <td>0</td>\n",
       "      <td>2188.756445</td>\n",
       "      <td>41</td>\n",
       "      <td>secondary education</td>\n",
       "      <td>1</td>\n",
       "      <td>married</td>\n",
       "      <td>0</td>\n",
       "      <td>M</td>\n",
       "      <td>employee</td>\n",
       "      <td>0</td>\n",
       "      <td>23108.150000</td>\n",
       "      <td>purchase of the house for my family</td>\n",
       "      <td>40-49</td>\n",
       "    </tr>\n",
       "    <tr>\n",
       "      <th>10</th>\n",
       "      <td>2</td>\n",
       "      <td>4171.483647</td>\n",
       "      <td>36</td>\n",
       "      <td>bachelor's degree</td>\n",
       "      <td>0</td>\n",
       "      <td>married</td>\n",
       "      <td>0</td>\n",
       "      <td>M</td>\n",
       "      <td>business</td>\n",
       "      <td>0</td>\n",
       "      <td>18230.959000</td>\n",
       "      <td>buy real estate</td>\n",
       "      <td>30-39</td>\n",
       "    </tr>\n",
       "    <tr>\n",
       "      <th>11</th>\n",
       "      <td>0</td>\n",
       "      <td>792.701887</td>\n",
       "      <td>40</td>\n",
       "      <td>secondary education</td>\n",
       "      <td>1</td>\n",
       "      <td>married</td>\n",
       "      <td>0</td>\n",
       "      <td>F</td>\n",
       "      <td>employee</td>\n",
       "      <td>0</td>\n",
       "      <td>12331.077000</td>\n",
       "      <td>buy commercial real estate</td>\n",
       "      <td>40-49</td>\n",
       "    </tr>\n",
       "    <tr>\n",
       "      <th>12</th>\n",
       "      <td>0</td>\n",
       "      <td>NaN</td>\n",
       "      <td>65</td>\n",
       "      <td>secondary education</td>\n",
       "      <td>1</td>\n",
       "      <td>civil partnership</td>\n",
       "      <td>1</td>\n",
       "      <td>M</td>\n",
       "      <td>retiree</td>\n",
       "      <td>0</td>\n",
       "      <td>24594.503037</td>\n",
       "      <td>to have a wedding</td>\n",
       "      <td>60-69</td>\n",
       "    </tr>\n",
       "  </tbody>\n",
       "</table>\n",
       "</div>"
      ],
      "text/plain": [
       "    children  days_employed  dob_years            education  education_id  \\\n",
       "0          1    8437.673028         42    bachelor's degree             0   \n",
       "1          1    4024.803754         36  secondary education             1   \n",
       "2          0    5623.422610         33  secondary education             1   \n",
       "3          3    4124.747207         32  secondary education             1   \n",
       "4          0    2353.015932         53  secondary education             1   \n",
       "5          0     926.185831         27    bachelor's degree             0   \n",
       "6          0    2879.202052         43    bachelor's degree             0   \n",
       "7          0     152.779569         50  secondary education             1   \n",
       "8          2    6929.865299         35    bachelor's degree             0   \n",
       "9          0    2188.756445         41  secondary education             1   \n",
       "10         2    4171.483647         36    bachelor's degree             0   \n",
       "11         0     792.701887         40  secondary education             1   \n",
       "12         0            NaN         65  secondary education             1   \n",
       "\n",
       "        family_status  family_status_id gender income_type  debt  \\\n",
       "0             married                 0      F    employee     0   \n",
       "1             married                 0      F    employee     0   \n",
       "2             married                 0      M    employee     0   \n",
       "3             married                 0      M    employee     0   \n",
       "4   civil partnership                 1      F     retiree     0   \n",
       "5   civil partnership                 1      M    business     0   \n",
       "6             married                 0      F    business     0   \n",
       "7             married                 0      M    employee     0   \n",
       "8   civil partnership                 1      F    employee     0   \n",
       "9             married                 0      M    employee     0   \n",
       "10            married                 0      M    business     0   \n",
       "11            married                 0      F    employee     0   \n",
       "12  civil partnership                 1      M     retiree     0   \n",
       "\n",
       "    total_income                              purpose years_goup  \n",
       "0   40620.102000                purchase of the house      40-49  \n",
       "1   17932.802000                         car purchase      30-39  \n",
       "2   23341.752000                purchase of the house      30-39  \n",
       "3   42820.568000              supplementary education      30-39  \n",
       "4   25378.572000                    to have a wedding      50-59  \n",
       "5   40922.170000                purchase of the house      20-29  \n",
       "6   38484.156000                 housing transactions      40-49  \n",
       "7   21731.829000                            education      50-59  \n",
       "8   15337.093000                     having a wedding      30-39  \n",
       "9   23108.150000  purchase of the house for my family      40-49  \n",
       "10  18230.959000                      buy real estate      30-39  \n",
       "11  12331.077000           buy commercial real estate      40-49  \n",
       "12  24594.503037                    to have a wedding      60-69  "
      ]
     },
     "execution_count": 60,
     "metadata": {},
     "output_type": "execute_result"
    }
   ],
   "source": [
    "# Comprobar el número de entradas en las columnas\n",
    "df.info()\n",
    "df.head(13)"
   ]
  },
  {
   "cell_type": "code",
   "execution_count": 61,
   "id": "60052f74",
   "metadata": {},
   "outputs": [
    {
     "name": "stdout",
     "output_type": "stream",
     "text": [
      "24.14163324048118\n",
      "18388.949900568383\n",
      "2194.220566878695\n",
      "2353.0159319989175\n"
     ]
    },
    {
     "data": {
      "image/png": "[encoded data removed]",
      "text/plain": [
       "<Figure size 432x288 with 1 Axes>"
      ]
     },
     "metadata": {
      "needs_background": "light"
     },
     "output_type": "display_data"
    }
   ],
   "source": [
    "# Distribución de las medias de `days_employed` en función de los parámetros identificados\n",
    "my_plot = df_without_nan.plot(\"years_goup\", \"days_employed\", kind=\"scatter\")\n",
    "\n",
    "print(df_without_nan['days_employed'].min())\n",
    "print(df_without_nan['days_employed'].max())\n",
    "print(df_without_nan['days_employed'].median())\n",
    "print(df_without_nan['days_employed'].mean())"
   ]
  },
  {
   "cell_type": "code",
   "execution_count": 62,
   "id": "785416d6",
   "metadata": {},
   "outputs": [
    {
     "data": {
      "text/html": [
       "<div>\n",
       "<style scoped>\n",
       "    .dataframe tbody tr th:only-of-type {\n",
       "        vertical-align: middle;\n",
       "    }\n",
       "\n",
       "    .dataframe tbody tr th {\n",
       "        vertical-align: top;\n",
       "    }\n",
       "\n",
       "    .dataframe thead th {\n",
       "        text-align: right;\n",
       "    }\n",
       "</style>\n",
       "<table border=\"1\" class=\"dataframe\">\n",
       "  <thead>\n",
       "    <tr style=\"text-align: right;\">\n",
       "      <th></th>\n",
       "      <th>days_employed</th>\n",
       "    </tr>\n",
       "    <tr>\n",
       "      <th>years_goup</th>\n",
       "      <th></th>\n",
       "    </tr>\n",
       "  </thead>\n",
       "  <tbody>\n",
       "    <tr>\n",
       "      <th>20-29</th>\n",
       "      <td>1212.702751</td>\n",
       "    </tr>\n",
       "    <tr>\n",
       "      <th>30-39</th>\n",
       "      <td>2028.329275</td>\n",
       "    </tr>\n",
       "    <tr>\n",
       "      <th>40-49</th>\n",
       "      <td>2714.026894</td>\n",
       "    </tr>\n",
       "    <tr>\n",
       "      <th>50-59</th>\n",
       "      <td>2935.124727</td>\n",
       "    </tr>\n",
       "    <tr>\n",
       "      <th>60-69</th>\n",
       "      <td>2687.136194</td>\n",
       "    </tr>\n",
       "    <tr>\n",
       "      <th>70+</th>\n",
       "      <td>2587.240056</td>\n",
       "    </tr>\n",
       "  </tbody>\n",
       "</table>\n",
       "</div>"
      ],
      "text/plain": [
       "            days_employed\n",
       "years_goup               \n",
       "20-29         1212.702751\n",
       "30-39         2028.329275\n",
       "40-49         2714.026894\n",
       "50-59         2935.124727\n",
       "60-69         2687.136194\n",
       "70+           2587.240056"
      ]
     },
     "execution_count": 62,
     "metadata": {},
     "output_type": "execute_result"
    }
   ],
   "source": [
    "days_employed_group = df_without_nan.pivot_table(index='years_goup', values='days_employed', aggfunc='mean')\n",
    "days_employed_group"
   ]
  },
  {
   "cell_type": "code",
   "execution_count": 63,
   "id": "4999e73d",
   "metadata": {},
   "outputs": [],
   "source": [
    "#  Escribe una función que usaremos para completar los valores ausentes\n",
    "\n",
    "def years_goup_employed(row):\n",
    "    years_goup = row['years_goup']\n",
    "    days_employed = row['days_employed']\n",
    "    if pd.isna(days_employed):\n",
    "        return days_employed_group['days_employed'][years_goup]\n",
    "    return days_employed"
   ]
  },
  {
   "cell_type": "code",
   "execution_count": 64,
   "id": "1f05111e",
   "metadata": {},
   "outputs": [
    {
     "data": {
      "text/plain": [
       "2687.136193755712"
      ]
     },
     "execution_count": 64,
     "metadata": {},
     "output_type": "execute_result"
    }
   ],
   "source": [
    "#comprobar la funcioncion \n",
    "row_values = [np.nan, '60-69']  \n",
    "row_columns = ['days_employed', 'years_goup']\n",
    "row = pd.Series(data=row_values, index=row_columns)\n",
    "years_goup_employed(row)"
   ]
  },
  {
   "cell_type": "code",
   "execution_count": 65,
   "id": "15d1a60d",
   "metadata": {},
   "outputs": [],
   "source": [
    "# Reemplazar los valores ausentes si hay algún error\n",
    "df['days_employed'] = df.apply(years_goup_employed, axis=1)"
   ]
  },
  {
   "cell_type": "code",
   "execution_count": 66,
   "id": "0a789961",
   "metadata": {},
   "outputs": [
    {
     "name": "stdout",
     "output_type": "stream",
     "text": [
      "<class 'pandas.core.frame.DataFrame'>\n",
      "RangeIndex: 21454 entries, 0 to 21453\n",
      "Data columns (total 13 columns):\n",
      " #   Column            Non-Null Count  Dtype  \n",
      "---  ------            --------------  -----  \n",
      " 0   children          21454 non-null  int64  \n",
      " 1   days_employed     21454 non-null  float64\n",
      " 2   dob_years         21454 non-null  int64  \n",
      " 3   education         21454 non-null  object \n",
      " 4   education_id      21454 non-null  int64  \n",
      " 5   family_status     21454 non-null  object \n",
      " 6   family_status_id  21454 non-null  int64  \n",
      " 7   gender            21454 non-null  object \n",
      " 8   income_type       21454 non-null  object \n",
      " 9   debt              21454 non-null  int64  \n",
      " 10  total_income      21454 non-null  float64\n",
      " 11  purpose           21454 non-null  object \n",
      " 12  years_goup        21454 non-null  object \n",
      "dtypes: float64(2), int64(5), object(6)\n",
      "memory usage: 2.1+ MB\n"
     ]
    },
    {
     "data": {
      "text/html": [
       "<div>\n",
       "<style scoped>\n",
       "    .dataframe tbody tr th:only-of-type {\n",
       "        vertical-align: middle;\n",
       "    }\n",
       "\n",
       "    .dataframe tbody tr th {\n",
       "        vertical-align: top;\n",
       "    }\n",
       "\n",
       "    .dataframe thead th {\n",
       "        text-align: right;\n",
       "    }\n",
       "</style>\n",
       "<table border=\"1\" class=\"dataframe\">\n",
       "  <thead>\n",
       "    <tr style=\"text-align: right;\">\n",
       "      <th></th>\n",
       "      <th>children</th>\n",
       "      <th>days_employed</th>\n",
       "      <th>dob_years</th>\n",
       "      <th>education</th>\n",
       "      <th>education_id</th>\n",
       "      <th>family_status</th>\n",
       "      <th>family_status_id</th>\n",
       "      <th>gender</th>\n",
       "      <th>income_type</th>\n",
       "      <th>debt</th>\n",
       "      <th>total_income</th>\n",
       "      <th>purpose</th>\n",
       "      <th>years_goup</th>\n",
       "    </tr>\n",
       "  </thead>\n",
       "  <tbody>\n",
       "    <tr>\n",
       "      <th>0</th>\n",
       "      <td>1</td>\n",
       "      <td>8437.673028</td>\n",
       "      <td>42</td>\n",
       "      <td>bachelor's degree</td>\n",
       "      <td>0</td>\n",
       "      <td>married</td>\n",
       "      <td>0</td>\n",
       "      <td>F</td>\n",
       "      <td>employee</td>\n",
       "      <td>0</td>\n",
       "      <td>40620.102000</td>\n",
       "      <td>purchase of the house</td>\n",
       "      <td>40-49</td>\n",
       "    </tr>\n",
       "    <tr>\n",
       "      <th>1</th>\n",
       "      <td>1</td>\n",
       "      <td>4024.803754</td>\n",
       "      <td>36</td>\n",
       "      <td>secondary education</td>\n",
       "      <td>1</td>\n",
       "      <td>married</td>\n",
       "      <td>0</td>\n",
       "      <td>F</td>\n",
       "      <td>employee</td>\n",
       "      <td>0</td>\n",
       "      <td>17932.802000</td>\n",
       "      <td>car purchase</td>\n",
       "      <td>30-39</td>\n",
       "    </tr>\n",
       "    <tr>\n",
       "      <th>2</th>\n",
       "      <td>0</td>\n",
       "      <td>5623.422610</td>\n",
       "      <td>33</td>\n",
       "      <td>secondary education</td>\n",
       "      <td>1</td>\n",
       "      <td>married</td>\n",
       "      <td>0</td>\n",
       "      <td>M</td>\n",
       "      <td>employee</td>\n",
       "      <td>0</td>\n",
       "      <td>23341.752000</td>\n",
       "      <td>purchase of the house</td>\n",
       "      <td>30-39</td>\n",
       "    </tr>\n",
       "    <tr>\n",
       "      <th>3</th>\n",
       "      <td>3</td>\n",
       "      <td>4124.747207</td>\n",
       "      <td>32</td>\n",
       "      <td>secondary education</td>\n",
       "      <td>1</td>\n",
       "      <td>married</td>\n",
       "      <td>0</td>\n",
       "      <td>M</td>\n",
       "      <td>employee</td>\n",
       "      <td>0</td>\n",
       "      <td>42820.568000</td>\n",
       "      <td>supplementary education</td>\n",
       "      <td>30-39</td>\n",
       "    </tr>\n",
       "    <tr>\n",
       "      <th>4</th>\n",
       "      <td>0</td>\n",
       "      <td>2353.015932</td>\n",
       "      <td>53</td>\n",
       "      <td>secondary education</td>\n",
       "      <td>1</td>\n",
       "      <td>civil partnership</td>\n",
       "      <td>1</td>\n",
       "      <td>F</td>\n",
       "      <td>retiree</td>\n",
       "      <td>0</td>\n",
       "      <td>25378.572000</td>\n",
       "      <td>to have a wedding</td>\n",
       "      <td>50-59</td>\n",
       "    </tr>\n",
       "    <tr>\n",
       "      <th>5</th>\n",
       "      <td>0</td>\n",
       "      <td>926.185831</td>\n",
       "      <td>27</td>\n",
       "      <td>bachelor's degree</td>\n",
       "      <td>0</td>\n",
       "      <td>civil partnership</td>\n",
       "      <td>1</td>\n",
       "      <td>M</td>\n",
       "      <td>business</td>\n",
       "      <td>0</td>\n",
       "      <td>40922.170000</td>\n",
       "      <td>purchase of the house</td>\n",
       "      <td>20-29</td>\n",
       "    </tr>\n",
       "    <tr>\n",
       "      <th>6</th>\n",
       "      <td>0</td>\n",
       "      <td>2879.202052</td>\n",
       "      <td>43</td>\n",
       "      <td>bachelor's degree</td>\n",
       "      <td>0</td>\n",
       "      <td>married</td>\n",
       "      <td>0</td>\n",
       "      <td>F</td>\n",
       "      <td>business</td>\n",
       "      <td>0</td>\n",
       "      <td>38484.156000</td>\n",
       "      <td>housing transactions</td>\n",
       "      <td>40-49</td>\n",
       "    </tr>\n",
       "    <tr>\n",
       "      <th>7</th>\n",
       "      <td>0</td>\n",
       "      <td>152.779569</td>\n",
       "      <td>50</td>\n",
       "      <td>secondary education</td>\n",
       "      <td>1</td>\n",
       "      <td>married</td>\n",
       "      <td>0</td>\n",
       "      <td>M</td>\n",
       "      <td>employee</td>\n",
       "      <td>0</td>\n",
       "      <td>21731.829000</td>\n",
       "      <td>education</td>\n",
       "      <td>50-59</td>\n",
       "    </tr>\n",
       "    <tr>\n",
       "      <th>8</th>\n",
       "      <td>2</td>\n",
       "      <td>6929.865299</td>\n",
       "      <td>35</td>\n",
       "      <td>bachelor's degree</td>\n",
       "      <td>0</td>\n",
       "      <td>civil partnership</td>\n",
       "      <td>1</td>\n",
       "      <td>F</td>\n",
       "      <td>employee</td>\n",
       "      <td>0</td>\n",
       "      <td>15337.093000</td>\n",
       "      <td>having a wedding</td>\n",
       "      <td>30-39</td>\n",
       "    </tr>\n",
       "    <tr>\n",
       "      <th>9</th>\n",
       "      <td>0</td>\n",
       "      <td>2188.756445</td>\n",
       "      <td>41</td>\n",
       "      <td>secondary education</td>\n",
       "      <td>1</td>\n",
       "      <td>married</td>\n",
       "      <td>0</td>\n",
       "      <td>M</td>\n",
       "      <td>employee</td>\n",
       "      <td>0</td>\n",
       "      <td>23108.150000</td>\n",
       "      <td>purchase of the house for my family</td>\n",
       "      <td>40-49</td>\n",
       "    </tr>\n",
       "    <tr>\n",
       "      <th>10</th>\n",
       "      <td>2</td>\n",
       "      <td>4171.483647</td>\n",
       "      <td>36</td>\n",
       "      <td>bachelor's degree</td>\n",
       "      <td>0</td>\n",
       "      <td>married</td>\n",
       "      <td>0</td>\n",
       "      <td>M</td>\n",
       "      <td>business</td>\n",
       "      <td>0</td>\n",
       "      <td>18230.959000</td>\n",
       "      <td>buy real estate</td>\n",
       "      <td>30-39</td>\n",
       "    </tr>\n",
       "    <tr>\n",
       "      <th>11</th>\n",
       "      <td>0</td>\n",
       "      <td>792.701887</td>\n",
       "      <td>40</td>\n",
       "      <td>secondary education</td>\n",
       "      <td>1</td>\n",
       "      <td>married</td>\n",
       "      <td>0</td>\n",
       "      <td>F</td>\n",
       "      <td>employee</td>\n",
       "      <td>0</td>\n",
       "      <td>12331.077000</td>\n",
       "      <td>buy commercial real estate</td>\n",
       "      <td>40-49</td>\n",
       "    </tr>\n",
       "    <tr>\n",
       "      <th>12</th>\n",
       "      <td>0</td>\n",
       "      <td>2687.136194</td>\n",
       "      <td>65</td>\n",
       "      <td>secondary education</td>\n",
       "      <td>1</td>\n",
       "      <td>civil partnership</td>\n",
       "      <td>1</td>\n",
       "      <td>M</td>\n",
       "      <td>retiree</td>\n",
       "      <td>0</td>\n",
       "      <td>24594.503037</td>\n",
       "      <td>to have a wedding</td>\n",
       "      <td>60-69</td>\n",
       "    </tr>\n",
       "  </tbody>\n",
       "</table>\n",
       "</div>"
      ],
      "text/plain": [
       "    children  days_employed  dob_years            education  education_id  \\\n",
       "0          1    8437.673028         42    bachelor's degree             0   \n",
       "1          1    4024.803754         36  secondary education             1   \n",
       "2          0    5623.422610         33  secondary education             1   \n",
       "3          3    4124.747207         32  secondary education             1   \n",
       "4          0    2353.015932         53  secondary education             1   \n",
       "5          0     926.185831         27    bachelor's degree             0   \n",
       "6          0    2879.202052         43    bachelor's degree             0   \n",
       "7          0     152.779569         50  secondary education             1   \n",
       "8          2    6929.865299         35    bachelor's degree             0   \n",
       "9          0    2188.756445         41  secondary education             1   \n",
       "10         2    4171.483647         36    bachelor's degree             0   \n",
       "11         0     792.701887         40  secondary education             1   \n",
       "12         0    2687.136194         65  secondary education             1   \n",
       "\n",
       "        family_status  family_status_id gender income_type  debt  \\\n",
       "0             married                 0      F    employee     0   \n",
       "1             married                 0      F    employee     0   \n",
       "2             married                 0      M    employee     0   \n",
       "3             married                 0      M    employee     0   \n",
       "4   civil partnership                 1      F     retiree     0   \n",
       "5   civil partnership                 1      M    business     0   \n",
       "6             married                 0      F    business     0   \n",
       "7             married                 0      M    employee     0   \n",
       "8   civil partnership                 1      F    employee     0   \n",
       "9             married                 0      M    employee     0   \n",
       "10            married                 0      M    business     0   \n",
       "11            married                 0      F    employee     0   \n",
       "12  civil partnership                 1      M     retiree     0   \n",
       "\n",
       "    total_income                              purpose years_goup  \n",
       "0   40620.102000                purchase of the house      40-49  \n",
       "1   17932.802000                         car purchase      30-39  \n",
       "2   23341.752000                purchase of the house      30-39  \n",
       "3   42820.568000              supplementary education      30-39  \n",
       "4   25378.572000                    to have a wedding      50-59  \n",
       "5   40922.170000                purchase of the house      20-29  \n",
       "6   38484.156000                 housing transactions      40-49  \n",
       "7   21731.829000                            education      50-59  \n",
       "8   15337.093000                     having a wedding      30-39  \n",
       "9   23108.150000  purchase of the house for my family      40-49  \n",
       "10  18230.959000                      buy real estate      30-39  \n",
       "11  12331.077000           buy commercial real estate      40-49  \n",
       "12  24594.503037                    to have a wedding      60-69  "
      ]
     },
     "execution_count": 66,
     "metadata": {},
     "output_type": "execute_result"
    }
   ],
   "source": [
    "# Comprobar el número de entradas en las columnas\n",
    "df.info()\n",
    "df.head(13)"
   ]
  },
  {
   "cell_type": "markdown",
   "id": "afbc3e15",
   "metadata": {},
   "source": [
    "## Clasificación de datos\n"
   ]
  },
  {
   "cell_type": "code",
   "execution_count": 67,
   "id": "6b6c361a",
   "metadata": {},
   "outputs": [
    {
     "name": "stdout",
     "output_type": "stream",
     "text": [
      "['purchase of the house' 'car purchase' 'supplementary education'\n",
      " 'to have a wedding' 'housing transactions' 'education' 'having a wedding'\n",
      " 'purchase of the house for my family' 'buy real estate'\n",
      " 'buy commercial real estate' 'buy residential real estate'\n",
      " 'construction of own property' 'property' 'building a property'\n",
      " 'buying a second-hand car' 'buying my own car'\n",
      " 'transactions with commercial real estate' 'building a real estate'\n",
      " 'housing' 'transactions with my real estate' 'cars' 'to become educated'\n",
      " 'second-hand car purchase' 'getting an education' 'car'\n",
      " 'wedding ceremony' 'to get a supplementary education'\n",
      " 'purchase of my own house' 'real estate transactions'\n",
      " 'getting higher education' 'to own a car' 'purchase of a car'\n",
      " 'profile education' 'university education'\n",
      " 'buying property for renting out' 'to buy a car' 'housing renovation'\n",
      " 'going to university']\n",
      "wedding ceremony                            791\n",
      "having a wedding                            768\n",
      "to have a wedding                           765\n",
      "real estate transactions                    675\n",
      "buy commercial real estate                  661\n",
      "housing transactions                        652\n",
      "buying property for renting out             651\n",
      "transactions with commercial real estate    650\n",
      "purchase of the house                       646\n",
      "housing                                     646\n",
      "purchase of the house for my family         638\n",
      "construction of own property                635\n",
      "property                                    633\n",
      "transactions with my real estate            627\n",
      "building a real estate                      624\n",
      "buy real estate                             621\n",
      "purchase of my own house                    620\n",
      "building a property                         619\n",
      "housing renovation                          607\n",
      "buy residential real estate                 606\n",
      "buying my own car                           505\n",
      "going to university                         496\n",
      "car                                         494\n",
      "second-hand car purchase                    486\n",
      "to own a car                                478\n",
      "buying a second-hand car                    478\n",
      "cars                                        478\n",
      "to buy a car                                471\n",
      "car purchase                                461\n",
      "supplementary education                     460\n",
      "purchase of a car                           455\n",
      "university education                        452\n",
      "education                                   447\n",
      "to get a supplementary education            446\n",
      "getting an education                        442\n",
      "profile education                           436\n",
      "getting higher education                    426\n",
      "to become educated                          408\n",
      "Name: purpose, dtype: int64\n"
     ]
    }
   ],
   "source": [
    "# Comprobar los valores únicos\n",
    "print(df['purpose'].unique())\n",
    "print(df['purpose'].value_counts())"
   ]
  },
  {
   "cell_type": "markdown",
   "id": "61891574",
   "metadata": {},
   "source": [
    "- Se puede observar que el propocito del prestamos es el mismo, pero con diferente redacciòn "
   ]
  },
  {
   "cell_type": "code",
   "execution_count": 68,
   "id": "2a3af6da",
   "metadata": {},
   "outputs": [],
   "source": [
    "# Escribamos una función para clasificar los datos en función de temas comunes\n",
    "\n",
    "def pupose_class(row):\n",
    "    \n",
    "    purpose = row['purpose']\n",
    "    \n",
    "    car = purpose.find('car')\n",
    "    if car != -1:\n",
    "        return 'car'\n",
    "    \n",
    "    education = purpose.find('education')\n",
    "    if education != -1:\n",
    "        return 'education'\n",
    "    \n",
    "    education = purpose.find('university')\n",
    "    if education != -1:\n",
    "        return 'education'\n",
    "    \n",
    "    education = purpose.find('educated')\n",
    "    if education != -1:\n",
    "        return 'education'\n",
    "    \n",
    "    house = purpose.find('house')\n",
    "    if house != -1:\n",
    "        return 'house'\n",
    "    \n",
    "    wedding = purpose.find('wedding')\n",
    "    if wedding != -1:\n",
    "        return 'wedding'\n",
    "\n",
    "    house = purpose.find('real estate')\n",
    "    if house != -1:\n",
    "        return 'house'\n",
    "    \n",
    "    house  = purpose.find('housing')\n",
    "    if house  != -1:\n",
    "        return 'house'\n",
    "    \n",
    "    house = purpose.find('property')\n",
    "    if house != -1:\n",
    "        return 'house'\n",
    "    return purpose\n",
    "    \n",
    "row_values = ['buying a second-hand car']  \n",
    "row_columns = ['purpose']\n",
    "row = pd.Series(data=row_values, index=row_columns)\n",
    "# Crea una columna con las categorías y cuenta los valores en ellas\n",
    "df['purpose'] = df.apply(pupose_class, axis=1)"
   ]
  },
  {
   "cell_type": "code",
   "execution_count": 69,
   "id": "4e2378ce",
   "metadata": {},
   "outputs": [
    {
     "name": "stdout",
     "output_type": "stream",
     "text": [
      "car\n"
     ]
    }
   ],
   "source": [
    "print(pupose_class(row))"
   ]
  },
  {
   "cell_type": "code",
   "execution_count": 70,
   "id": "175c7220",
   "metadata": {
    "scrolled": true
   },
   "outputs": [
    {
     "name": "stdout",
     "output_type": "stream",
     "text": [
      "['house' 'car' 'education' 'wedding']\n",
      "house        10811\n",
      "car           4306\n",
      "education     4013\n",
      "wedding       2324\n",
      "Name: purpose, dtype: int64\n"
     ]
    }
   ],
   "source": [
    "# Crea una columna con las categorías y cuenta los valores en ellas\n",
    "print(df['purpose'].unique())\n",
    "print(df['purpose'].value_counts())"
   ]
  },
  {
   "cell_type": "code",
   "execution_count": 71,
   "id": "8e39219b",
   "metadata": {},
   "outputs": [
    {
     "name": "stdout",
     "output_type": "stream",
     "text": [
      "24594.503037    1479\n",
      "33142.802434     534\n",
      "29045.443644      69\n",
      "21144.882211      21\n",
      "31791.384000       2\n",
      "                ... \n",
      "27020.895000       1\n",
      "23686.835000       1\n",
      "9606.294000        1\n",
      "28156.762000       1\n",
      "13127.587000       1\n",
      "Name: total_income, Length: 19352, dtype: int64\n"
     ]
    }
   ],
   "source": [
    "# Revisar todos los datos numéricos en la columna seleccionada para la clasificación\n",
    "print(df['total_income'].value_counts())"
   ]
  },
  {
   "cell_type": "code",
   "execution_count": 72,
   "id": "b13d33d8",
   "metadata": {},
   "outputs": [
    {
     "name": "stdout",
     "output_type": "stream",
     "text": [
      "3306.762\n",
      "362496.645\n",
      "23202.87\n",
      "26787.56835465871\n"
     ]
    },
    {
     "data": {
      "image/png": "[encoded data removed]",
      "text/plain": [
       "<Figure size 432x288 with 1 Axes>"
      ]
     },
     "metadata": {
      "needs_background": "light"
     },
     "output_type": "display_data"
    }
   ],
   "source": [
    "# Obtener estadísticas resumidas para la columna\n",
    "my_plot = df_without_nan.plot(\"children\", \"total_income\", kind=\"scatter\")\n",
    "\n",
    "print(df_without_nan['total_income'].min())\n",
    "print(df_without_nan['total_income'].max())\n",
    "print(df_without_nan['total_income'].median())\n",
    "print(df_without_nan['total_income'].mean())"
   ]
  },
  {
   "cell_type": "markdown",
   "id": "eb70b719",
   "metadata": {},
   "source": [
    "- Se agruparan en tres grupos: baja, media y alta para poder visualizar mejor con otros datos"
   ]
  },
  {
   "cell_type": "code",
   "execution_count": 73,
   "id": "9351c8d8",
   "metadata": {
    "scrolled": true
   },
   "outputs": [
    {
     "data": {
      "text/plain": [
       "count     19351.000000\n",
       "mean      26787.568355\n",
       "std       16475.450632\n",
       "min        3306.762000\n",
       "25%       16488.504500\n",
       "50%       23202.870000\n",
       "75%       32549.611000\n",
       "max      362496.645000\n",
       "Name: total_income, dtype: float64"
      ]
     },
     "execution_count": 73,
     "metadata": {},
     "output_type": "execute_result"
    }
   ],
   "source": [
    "df_without_nan['total_income'].describe()"
   ]
  },
  {
   "cell_type": "code",
   "execution_count": 74,
   "id": "34c81fae",
   "metadata": {
    "scrolled": true
   },
   "outputs": [
    {
     "data": {
      "text/plain": [
       "alta     11758\n",
       "media     4858\n",
       "baja      4838\n",
       "Name: income_group, dtype: int64"
      ]
     },
     "execution_count": 74,
     "metadata": {},
     "output_type": "execute_result"
    }
   ],
   "source": [
    "# Crear una función para clasificar en diferentes grupos numéricos basándose en rangos\n",
    "\n",
    "def total_income_group(total_income):\n",
    "    if total_income < 16488.504500:\n",
    "        return 'baja'\n",
    "    elif 16488.504500 <= total_income < 23202.870000:\n",
    "        return 'media'\n",
    "    elif 23202.870000 <= total_income <= df_without_nan['total_income'].max():\n",
    "        return 'alta'\n",
    "    return 'alta'\n",
    "\n",
    "#probando la funciòn \n",
    "row_values = ['alta']  \n",
    "row_columns = ['total_income']\n",
    "row = pd.Series(data=row_values, index=row_columns)\n",
    "\n",
    "# Crear una nueva columna basada en la función\n",
    "df['income_group'] = df['total_income'].apply(total_income_group)\n",
    "df['income_group'].value_counts()"
   ]
  },
  {
   "cell_type": "markdown",
   "id": "ecf9b8ce",
   "metadata": {},
   "source": [
    "Los datos se seleccionaron dependiendo el porcentaje de la población "
   ]
  },
  {
   "cell_type": "markdown",
   "id": "c3bffab5",
   "metadata": {},
   "source": [
    "## Comprobación de las hipótesis"
   ]
  },
  {
   "cell_type": "code",
   "execution_count": 75,
   "id": "e2adb4bc",
   "metadata": {},
   "outputs": [
    {
     "data": {
      "text/html": [
       "<div>\n",
       "<style scoped>\n",
       "    .dataframe tbody tr th:only-of-type {\n",
       "        vertical-align: middle;\n",
       "    }\n",
       "\n",
       "    .dataframe tbody tr th {\n",
       "        vertical-align: top;\n",
       "    }\n",
       "\n",
       "    .dataframe thead tr th {\n",
       "        text-align: left;\n",
       "    }\n",
       "\n",
       "    .dataframe thead tr:last-of-type th {\n",
       "        text-align: right;\n",
       "    }\n",
       "</style>\n",
       "<table border=\"1\" class=\"dataframe\">\n",
       "  <thead>\n",
       "    <tr>\n",
       "      <th></th>\n",
       "      <th colspan=\"2\" halign=\"left\">debt</th>\n",
       "      <th>conversion</th>\n",
       "    </tr>\n",
       "    <tr>\n",
       "      <th></th>\n",
       "      <th>count</th>\n",
       "      <th>sum</th>\n",
       "      <th></th>\n",
       "    </tr>\n",
       "    <tr>\n",
       "      <th>children</th>\n",
       "      <th></th>\n",
       "      <th></th>\n",
       "      <th></th>\n",
       "    </tr>\n",
       "  </thead>\n",
       "  <tbody>\n",
       "    <tr>\n",
       "      <th>0</th>\n",
       "      <td>14091</td>\n",
       "      <td>1063</td>\n",
       "      <td>7.543822</td>\n",
       "    </tr>\n",
       "    <tr>\n",
       "      <th>1</th>\n",
       "      <td>4855</td>\n",
       "      <td>445</td>\n",
       "      <td>9.165808</td>\n",
       "    </tr>\n",
       "    <tr>\n",
       "      <th>2</th>\n",
       "      <td>2128</td>\n",
       "      <td>202</td>\n",
       "      <td>9.492481</td>\n",
       "    </tr>\n",
       "    <tr>\n",
       "      <th>3</th>\n",
       "      <td>330</td>\n",
       "      <td>27</td>\n",
       "      <td>8.181818</td>\n",
       "    </tr>\n",
       "    <tr>\n",
       "      <th>4</th>\n",
       "      <td>41</td>\n",
       "      <td>4</td>\n",
       "      <td>9.756098</td>\n",
       "    </tr>\n",
       "    <tr>\n",
       "      <th>5</th>\n",
       "      <td>9</td>\n",
       "      <td>0</td>\n",
       "      <td>0.000000</td>\n",
       "    </tr>\n",
       "  </tbody>\n",
       "</table>\n",
       "</div>"
      ],
      "text/plain": [
       "           debt       conversion\n",
       "          count   sum           \n",
       "children                        \n",
       "0         14091  1063   7.543822\n",
       "1          4855   445   9.165808\n",
       "2          2128   202   9.492481\n",
       "3           330    27   8.181818\n",
       "4            41     4   9.756098\n",
       "5             9     0   0.000000"
      ]
     },
     "execution_count": 75,
     "metadata": {},
     "output_type": "execute_result"
    }
   ],
   "source": [
    "# Comprueba los datos sobre los hijos y los pagos puntuales\n",
    "children_grouped = df.groupby('children').agg( {'debt': ['count', 'sum']} )\n",
    "# Calcular la tasa de incumplimiento en función del número de hijos\n",
    "met_count = children_grouped['debt']['count']\n",
    "met_sum = children_grouped['debt']['sum']\n",
    "children_grouped['conversion'] = (met_sum / met_count) * 100\n",
    "children_grouped"
   ]
  },
  {
   "cell_type": "markdown",
   "id": "0640b353",
   "metadata": {},
   "source": [
    "- Las tasas de endeudamiento son muy bajas"
   ]
  },
  {
   "cell_type": "code",
   "execution_count": 76,
   "id": "305f697b",
   "metadata": {},
   "outputs": [
    {
     "data": {
      "text/html": [
       "<div>\n",
       "<style scoped>\n",
       "    .dataframe tbody tr th:only-of-type {\n",
       "        vertical-align: middle;\n",
       "    }\n",
       "\n",
       "    .dataframe tbody tr th {\n",
       "        vertical-align: top;\n",
       "    }\n",
       "\n",
       "    .dataframe thead tr th {\n",
       "        text-align: left;\n",
       "    }\n",
       "\n",
       "    .dataframe thead tr:last-of-type th {\n",
       "        text-align: right;\n",
       "    }\n",
       "</style>\n",
       "<table border=\"1\" class=\"dataframe\">\n",
       "  <thead>\n",
       "    <tr>\n",
       "      <th></th>\n",
       "      <th colspan=\"2\" halign=\"left\">debt</th>\n",
       "      <th>conversion</th>\n",
       "    </tr>\n",
       "    <tr>\n",
       "      <th></th>\n",
       "      <th>count</th>\n",
       "      <th>sum</th>\n",
       "      <th></th>\n",
       "    </tr>\n",
       "    <tr>\n",
       "      <th>family_status_id</th>\n",
       "      <th></th>\n",
       "      <th></th>\n",
       "      <th></th>\n",
       "    </tr>\n",
       "  </thead>\n",
       "  <tbody>\n",
       "    <tr>\n",
       "      <th>0</th>\n",
       "      <td>12339</td>\n",
       "      <td>931</td>\n",
       "      <td>7.545182</td>\n",
       "    </tr>\n",
       "    <tr>\n",
       "      <th>1</th>\n",
       "      <td>4151</td>\n",
       "      <td>388</td>\n",
       "      <td>9.347145</td>\n",
       "    </tr>\n",
       "    <tr>\n",
       "      <th>2</th>\n",
       "      <td>959</td>\n",
       "      <td>63</td>\n",
       "      <td>6.569343</td>\n",
       "    </tr>\n",
       "    <tr>\n",
       "      <th>3</th>\n",
       "      <td>1195</td>\n",
       "      <td>85</td>\n",
       "      <td>7.112971</td>\n",
       "    </tr>\n",
       "    <tr>\n",
       "      <th>4</th>\n",
       "      <td>2810</td>\n",
       "      <td>274</td>\n",
       "      <td>9.750890</td>\n",
       "    </tr>\n",
       "  </tbody>\n",
       "</table>\n",
       "</div>"
      ],
      "text/plain": [
       "                   debt      conversion\n",
       "                  count  sum           \n",
       "family_status_id                       \n",
       "0                 12339  931   7.545182\n",
       "1                  4151  388   9.347145\n",
       "2                   959   63   6.569343\n",
       "3                  1195   85   7.112971\n",
       "4                  2810  274   9.750890"
      ]
     },
     "execution_count": 76,
     "metadata": {},
     "output_type": "execute_result"
    }
   ],
   "source": [
    "# Comprueba los datos del estado familiar y los pagos a tiempo\n",
    "family_status_grouped = df.groupby('family_status_id').agg( {'debt': ['count', 'sum']} )\n",
    "# Calcular la tasa de incumplimiento basada en el estado familiar\n",
    "met_count = family_status_grouped['debt']['count']\n",
    "met_sum = family_status_grouped['debt']['sum']\n",
    "family_status_grouped['conversion'] = (met_sum / met_count) * 100\n",
    "family_status_grouped"
   ]
  },
  {
   "cell_type": "markdown",
   "id": "10862442",
   "metadata": {},
   "source": [
    "- Las tasas de endeudamiento son muy bajas y la diferencia entre cada una es minina "
   ]
  },
  {
   "cell_type": "code",
   "execution_count": 77,
   "id": "4d8660cf",
   "metadata": {},
   "outputs": [
    {
     "data": {
      "text/html": [
       "<div>\n",
       "<style scoped>\n",
       "    .dataframe tbody tr th:only-of-type {\n",
       "        vertical-align: middle;\n",
       "    }\n",
       "\n",
       "    .dataframe tbody tr th {\n",
       "        vertical-align: top;\n",
       "    }\n",
       "\n",
       "    .dataframe thead tr th {\n",
       "        text-align: left;\n",
       "    }\n",
       "\n",
       "    .dataframe thead tr:last-of-type th {\n",
       "        text-align: right;\n",
       "    }\n",
       "</style>\n",
       "<table border=\"1\" class=\"dataframe\">\n",
       "  <thead>\n",
       "    <tr>\n",
       "      <th></th>\n",
       "      <th colspan=\"2\" halign=\"left\">debt</th>\n",
       "      <th>conversion</th>\n",
       "    </tr>\n",
       "    <tr>\n",
       "      <th></th>\n",
       "      <th>count</th>\n",
       "      <th>sum</th>\n",
       "      <th></th>\n",
       "    </tr>\n",
       "    <tr>\n",
       "      <th>income_group</th>\n",
       "      <th></th>\n",
       "      <th></th>\n",
       "      <th></th>\n",
       "    </tr>\n",
       "  </thead>\n",
       "  <tbody>\n",
       "    <tr>\n",
       "      <th>alta</th>\n",
       "      <td>11758</td>\n",
       "      <td>934</td>\n",
       "      <td>7.943528</td>\n",
       "    </tr>\n",
       "    <tr>\n",
       "      <th>baja</th>\n",
       "      <td>4838</td>\n",
       "      <td>383</td>\n",
       "      <td>7.916494</td>\n",
       "    </tr>\n",
       "    <tr>\n",
       "      <th>media</th>\n",
       "      <td>4858</td>\n",
       "      <td>424</td>\n",
       "      <td>8.727872</td>\n",
       "    </tr>\n",
       "  </tbody>\n",
       "</table>\n",
       "</div>"
      ],
      "text/plain": [
       "               debt      conversion\n",
       "              count  sum           \n",
       "income_group                       \n",
       "alta          11758  934   7.943528\n",
       "baja           4838  383   7.916494\n",
       "media          4858  424   8.727872"
      ]
     },
     "execution_count": 77,
     "metadata": {},
     "output_type": "execute_result"
    }
   ],
   "source": [
    "# Comprueba los datos del nivel de ingresos y los pagos a tiempo\n",
    "income_grouped = df.groupby('income_group').agg( {'debt': ['count', 'sum']} )\n",
    "# Calcular la tasa de incumplimiento basada en el nivel de ingresos\n",
    "met_count = income_grouped['debt']['count']\n",
    "met_sum = income_grouped['debt']['sum']\n",
    "income_grouped['conversion'] = (met_sum / met_count) * 100\n",
    "income_grouped"
   ]
  },
  {
   "cell_type": "markdown",
   "id": "4cc5758a",
   "metadata": {},
   "source": [
    "- Las tasas de endeudamiento son muy bajas y la diferencia entre cada una es minina "
   ]
  },
  {
   "cell_type": "code",
   "execution_count": 78,
   "id": "b8692b4c",
   "metadata": {},
   "outputs": [
    {
     "data": {
      "text/html": [
       "<div>\n",
       "<style scoped>\n",
       "    .dataframe tbody tr th:only-of-type {\n",
       "        vertical-align: middle;\n",
       "    }\n",
       "\n",
       "    .dataframe tbody tr th {\n",
       "        vertical-align: top;\n",
       "    }\n",
       "\n",
       "    .dataframe thead tr th {\n",
       "        text-align: left;\n",
       "    }\n",
       "\n",
       "    .dataframe thead tr:last-of-type th {\n",
       "        text-align: right;\n",
       "    }\n",
       "</style>\n",
       "<table border=\"1\" class=\"dataframe\">\n",
       "  <thead>\n",
       "    <tr>\n",
       "      <th></th>\n",
       "      <th colspan=\"2\" halign=\"left\">debt</th>\n",
       "      <th>conversion</th>\n",
       "    </tr>\n",
       "    <tr>\n",
       "      <th></th>\n",
       "      <th>count</th>\n",
       "      <th>sum</th>\n",
       "      <th></th>\n",
       "    </tr>\n",
       "    <tr>\n",
       "      <th>purpose</th>\n",
       "      <th></th>\n",
       "      <th></th>\n",
       "      <th></th>\n",
       "    </tr>\n",
       "  </thead>\n",
       "  <tbody>\n",
       "    <tr>\n",
       "      <th>car</th>\n",
       "      <td>4306</td>\n",
       "      <td>403</td>\n",
       "      <td>9.359034</td>\n",
       "    </tr>\n",
       "    <tr>\n",
       "      <th>education</th>\n",
       "      <td>4013</td>\n",
       "      <td>370</td>\n",
       "      <td>9.220035</td>\n",
       "    </tr>\n",
       "    <tr>\n",
       "      <th>house</th>\n",
       "      <td>10811</td>\n",
       "      <td>782</td>\n",
       "      <td>7.233373</td>\n",
       "    </tr>\n",
       "    <tr>\n",
       "      <th>wedding</th>\n",
       "      <td>2324</td>\n",
       "      <td>186</td>\n",
       "      <td>8.003442</td>\n",
       "    </tr>\n",
       "  </tbody>\n",
       "</table>\n",
       "</div>"
      ],
      "text/plain": [
       "            debt      conversion\n",
       "           count  sum           \n",
       "purpose                         \n",
       "car         4306  403   9.359034\n",
       "education   4013  370   9.220035\n",
       "house      10811  782   7.233373\n",
       "wedding     2324  186   8.003442"
      ]
     },
     "execution_count": 78,
     "metadata": {},
     "output_type": "execute_result"
    }
   ],
   "source": [
    "# Consulta los porcentajes de tasa de incumplimiento para cada propósito del crédito y analízalos\n",
    "purpose_grouped = df.groupby('purpose').agg( {'debt': ['count', 'sum']} )\n",
    "# Calcular la tasa de incumplimiento basada en el propósito del crédito\n",
    "met_count = purpose_grouped['debt']['count']\n",
    "met_sum = purpose_grouped['debt']['sum']\n",
    "purpose_grouped['conversion'] = (met_sum / met_count) * 100\n",
    "purpose_grouped"
   ]
  },
  {
   "cell_type": "markdown",
   "id": "7b6e040e",
   "metadata": {},
   "source": [
    "- Las tasas de endeudamiento son muy bajas y la diferencia entre cada una es minina "
   ]
  }
 ],
 "metadata": {
  "ExecuteTimeLog": [
   {
    "duration": 1209,
    "start_time": "2022-07-20T23:20:27.803Z"
   },
   {
    "duration": 16,
    "start_time": "2022-07-20T23:20:29.015Z"
   },
   {
    "duration": 8,
    "start_time": "2022-07-20T23:20:29.033Z"
   },
   {
    "duration": 26,
    "start_time": "2022-07-20T23:20:29.043Z"
   },
   {
    "duration": 39,
    "start_time": "2022-07-20T23:20:29.074Z"
   },
   {
    "duration": 10,
    "start_time": "2022-07-20T23:20:29.115Z"
   },
   {
    "duration": 77,
    "start_time": "2022-07-20T23:20:29.126Z"
   },
   {
    "duration": 47,
    "start_time": "2022-07-20T23:20:29.205Z"
   },
   {
    "duration": 18,
    "start_time": "2022-07-20T23:20:29.271Z"
   },
   {
    "duration": 4,
    "start_time": "2022-07-20T23:20:29.291Z"
   },
   {
    "duration": 14,
    "start_time": "2022-07-20T23:20:29.297Z"
   },
   {
    "duration": 15,
    "start_time": "2022-07-20T23:20:29.313Z"
   },
   {
    "duration": 14,
    "start_time": "2022-07-20T23:20:29.330Z"
   },
   {
    "duration": 28,
    "start_time": "2022-07-20T23:20:29.348Z"
   },
   {
    "duration": 34,
    "start_time": "2022-07-20T23:20:29.377Z"
   },
   {
    "duration": 10,
    "start_time": "2022-07-20T23:20:29.413Z"
   },
   {
    "duration": 10,
    "start_time": "2022-07-20T23:20:29.425Z"
   },
   {
    "duration": 7,
    "start_time": "2022-07-20T23:20:29.437Z"
   },
   {
    "duration": 11,
    "start_time": "2022-07-20T23:20:29.446Z"
   },
   {
    "duration": 231,
    "start_time": "2022-07-20T23:20:29.458Z"
   },
   {
    "duration": 5,
    "start_time": "2022-07-20T23:20:29.691Z"
   },
   {
    "duration": 9,
    "start_time": "2022-07-20T23:20:29.697Z"
   },
   {
    "duration": 9,
    "start_time": "2022-07-20T23:20:29.707Z"
   },
   {
    "duration": 5,
    "start_time": "2022-07-20T23:20:29.717Z"
   },
   {
    "duration": 10,
    "start_time": "2022-07-20T23:20:29.724Z"
   },
   {
    "duration": 28,
    "start_time": "2022-07-20T23:20:29.736Z"
   },
   {
    "duration": 14,
    "start_time": "2022-07-20T23:20:29.765Z"
   },
   {
    "duration": 6,
    "start_time": "2022-07-20T23:20:29.782Z"
   },
   {
    "duration": 9,
    "start_time": "2022-07-20T23:20:29.790Z"
   },
   {
    "duration": 206,
    "start_time": "2022-07-20T23:20:29.800Z"
   },
   {
    "duration": 203,
    "start_time": "2022-07-20T23:20:30.008Z"
   },
   {
    "duration": 29,
    "start_time": "2022-07-20T23:20:30.213Z"
   },
   {
    "duration": 33,
    "start_time": "2022-07-20T23:20:30.244Z"
   },
   {
    "duration": 17,
    "start_time": "2022-07-20T23:20:30.280Z"
   },
   {
    "duration": 209,
    "start_time": "2022-07-20T23:20:30.299Z"
   },
   {
    "duration": 26,
    "start_time": "2022-07-20T23:20:30.512Z"
   },
   {
    "duration": 48,
    "start_time": "2022-07-20T23:20:30.541Z"
   },
   {
    "duration": 12,
    "start_time": "2022-07-20T23:20:30.591Z"
   },
   {
    "duration": 18,
    "start_time": "2022-07-20T23:20:30.605Z"
   },
   {
    "duration": 26,
    "start_time": "2022-07-20T23:20:30.625Z"
   },
   {
    "duration": 49,
    "start_time": "2022-07-20T23:20:30.656Z"
   },
   {
    "duration": 21,
    "start_time": "2022-07-20T23:20:30.707Z"
   },
   {
    "duration": 34,
    "start_time": "2022-07-20T23:20:30.730Z"
   },
   {
    "duration": 41,
    "start_time": "2022-07-20T23:20:30.766Z"
   },
   {
    "duration": 34,
    "start_time": "2022-07-20T23:20:30.809Z"
   },
   {
    "duration": 46,
    "start_time": "2022-07-20T23:20:30.845Z"
   },
   {
    "duration": 24,
    "start_time": "2022-07-20T23:20:30.893Z"
   },
   {
    "duration": 95,
    "start_time": "2022-07-20T23:20:30.919Z"
   },
   {
    "duration": 15,
    "start_time": "2022-07-20T23:20:31.016Z"
   },
   {
    "duration": 23,
    "start_time": "2022-07-20T23:20:31.033Z"
   },
   {
    "duration": 41,
    "start_time": "2022-07-20T23:20:31.058Z"
   },
   {
    "duration": 34,
    "start_time": "2022-07-20T23:20:31.101Z"
   },
   {
    "duration": 20,
    "start_time": "2022-07-20T23:20:31.136Z"
   },
   {
    "duration": 69,
    "start_time": "2022-07-20T23:20:31.157Z"
   },
   {
    "duration": 175,
    "start_time": "2022-07-20T23:20:31.227Z"
   },
   {
    "duration": 200,
    "start_time": "2022-07-20T23:20:31.404Z"
   },
   {
    "duration": 175,
    "start_time": "2022-07-20T23:20:31.606Z"
   },
   {
    "duration": 200,
    "start_time": "2022-07-20T23:20:31.782Z"
   },
   {
    "duration": 197,
    "start_time": "2022-07-20T23:20:31.984Z"
   },
   {
    "duration": 18,
    "start_time": "2022-07-20T23:20:32.183Z"
   },
   {
    "duration": 4,
    "start_time": "2022-07-20T23:20:32.203Z"
   },
   {
    "duration": 238,
    "start_time": "2022-07-20T23:20:32.209Z"
   },
   {
    "duration": 51,
    "start_time": "2022-07-20T23:20:32.449Z"
   },
   {
    "duration": 189,
    "start_time": "2022-07-20T23:20:32.502Z"
   },
   {
    "duration": 15,
    "start_time": "2022-07-20T23:20:32.693Z"
   },
   {
    "duration": 21,
    "start_time": "2022-07-20T23:20:32.710Z"
   },
   {
    "duration": 8,
    "start_time": "2022-07-20T23:20:32.732Z"
   },
   {
    "duration": 216,
    "start_time": "2022-07-20T23:20:32.741Z"
   },
   {
    "duration": 41,
    "start_time": "2022-07-20T23:20:32.960Z"
   },
   {
    "duration": 8,
    "start_time": "2022-07-20T23:20:33.002Z"
   },
   {
    "duration": 179,
    "start_time": "2022-07-20T23:20:33.012Z"
   },
   {
    "duration": 3,
    "start_time": "2022-07-20T23:20:33.193Z"
   },
   {
    "duration": 10,
    "start_time": "2022-07-20T23:20:33.198Z"
   },
   {
    "duration": 7,
    "start_time": "2022-07-20T23:20:33.210Z"
   },
   {
    "duration": 204,
    "start_time": "2022-07-20T23:20:33.219Z"
   },
   {
    "duration": 13,
    "start_time": "2022-07-20T23:20:33.425Z"
   },
   {
    "duration": 35,
    "start_time": "2022-07-20T23:20:33.440Z"
   },
   {
    "duration": 21,
    "start_time": "2022-07-20T23:20:33.477Z"
   },
   {
    "duration": 17,
    "start_time": "2022-07-20T23:20:33.500Z"
   },
   {
    "duration": 16,
    "start_time": "2022-07-20T23:20:33.519Z"
   },
   {
    "duration": 46,
    "start_time": "2022-07-20T23:20:33.536Z"
   },
   {
    "duration": 119,
    "start_time": "2022-07-20T23:34:00.611Z"
   },
   {
    "duration": 15,
    "start_time": "2022-07-20T23:34:00.732Z"
   },
   {
    "duration": 18,
    "start_time": "2022-07-20T23:34:00.749Z"
   },
   {
    "duration": 15,
    "start_time": "2022-07-20T23:34:00.834Z"
   },
   {
    "duration": 50,
    "start_time": "2022-07-20T23:34:00.851Z"
   },
   {
    "duration": 14,
    "start_time": "2022-07-20T23:34:00.903Z"
   },
   {
    "duration": 6,
    "start_time": "2022-07-20T23:34:00.919Z"
   },
   {
    "duration": 5,
    "start_time": "2022-07-20T23:34:29.502Z"
   },
   {
    "duration": 6,
    "start_time": "2022-07-20T23:34:34.942Z"
   },
   {
    "duration": 52,
    "start_time": "2022-07-20T23:47:04.163Z"
   },
   {
    "duration": 39,
    "start_time": "2022-07-20T23:47:20.275Z"
   },
   {
    "duration": 8,
    "start_time": "2022-07-20T23:47:45.722Z"
   },
   {
    "duration": 110,
    "start_time": "2022-07-21T00:01:38.277Z"
   },
   {
    "duration": 15,
    "start_time": "2022-07-21T00:01:38.389Z"
   },
   {
    "duration": 7,
    "start_time": "2022-07-21T00:01:38.405Z"
   },
   {
    "duration": 15,
    "start_time": "2022-07-21T00:01:38.515Z"
   },
   {
    "duration": 40,
    "start_time": "2022-07-21T00:01:38.534Z"
   },
   {
    "duration": 8,
    "start_time": "2022-07-21T00:01:38.580Z"
   },
   {
    "duration": 48,
    "start_time": "2022-07-21T00:01:38.590Z"
   },
   {
    "duration": 52,
    "start_time": "2022-07-21T00:01:38.778Z"
   },
   {
    "duration": 23,
    "start_time": "2022-07-21T00:01:38.832Z"
   },
   {
    "duration": 13,
    "start_time": "2022-07-21T00:01:38.857Z"
   },
   {
    "duration": 22,
    "start_time": "2022-07-21T00:01:38.871Z"
   },
   {
    "duration": 12,
    "start_time": "2022-07-21T00:01:38.895Z"
   },
   {
    "duration": 8,
    "start_time": "2022-07-21T00:01:39.005Z"
   },
   {
    "duration": 9,
    "start_time": "2022-07-21T00:01:39.015Z"
   },
   {
    "duration": 6,
    "start_time": "2022-07-21T00:01:39.026Z"
   },
   {
    "duration": 8,
    "start_time": "2022-07-21T00:01:39.034Z"
   },
   {
    "duration": 11,
    "start_time": "2022-07-21T00:01:39.044Z"
   },
   {
    "duration": 5,
    "start_time": "2022-07-21T00:01:39.057Z"
   },
   {
    "duration": 24,
    "start_time": "2022-07-21T00:01:39.064Z"
   },
   {
    "duration": 193,
    "start_time": "2022-07-21T00:01:39.089Z"
   },
   {
    "duration": 5,
    "start_time": "2022-07-21T00:01:39.285Z"
   },
   {
    "duration": 8,
    "start_time": "2022-07-21T00:01:39.291Z"
   },
   {
    "duration": 10,
    "start_time": "2022-07-21T00:01:39.300Z"
   },
   {
    "duration": 5,
    "start_time": "2022-07-21T00:01:39.311Z"
   },
   {
    "duration": 12,
    "start_time": "2022-07-21T00:01:39.317Z"
   },
   {
    "duration": 6,
    "start_time": "2022-07-21T00:01:39.330Z"
   },
   {
    "duration": 31,
    "start_time": "2022-07-21T00:01:39.337Z"
   },
   {
    "duration": 6,
    "start_time": "2022-07-21T00:08:00.638Z"
   },
   {
    "duration": 22,
    "start_time": "2022-07-21T00:09:20.187Z"
   },
   {
    "duration": 99,
    "start_time": "2022-07-21T00:13:37.907Z"
   },
   {
    "duration": 14,
    "start_time": "2022-07-21T00:13:38.008Z"
   },
   {
    "duration": 14,
    "start_time": "2022-07-21T00:13:38.023Z"
   },
   {
    "duration": 15,
    "start_time": "2022-07-21T00:13:38.138Z"
   },
   {
    "duration": 38,
    "start_time": "2022-07-21T00:13:38.155Z"
   },
   {
    "duration": 9,
    "start_time": "2022-07-21T00:13:38.195Z"
   },
   {
    "duration": 64,
    "start_time": "2022-07-21T00:13:38.206Z"
   },
   {
    "duration": 44,
    "start_time": "2022-07-21T00:13:38.387Z"
   },
   {
    "duration": 15,
    "start_time": "2022-07-21T00:13:38.433Z"
   },
   {
    "duration": 30,
    "start_time": "2022-07-21T00:13:38.449Z"
   },
   {
    "duration": 20,
    "start_time": "2022-07-21T00:13:38.481Z"
   },
   {
    "duration": 21,
    "start_time": "2022-07-21T00:13:38.504Z"
   },
   {
    "duration": 30,
    "start_time": "2022-07-21T00:13:38.527Z"
   },
   {
    "duration": 6,
    "start_time": "2022-07-21T00:13:38.629Z"
   },
   {
    "duration": 5,
    "start_time": "2022-07-21T00:13:38.638Z"
   },
   {
    "duration": 7,
    "start_time": "2022-07-21T00:13:38.644Z"
   },
   {
    "duration": 7,
    "start_time": "2022-07-21T00:13:38.652Z"
   },
   {
    "duration": 16,
    "start_time": "2022-07-21T00:13:38.661Z"
   },
   {
    "duration": 24,
    "start_time": "2022-07-21T00:13:38.679Z"
   },
   {
    "duration": 211,
    "start_time": "2022-07-21T00:13:38.705Z"
   },
   {
    "duration": 4,
    "start_time": "2022-07-21T00:13:38.917Z"
   },
   {
    "duration": 27,
    "start_time": "2022-07-21T00:13:38.923Z"
   },
   {
    "duration": 15,
    "start_time": "2022-07-21T00:13:38.951Z"
   },
   {
    "duration": 12,
    "start_time": "2022-07-21T00:13:38.972Z"
   },
   {
    "duration": 19,
    "start_time": "2022-07-21T00:13:38.986Z"
   },
   {
    "duration": 10,
    "start_time": "2022-07-21T00:13:39.007Z"
   },
   {
    "duration": 17,
    "start_time": "2022-07-21T00:13:39.018Z"
   },
   {
    "duration": 13,
    "start_time": "2022-07-21T00:13:39.036Z"
   },
   {
    "duration": 19,
    "start_time": "2022-07-21T00:13:39.051Z"
   },
   {
    "duration": 198,
    "start_time": "2022-07-21T00:13:39.072Z"
   },
   {
    "duration": 171,
    "start_time": "2022-07-21T00:13:39.272Z"
   },
   {
    "duration": 33,
    "start_time": "2022-07-21T00:13:39.445Z"
   },
   {
    "duration": 4,
    "start_time": "2022-07-21T00:13:39.479Z"
   },
   {
    "duration": 12,
    "start_time": "2022-07-21T00:13:39.484Z"
   },
   {
    "duration": 180,
    "start_time": "2022-07-21T00:13:39.497Z"
   },
   {
    "duration": 20,
    "start_time": "2022-07-21T00:13:39.679Z"
   },
   {
    "duration": 96,
    "start_time": "2022-07-21T00:28:12.880Z"
   },
   {
    "duration": 14,
    "start_time": "2022-07-21T00:28:12.978Z"
   },
   {
    "duration": 9,
    "start_time": "2022-07-21T00:28:12.993Z"
   },
   {
    "duration": 15,
    "start_time": "2022-07-21T00:28:13.003Z"
   },
   {
    "duration": 20,
    "start_time": "2022-07-21T00:28:13.109Z"
   },
   {
    "duration": 8,
    "start_time": "2022-07-21T00:28:13.131Z"
   },
   {
    "duration": 44,
    "start_time": "2022-07-21T00:28:13.141Z"
   },
   {
    "duration": 43,
    "start_time": "2022-07-21T00:28:13.369Z"
   },
   {
    "duration": 16,
    "start_time": "2022-07-21T00:28:13.413Z"
   },
   {
    "duration": 7,
    "start_time": "2022-07-21T00:28:13.430Z"
   },
   {
    "duration": 9,
    "start_time": "2022-07-21T00:28:13.438Z"
   },
   {
    "duration": 18,
    "start_time": "2022-07-21T00:28:13.449Z"
   },
   {
    "duration": 7,
    "start_time": "2022-07-21T00:28:13.599Z"
   },
   {
    "duration": 8,
    "start_time": "2022-07-21T00:28:13.608Z"
   },
   {
    "duration": 5,
    "start_time": "2022-07-21T00:28:13.618Z"
   },
   {
    "duration": 9,
    "start_time": "2022-07-21T00:28:13.624Z"
   },
   {
    "duration": 6,
    "start_time": "2022-07-21T00:28:13.635Z"
   },
   {
    "duration": 5,
    "start_time": "2022-07-21T00:28:13.643Z"
   },
   {
    "duration": 9,
    "start_time": "2022-07-21T00:28:13.649Z"
   },
   {
    "duration": 176,
    "start_time": "2022-07-21T00:28:13.660Z"
   },
   {
    "duration": 4,
    "start_time": "2022-07-21T00:28:13.837Z"
   },
   {
    "duration": 18,
    "start_time": "2022-07-21T00:28:13.842Z"
   },
   {
    "duration": 4,
    "start_time": "2022-07-21T00:28:13.862Z"
   },
   {
    "duration": 8,
    "start_time": "2022-07-21T00:28:13.867Z"
   },
   {
    "duration": 11,
    "start_time": "2022-07-21T00:28:13.877Z"
   },
   {
    "duration": 6,
    "start_time": "2022-07-21T00:28:13.890Z"
   },
   {
    "duration": 8,
    "start_time": "2022-07-21T00:28:13.897Z"
   },
   {
    "duration": 6,
    "start_time": "2022-07-21T00:28:13.906Z"
   },
   {
    "duration": 7,
    "start_time": "2022-07-21T00:28:13.914Z"
   },
   {
    "duration": 180,
    "start_time": "2022-07-21T00:28:13.922Z"
   },
   {
    "duration": 5,
    "start_time": "2022-07-21T00:28:14.104Z"
   },
   {
    "duration": 99,
    "start_time": "2022-07-21T00:31:18.180Z"
   },
   {
    "duration": 16,
    "start_time": "2022-07-21T00:31:18.282Z"
   },
   {
    "duration": 8,
    "start_time": "2022-07-21T00:31:18.299Z"
   },
   {
    "duration": 14,
    "start_time": "2022-07-21T00:31:18.309Z"
   },
   {
    "duration": 37,
    "start_time": "2022-07-21T00:31:18.326Z"
   },
   {
    "duration": 9,
    "start_time": "2022-07-21T00:31:18.365Z"
   },
   {
    "duration": 44,
    "start_time": "2022-07-21T00:31:18.376Z"
   },
   {
    "duration": 70,
    "start_time": "2022-07-21T00:31:18.422Z"
   },
   {
    "duration": 16,
    "start_time": "2022-07-21T00:31:18.493Z"
   },
   {
    "duration": 10,
    "start_time": "2022-07-21T00:31:18.511Z"
   },
   {
    "duration": 9,
    "start_time": "2022-07-21T00:31:18.523Z"
   },
   {
    "duration": 30,
    "start_time": "2022-07-21T00:31:18.534Z"
   },
   {
    "duration": 7,
    "start_time": "2022-07-21T00:31:18.566Z"
   },
   {
    "duration": 13,
    "start_time": "2022-07-21T00:31:18.574Z"
   },
   {
    "duration": 8,
    "start_time": "2022-07-21T00:31:18.589Z"
   },
   {
    "duration": 9,
    "start_time": "2022-07-21T00:31:18.598Z"
   },
   {
    "duration": 6,
    "start_time": "2022-07-21T00:31:18.609Z"
   },
   {
    "duration": 4,
    "start_time": "2022-07-21T00:31:18.616Z"
   },
   {
    "duration": 12,
    "start_time": "2022-07-21T00:31:18.621Z"
   },
   {
    "duration": 197,
    "start_time": "2022-07-21T00:31:18.634Z"
   },
   {
    "duration": 3,
    "start_time": "2022-07-21T00:31:18.833Z"
   },
   {
    "duration": 7,
    "start_time": "2022-07-21T00:31:18.838Z"
   },
   {
    "duration": 5,
    "start_time": "2022-07-21T00:31:18.859Z"
   },
   {
    "duration": 4,
    "start_time": "2022-07-21T00:31:18.865Z"
   },
   {
    "duration": 7,
    "start_time": "2022-07-21T00:31:18.871Z"
   },
   {
    "duration": 3,
    "start_time": "2022-07-21T00:31:18.881Z"
   },
   {
    "duration": 6,
    "start_time": "2022-07-21T00:31:18.886Z"
   },
   {
    "duration": 6,
    "start_time": "2022-07-21T00:31:18.893Z"
   },
   {
    "duration": 8,
    "start_time": "2022-07-21T00:31:18.900Z"
   },
   {
    "duration": 188,
    "start_time": "2022-07-21T00:31:18.910Z"
   },
   {
    "duration": 174,
    "start_time": "2022-07-21T00:31:19.100Z"
   },
   {
    "duration": 20,
    "start_time": "2022-07-21T00:31:19.276Z"
   },
   {
    "duration": 4,
    "start_time": "2022-07-21T00:31:19.298Z"
   },
   {
    "duration": 8,
    "start_time": "2022-07-21T00:31:19.303Z"
   },
   {
    "duration": 178,
    "start_time": "2022-07-21T00:31:19.313Z"
   },
   {
    "duration": 16,
    "start_time": "2022-07-21T00:31:19.493Z"
   },
   {
    "duration": 20,
    "start_time": "2022-07-21T00:31:19.511Z"
   },
   {
    "duration": 5,
    "start_time": "2022-07-21T00:31:19.532Z"
   },
   {
    "duration": 6,
    "start_time": "2022-07-21T00:31:19.560Z"
   },
   {
    "duration": 12,
    "start_time": "2022-07-21T00:31:19.567Z"
   },
   {
    "duration": 5,
    "start_time": "2022-07-21T00:31:19.580Z"
   },
   {
    "duration": 7,
    "start_time": "2022-07-21T00:31:19.587Z"
   },
   {
    "duration": 7,
    "start_time": "2022-07-21T00:31:19.595Z"
   },
   {
    "duration": 8,
    "start_time": "2022-07-21T00:31:19.603Z"
   },
   {
    "duration": 18,
    "start_time": "2022-07-21T00:31:19.612Z"
   },
   {
    "duration": 41,
    "start_time": "2022-07-21T00:31:19.631Z"
   },
   {
    "duration": 16,
    "start_time": "2022-07-21T00:31:19.673Z"
   },
   {
    "duration": 15,
    "start_time": "2022-07-21T00:31:19.691Z"
   },
   {
    "duration": 14,
    "start_time": "2022-07-21T00:31:19.709Z"
   },
   {
    "duration": 2,
    "start_time": "2022-07-21T00:31:19.725Z"
   },
   {
    "duration": 34,
    "start_time": "2022-07-21T00:31:19.729Z"
   },
   {
    "duration": 18,
    "start_time": "2022-07-21T00:31:19.764Z"
   },
   {
    "duration": 16,
    "start_time": "2022-07-21T00:31:19.784Z"
   },
   {
    "duration": 44,
    "start_time": "2022-07-21T00:31:19.802Z"
   },
   {
    "duration": 26,
    "start_time": "2022-07-21T00:31:19.847Z"
   },
   {
    "duration": 951,
    "start_time": "2022-07-22T20:34:22.847Z"
   },
   {
    "duration": 17,
    "start_time": "2022-07-22T20:34:23.801Z"
   },
   {
    "duration": 19,
    "start_time": "2022-07-22T20:34:23.820Z"
   },
   {
    "duration": 28,
    "start_time": "2022-07-22T20:34:23.841Z"
   },
   {
    "duration": 36,
    "start_time": "2022-07-22T20:34:23.871Z"
   },
   {
    "duration": 8,
    "start_time": "2022-07-22T20:34:23.909Z"
   },
   {
    "duration": 83,
    "start_time": "2022-07-22T20:34:23.918Z"
   },
   {
    "duration": 44,
    "start_time": "2022-07-22T20:34:24.003Z"
   },
   {
    "duration": 16,
    "start_time": "2022-07-22T20:34:24.049Z"
   },
   {
    "duration": 27,
    "start_time": "2022-07-22T20:34:24.068Z"
   },
   {
    "duration": 28,
    "start_time": "2022-07-22T20:34:24.097Z"
   },
   {
    "duration": 29,
    "start_time": "2022-07-22T20:34:24.127Z"
   },
   {
    "duration": 28,
    "start_time": "2022-07-22T20:34:24.157Z"
   },
   {
    "duration": 26,
    "start_time": "2022-07-22T20:34:24.187Z"
   },
   {
    "duration": 24,
    "start_time": "2022-07-22T20:34:24.215Z"
   },
   {
    "duration": 14,
    "start_time": "2022-07-22T20:34:24.240Z"
   },
   {
    "duration": 33,
    "start_time": "2022-07-22T20:34:24.256Z"
   },
   {
    "duration": 16,
    "start_time": "2022-07-22T20:34:24.291Z"
   },
   {
    "duration": 22,
    "start_time": "2022-07-22T20:34:24.308Z"
   },
   {
    "duration": 201,
    "start_time": "2022-07-22T20:34:24.332Z"
   },
   {
    "duration": 3,
    "start_time": "2022-07-22T20:34:24.535Z"
   },
   {
    "duration": 23,
    "start_time": "2022-07-22T20:34:24.540Z"
   },
   {
    "duration": 19,
    "start_time": "2022-07-22T20:34:24.565Z"
   },
   {
    "duration": 29,
    "start_time": "2022-07-22T20:34:24.585Z"
   },
   {
    "duration": 31,
    "start_time": "2022-07-22T20:34:24.615Z"
   },
   {
    "duration": 16,
    "start_time": "2022-07-22T20:34:24.647Z"
   },
   {
    "duration": 28,
    "start_time": "2022-07-22T20:34:24.664Z"
   },
   {
    "duration": 17,
    "start_time": "2022-07-22T20:34:24.697Z"
   },
   {
    "duration": 15,
    "start_time": "2022-07-22T20:34:24.715Z"
   },
   {
    "duration": 221,
    "start_time": "2022-07-22T20:34:24.732Z"
   },
   {
    "duration": 193,
    "start_time": "2022-07-22T20:34:24.955Z"
   },
   {
    "duration": 20,
    "start_time": "2022-07-22T20:34:25.150Z"
   },
   {
    "duration": 6,
    "start_time": "2022-07-22T20:34:25.172Z"
   },
   {
    "duration": 17,
    "start_time": "2022-07-22T20:34:25.180Z"
   },
   {
    "duration": 185,
    "start_time": "2022-07-22T20:34:25.199Z"
   },
   {
    "duration": 26,
    "start_time": "2022-07-22T20:34:25.385Z"
   },
   {
    "duration": 26,
    "start_time": "2022-07-22T20:34:25.413Z"
   },
   {
    "duration": 8,
    "start_time": "2022-07-22T20:34:25.441Z"
   },
   {
    "duration": 22,
    "start_time": "2022-07-22T20:34:25.451Z"
   },
   {
    "duration": 26,
    "start_time": "2022-07-22T20:34:25.475Z"
   },
   {
    "duration": 21,
    "start_time": "2022-07-22T20:34:25.503Z"
   },
   {
    "duration": 33,
    "start_time": "2022-07-22T20:34:25.526Z"
   },
   {
    "duration": 17,
    "start_time": "2022-07-22T20:34:25.560Z"
   },
   {
    "duration": 26,
    "start_time": "2022-07-22T20:34:25.579Z"
   },
   {
    "duration": 28,
    "start_time": "2022-07-22T20:34:25.607Z"
   },
   {
    "duration": 26,
    "start_time": "2022-07-22T20:34:25.637Z"
   },
   {
    "duration": 76,
    "start_time": "2022-07-22T20:34:25.665Z"
   },
   {
    "duration": 15,
    "start_time": "2022-07-22T20:34:25.743Z"
   },
   {
    "duration": 22,
    "start_time": "2022-07-22T20:34:25.759Z"
   },
   {
    "duration": 17,
    "start_time": "2022-07-22T20:34:25.783Z"
   },
   {
    "duration": 17,
    "start_time": "2022-07-22T20:34:25.802Z"
   },
   {
    "duration": 41,
    "start_time": "2022-07-22T20:34:25.820Z"
   },
   {
    "duration": 36,
    "start_time": "2022-07-22T20:34:25.862Z"
   },
   {
    "duration": 55,
    "start_time": "2022-07-22T20:34:25.899Z"
   },
   {
    "duration": 170,
    "start_time": "2022-07-22T20:34:25.956Z"
   },
   {
    "duration": 178,
    "start_time": "2022-07-22T20:34:26.128Z"
   },
   {
    "duration": 157,
    "start_time": "2022-07-22T20:34:26.310Z"
   },
   {
    "duration": 194,
    "start_time": "2022-07-22T20:34:26.468Z"
   },
   {
    "duration": 201,
    "start_time": "2022-07-22T20:34:26.664Z"
   },
   {
    "duration": 12,
    "start_time": "2022-07-22T20:34:26.867Z"
   },
   {
    "duration": 11,
    "start_time": "2022-07-22T20:34:26.881Z"
   },
   {
    "duration": 237,
    "start_time": "2022-07-22T20:34:26.894Z"
   },
   {
    "duration": 30,
    "start_time": "2022-07-22T20:34:27.133Z"
   },
   {
    "duration": 184,
    "start_time": "2022-07-22T20:34:27.165Z"
   },
   {
    "duration": 14,
    "start_time": "2022-07-22T20:34:27.350Z"
   },
   {
    "duration": 27,
    "start_time": "2022-07-22T20:34:27.365Z"
   },
   {
    "duration": 30,
    "start_time": "2022-07-22T20:34:27.394Z"
   },
   {
    "duration": 209,
    "start_time": "2022-07-22T20:34:27.425Z"
   },
   {
    "duration": 28,
    "start_time": "2022-07-22T20:34:27.636Z"
   },
   {
    "duration": 7,
    "start_time": "2022-07-22T20:34:27.666Z"
   },
   {
    "duration": 165,
    "start_time": "2022-07-22T20:34:27.674Z"
   },
   {
    "duration": 4,
    "start_time": "2022-07-22T20:34:27.840Z"
   },
   {
    "duration": 36,
    "start_time": "2022-07-22T20:34:27.845Z"
   },
   {
    "duration": 9,
    "start_time": "2022-07-22T20:34:27.883Z"
   },
   {
    "duration": 192,
    "start_time": "2022-07-22T20:34:27.894Z"
   },
   {
    "duration": 10,
    "start_time": "2022-07-22T20:34:28.088Z"
   },
   {
    "duration": 23,
    "start_time": "2022-07-22T20:34:28.109Z"
   },
   {
    "duration": 36,
    "start_time": "2022-07-22T20:34:28.134Z"
   },
   {
    "duration": 17,
    "start_time": "2022-07-22T20:34:28.172Z"
   },
   {
    "duration": 28,
    "start_time": "2022-07-22T20:34:28.191Z"
   },
   {
    "duration": 19,
    "start_time": "2022-07-22T20:34:28.220Z"
   },
   {
    "duration": 6,
    "start_time": "2022-07-22T21:05:46.220Z"
   },
   {
    "duration": 37,
    "start_time": "2022-07-22T21:05:55.758Z"
   },
   {
    "duration": 91,
    "start_time": "2022-07-22T21:06:18.790Z"
   },
   {
    "duration": 18,
    "start_time": "2022-07-22T21:06:18.883Z"
   },
   {
    "duration": 19,
    "start_time": "2022-07-22T21:06:18.903Z"
   },
   {
    "duration": 34,
    "start_time": "2022-07-22T21:06:18.925Z"
   },
   {
    "duration": 23,
    "start_time": "2022-07-22T21:06:18.961Z"
   },
   {
    "duration": 39,
    "start_time": "2022-07-22T21:06:18.986Z"
   },
   {
    "duration": 96,
    "start_time": "2022-07-22T21:06:19.027Z"
   },
   {
    "duration": 104,
    "start_time": "2022-07-22T21:06:19.125Z"
   },
   {
    "duration": 21,
    "start_time": "2022-07-22T21:06:19.231Z"
   },
   {
    "duration": 6,
    "start_time": "2022-07-22T21:06:19.256Z"
   },
   {
    "duration": 9,
    "start_time": "2022-07-22T21:06:19.264Z"
   },
   {
    "duration": 41,
    "start_time": "2022-07-22T21:06:19.275Z"
   },
   {
    "duration": 12,
    "start_time": "2022-07-22T21:06:19.319Z"
   },
   {
    "duration": 13,
    "start_time": "2022-07-22T21:06:19.334Z"
   },
   {
    "duration": 12,
    "start_time": "2022-07-22T21:06:19.350Z"
   },
   {
    "duration": 27,
    "start_time": "2022-07-22T21:06:19.364Z"
   },
   {
    "duration": 24,
    "start_time": "2022-07-22T21:06:19.394Z"
   },
   {
    "duration": 12,
    "start_time": "2022-07-22T21:06:19.420Z"
   },
   {
    "duration": 10,
    "start_time": "2022-07-22T21:06:19.435Z"
   },
   {
    "duration": 285,
    "start_time": "2022-07-22T21:06:19.447Z"
   },
   {
    "duration": 6,
    "start_time": "2022-07-22T21:06:19.735Z"
   },
   {
    "duration": 12,
    "start_time": "2022-07-22T21:06:19.743Z"
   },
   {
    "duration": 13,
    "start_time": "2022-07-22T21:06:19.757Z"
   },
   {
    "duration": 22,
    "start_time": "2022-07-22T21:06:19.772Z"
   },
   {
    "duration": 8,
    "start_time": "2022-07-22T21:06:19.810Z"
   },
   {
    "duration": 8,
    "start_time": "2022-07-22T21:06:19.821Z"
   },
   {
    "duration": 12,
    "start_time": "2022-07-22T21:06:19.832Z"
   },
   {
    "duration": 6,
    "start_time": "2022-07-22T21:06:19.850Z"
   },
   {
    "duration": 25,
    "start_time": "2022-07-22T21:06:19.858Z"
   },
   {
    "duration": 278,
    "start_time": "2022-07-22T21:06:19.885Z"
   },
   {
    "duration": 205,
    "start_time": "2022-07-22T21:06:20.170Z"
   },
   {
    "duration": 50,
    "start_time": "2022-07-22T21:06:20.378Z"
   },
   {
    "duration": 7,
    "start_time": "2022-07-22T21:06:20.431Z"
   },
   {
    "duration": 29,
    "start_time": "2022-07-22T21:06:20.440Z"
   },
   {
    "duration": 272,
    "start_time": "2022-07-22T21:06:20.471Z"
   },
   {
    "duration": 21,
    "start_time": "2022-07-22T21:06:20.744Z"
   },
   {
    "duration": 43,
    "start_time": "2022-07-22T21:06:20.767Z"
   },
   {
    "duration": 7,
    "start_time": "2022-07-22T21:06:20.813Z"
   },
   {
    "duration": 12,
    "start_time": "2022-07-22T21:06:20.822Z"
   },
   {
    "duration": 29,
    "start_time": "2022-07-22T21:06:20.836Z"
   },
   {
    "duration": 20,
    "start_time": "2022-07-22T21:06:20.868Z"
   },
   {
    "duration": 16,
    "start_time": "2022-07-22T21:06:20.891Z"
   },
   {
    "duration": 9,
    "start_time": "2022-07-22T21:06:20.910Z"
   },
   {
    "duration": 11,
    "start_time": "2022-07-22T21:06:20.921Z"
   },
   {
    "duration": 38,
    "start_time": "2022-07-22T21:06:20.934Z"
   },
   {
    "duration": 51,
    "start_time": "2022-07-22T21:06:20.975Z"
   },
   {
    "duration": 25,
    "start_time": "2022-07-22T21:06:21.029Z"
   },
   {
    "duration": 29,
    "start_time": "2022-07-22T21:06:21.057Z"
   },
   {
    "duration": 42,
    "start_time": "2022-07-22T21:06:21.088Z"
   },
   {
    "duration": 4,
    "start_time": "2022-07-22T21:06:21.132Z"
   },
   {
    "duration": 93,
    "start_time": "2022-07-22T21:06:21.137Z"
   },
   {
    "duration": 28,
    "start_time": "2022-07-22T21:06:21.232Z"
   },
   {
    "duration": 17,
    "start_time": "2022-07-22T21:06:21.262Z"
   },
   {
    "duration": 65,
    "start_time": "2022-07-22T21:06:21.281Z"
   },
   {
    "duration": 251,
    "start_time": "2022-07-22T21:06:21.348Z"
   },
   {
    "duration": 243,
    "start_time": "2022-07-22T21:06:21.601Z"
   },
   {
    "duration": 182,
    "start_time": "2022-07-22T21:06:21.846Z"
   },
   {
    "duration": 216,
    "start_time": "2022-07-22T21:06:22.030Z"
   },
   {
    "duration": 205,
    "start_time": "2022-07-22T21:06:22.248Z"
   },
   {
    "duration": 18,
    "start_time": "2022-07-22T21:06:22.456Z"
   },
   {
    "duration": 4,
    "start_time": "2022-07-22T21:06:22.476Z"
   },
   {
    "duration": 258,
    "start_time": "2022-07-22T21:06:22.483Z"
   },
   {
    "duration": 30,
    "start_time": "2022-07-22T21:06:22.743Z"
   },
   {
    "duration": 197,
    "start_time": "2022-07-22T21:06:22.774Z"
   },
   {
    "duration": 20,
    "start_time": "2022-07-22T21:06:22.974Z"
   },
   {
    "duration": 5,
    "start_time": "2022-07-22T21:06:23.010Z"
   },
   {
    "duration": 19,
    "start_time": "2022-07-22T21:06:23.017Z"
   },
   {
    "duration": 227,
    "start_time": "2022-07-22T21:06:23.038Z"
   },
   {
    "duration": 28,
    "start_time": "2022-07-22T21:06:23.267Z"
   },
   {
    "duration": 19,
    "start_time": "2022-07-22T21:06:23.297Z"
   },
   {
    "duration": 167,
    "start_time": "2022-07-22T21:06:23.319Z"
   },
   {
    "duration": 3,
    "start_time": "2022-07-22T21:06:23.488Z"
   },
   {
    "duration": 21,
    "start_time": "2022-07-22T21:06:23.493Z"
   },
   {
    "duration": 7,
    "start_time": "2022-07-22T21:06:23.516Z"
   },
   {
    "duration": 260,
    "start_time": "2022-07-22T21:06:23.525Z"
   },
   {
    "duration": 9,
    "start_time": "2022-07-22T21:06:23.790Z"
   },
   {
    "duration": 11,
    "start_time": "2022-07-22T21:06:23.810Z"
   },
   {
    "duration": 34,
    "start_time": "2022-07-22T21:06:23.823Z"
   },
   {
    "duration": 28,
    "start_time": "2022-07-22T21:06:23.859Z"
   },
   {
    "duration": 47,
    "start_time": "2022-07-22T21:06:23.890Z"
   },
   {
    "duration": 26,
    "start_time": "2022-07-22T21:06:23.939Z"
   },
   {
    "duration": 17,
    "start_time": "2022-07-22T21:07:03.468Z"
   },
   {
    "duration": 19,
    "start_time": "2022-07-22T21:08:09.203Z"
   },
   {
    "duration": 104,
    "start_time": "2022-07-22T21:08:22.868Z"
   },
   {
    "duration": 25,
    "start_time": "2022-07-22T21:08:22.975Z"
   },
   {
    "duration": 21,
    "start_time": "2022-07-22T21:08:23.002Z"
   },
   {
    "duration": 34,
    "start_time": "2022-07-22T21:08:23.026Z"
   },
   {
    "duration": 35,
    "start_time": "2022-07-22T21:08:23.062Z"
   },
   {
    "duration": 21,
    "start_time": "2022-07-22T21:08:35.679Z"
   },
   {
    "duration": 68,
    "start_time": "2022-07-22T21:10:11.105Z"
   },
   {
    "duration": 9,
    "start_time": "2022-07-22T21:13:11.220Z"
   },
   {
    "duration": 101,
    "start_time": "2022-07-22T21:13:24.951Z"
   },
   {
    "duration": 16,
    "start_time": "2022-07-22T21:13:25.054Z"
   },
   {
    "duration": 22,
    "start_time": "2022-07-22T21:13:25.072Z"
   },
   {
    "duration": 24,
    "start_time": "2022-07-22T21:13:25.096Z"
   },
   {
    "duration": 24,
    "start_time": "2022-07-22T21:13:25.123Z"
   },
   {
    "duration": 18,
    "start_time": "2022-07-22T21:13:25.149Z"
   },
   {
    "duration": 97,
    "start_time": "2022-07-22T21:13:25.169Z"
   },
   {
    "duration": 61,
    "start_time": "2022-07-22T21:13:25.267Z"
   },
   {
    "duration": 16,
    "start_time": "2022-07-22T21:13:25.330Z"
   },
   {
    "duration": 12,
    "start_time": "2022-07-22T21:13:25.348Z"
   },
   {
    "duration": 10,
    "start_time": "2022-07-22T21:13:25.362Z"
   },
   {
    "duration": 17,
    "start_time": "2022-07-22T21:13:25.374Z"
   },
   {
    "duration": 18,
    "start_time": "2022-07-22T21:13:25.393Z"
   },
   {
    "duration": 15,
    "start_time": "2022-07-22T21:13:25.414Z"
   },
   {
    "duration": 8,
    "start_time": "2022-07-22T21:13:25.431Z"
   },
   {
    "duration": 17,
    "start_time": "2022-07-22T21:13:25.441Z"
   },
   {
    "duration": 11,
    "start_time": "2022-07-22T21:13:25.460Z"
   },
   {
    "duration": 7,
    "start_time": "2022-07-22T21:13:25.473Z"
   },
   {
    "duration": 16,
    "start_time": "2022-07-22T21:13:25.482Z"
   },
   {
    "duration": 190,
    "start_time": "2022-07-22T21:13:25.500Z"
   },
   {
    "duration": 4,
    "start_time": "2022-07-22T21:13:25.692Z"
   },
   {
    "duration": 10,
    "start_time": "2022-07-22T21:13:29.039Z"
   },
   {
    "duration": 8,
    "start_time": "2022-07-22T21:13:52.746Z"
   },
   {
    "duration": 9,
    "start_time": "2022-07-22T21:14:22.959Z"
   },
   {
    "duration": 99,
    "start_time": "2022-07-22T21:18:12.219Z"
   },
   {
    "duration": 17,
    "start_time": "2022-07-22T21:18:12.321Z"
   },
   {
    "duration": 14,
    "start_time": "2022-07-22T21:18:12.340Z"
   },
   {
    "duration": 15,
    "start_time": "2022-07-22T21:18:12.357Z"
   },
   {
    "duration": 55,
    "start_time": "2022-07-22T21:18:12.374Z"
   },
   {
    "duration": 19,
    "start_time": "2022-07-22T21:18:12.431Z"
   },
   {
    "duration": 96,
    "start_time": "2022-07-22T21:18:12.452Z"
   },
   {
    "duration": 46,
    "start_time": "2022-07-22T21:18:12.550Z"
   },
   {
    "duration": 18,
    "start_time": "2022-07-22T21:18:12.612Z"
   },
   {
    "duration": 6,
    "start_time": "2022-07-22T21:18:12.633Z"
   },
   {
    "duration": 9,
    "start_time": "2022-07-22T21:18:12.641Z"
   },
   {
    "duration": 14,
    "start_time": "2022-07-22T21:18:12.651Z"
   },
   {
    "duration": 9,
    "start_time": "2022-07-22T21:18:12.667Z"
   },
   {
    "duration": 18,
    "start_time": "2022-07-22T21:18:12.678Z"
   },
   {
    "duration": 5,
    "start_time": "2022-07-22T21:18:12.710Z"
   },
   {
    "duration": 20,
    "start_time": "2022-07-22T21:18:12.717Z"
   },
   {
    "duration": 7,
    "start_time": "2022-07-22T21:18:12.739Z"
   },
   {
    "duration": 5,
    "start_time": "2022-07-22T21:18:12.748Z"
   },
   {
    "duration": 6,
    "start_time": "2022-07-22T21:18:12.755Z"
   },
   {
    "duration": 205,
    "start_time": "2022-07-22T21:18:12.763Z"
   },
   {
    "duration": 6,
    "start_time": "2022-07-22T21:18:12.969Z"
   },
   {
    "duration": 14,
    "start_time": "2022-07-22T21:18:12.977Z"
   },
   {
    "duration": 16,
    "start_time": "2022-07-22T21:18:12.993Z"
   },
   {
    "duration": 8,
    "start_time": "2022-07-22T21:18:13.011Z"
   },
   {
    "duration": 191,
    "start_time": "2022-07-22T21:18:13.021Z"
   },
   {
    "duration": 186,
    "start_time": "2022-07-22T21:18:13.214Z"
   },
   {
    "duration": 28,
    "start_time": "2022-07-22T21:18:13.402Z"
   },
   {
    "duration": 24,
    "start_time": "2022-07-22T21:18:25.011Z"
   },
   {
    "duration": 6,
    "start_time": "2022-07-22T21:19:04.120Z"
   },
   {
    "duration": 5,
    "start_time": "2022-07-22T21:19:14.893Z"
   },
   {
    "duration": 6,
    "start_time": "2022-07-22T21:19:29.009Z"
   },
   {
    "duration": 82,
    "start_time": "2022-07-22T21:22:11.943Z"
   },
   {
    "duration": 16,
    "start_time": "2022-07-22T21:22:12.026Z"
   },
   {
    "duration": 13,
    "start_time": "2022-07-22T21:22:12.044Z"
   },
   {
    "duration": 21,
    "start_time": "2022-07-22T21:22:12.059Z"
   },
   {
    "duration": 117,
    "start_time": "2022-07-22T21:22:12.083Z"
   },
   {
    "duration": 17,
    "start_time": "2022-07-22T21:22:12.210Z"
   },
   {
    "duration": 84,
    "start_time": "2022-07-22T21:22:12.229Z"
   },
   {
    "duration": 46,
    "start_time": "2022-07-22T21:22:12.315Z"
   },
   {
    "duration": 16,
    "start_time": "2022-07-22T21:22:12.363Z"
   },
   {
    "duration": 42,
    "start_time": "2022-07-22T21:22:12.381Z"
   },
   {
    "duration": 20,
    "start_time": "2022-07-22T21:22:12.424Z"
   },
   {
    "duration": 12,
    "start_time": "2022-07-22T21:22:12.445Z"
   },
   {
    "duration": 14,
    "start_time": "2022-07-22T21:22:12.459Z"
   },
   {
    "duration": 22,
    "start_time": "2022-07-22T21:22:12.475Z"
   },
   {
    "duration": 9,
    "start_time": "2022-07-22T21:22:12.499Z"
   },
   {
    "duration": 10,
    "start_time": "2022-07-22T21:22:12.509Z"
   },
   {
    "duration": 8,
    "start_time": "2022-07-22T21:22:12.521Z"
   },
   {
    "duration": 12,
    "start_time": "2022-07-22T21:22:12.531Z"
   },
   {
    "duration": 11,
    "start_time": "2022-07-22T21:22:12.545Z"
   },
   {
    "duration": 203,
    "start_time": "2022-07-22T21:22:12.558Z"
   },
   {
    "duration": 5,
    "start_time": "2022-07-22T21:22:12.763Z"
   },
   {
    "duration": 14,
    "start_time": "2022-07-22T21:22:12.769Z"
   },
   {
    "duration": 9,
    "start_time": "2022-07-22T21:22:12.785Z"
   },
   {
    "duration": 6,
    "start_time": "2022-07-22T21:22:12.809Z"
   },
   {
    "duration": 194,
    "start_time": "2022-07-22T21:22:12.816Z"
   },
   {
    "duration": 192,
    "start_time": "2022-07-22T21:22:13.012Z"
   },
   {
    "duration": 23,
    "start_time": "2022-07-22T21:22:13.208Z"
   },
   {
    "duration": 5,
    "start_time": "2022-07-22T21:22:13.234Z"
   },
   {
    "duration": 21,
    "start_time": "2022-07-22T21:22:13.241Z"
   },
   {
    "duration": 186,
    "start_time": "2022-07-22T21:22:13.264Z"
   },
   {
    "duration": 19,
    "start_time": "2022-07-22T21:22:13.452Z"
   },
   {
    "duration": 7,
    "start_time": "2022-07-22T21:23:10.643Z"
   },
   {
    "duration": 86,
    "start_time": "2022-07-22T21:23:57.969Z"
   },
   {
    "duration": 15,
    "start_time": "2022-07-22T21:23:58.057Z"
   },
   {
    "duration": 13,
    "start_time": "2022-07-22T21:23:58.074Z"
   },
   {
    "duration": 35,
    "start_time": "2022-07-22T21:23:58.089Z"
   },
   {
    "duration": 23,
    "start_time": "2022-07-22T21:23:58.126Z"
   },
   {
    "duration": 20,
    "start_time": "2022-07-22T21:23:58.151Z"
   },
   {
    "duration": 96,
    "start_time": "2022-07-22T21:23:58.173Z"
   },
   {
    "duration": 62,
    "start_time": "2022-07-22T21:23:58.271Z"
   },
   {
    "duration": 17,
    "start_time": "2022-07-22T21:23:58.335Z"
   },
   {
    "duration": 8,
    "start_time": "2022-07-22T21:23:58.355Z"
   },
   {
    "duration": 10,
    "start_time": "2022-07-22T21:23:58.365Z"
   },
   {
    "duration": 13,
    "start_time": "2022-07-22T21:23:58.377Z"
   },
   {
    "duration": 21,
    "start_time": "2022-07-22T21:23:58.391Z"
   },
   {
    "duration": 15,
    "start_time": "2022-07-22T21:23:58.413Z"
   },
   {
    "duration": 18,
    "start_time": "2022-07-22T21:23:58.429Z"
   },
   {
    "duration": 7,
    "start_time": "2022-07-22T21:23:58.448Z"
   },
   {
    "duration": 13,
    "start_time": "2022-07-22T21:23:58.457Z"
   },
   {
    "duration": 4,
    "start_time": "2022-07-22T21:23:58.472Z"
   },
   {
    "duration": 16,
    "start_time": "2022-07-22T21:23:58.477Z"
   },
   {
    "duration": 197,
    "start_time": "2022-07-22T21:23:58.495Z"
   },
   {
    "duration": 5,
    "start_time": "2022-07-22T21:23:58.693Z"
   },
   {
    "duration": 17,
    "start_time": "2022-07-22T21:23:58.699Z"
   },
   {
    "duration": 21,
    "start_time": "2022-07-22T21:23:58.719Z"
   },
   {
    "duration": 6,
    "start_time": "2022-07-22T21:23:58.742Z"
   },
   {
    "duration": 184,
    "start_time": "2022-07-22T21:23:58.749Z"
   },
   {
    "duration": 183,
    "start_time": "2022-07-22T21:23:58.934Z"
   },
   {
    "duration": 22,
    "start_time": "2022-07-22T21:23:59.119Z"
   },
   {
    "duration": 3,
    "start_time": "2022-07-22T21:23:59.144Z"
   },
   {
    "duration": 6,
    "start_time": "2022-07-22T21:23:59.149Z"
   },
   {
    "duration": 194,
    "start_time": "2022-07-22T21:23:59.157Z"
   },
   {
    "duration": 17,
    "start_time": "2022-07-22T21:23:59.353Z"
   },
   {
    "duration": 44,
    "start_time": "2022-07-22T21:23:59.372Z"
   },
   {
    "duration": 7,
    "start_time": "2022-07-22T21:23:59.418Z"
   },
   {
    "duration": 9,
    "start_time": "2022-07-22T21:23:59.427Z"
   },
   {
    "duration": 12,
    "start_time": "2022-07-22T21:23:59.438Z"
   },
   {
    "duration": 12,
    "start_time": "2022-07-22T21:23:59.452Z"
   },
   {
    "duration": 12,
    "start_time": "2022-07-22T21:23:59.466Z"
   },
   {
    "duration": 84,
    "start_time": "2022-07-22T21:24:45.147Z"
   },
   {
    "duration": 15,
    "start_time": "2022-07-22T21:24:45.233Z"
   },
   {
    "duration": 13,
    "start_time": "2022-07-22T21:24:45.249Z"
   },
   {
    "duration": 49,
    "start_time": "2022-07-22T21:24:45.265Z"
   },
   {
    "duration": 27,
    "start_time": "2022-07-22T21:24:45.316Z"
   },
   {
    "duration": 16,
    "start_time": "2022-07-22T21:24:45.345Z"
   },
   {
    "duration": 96,
    "start_time": "2022-07-22T21:24:45.363Z"
   },
   {
    "duration": 63,
    "start_time": "2022-07-22T21:24:45.461Z"
   },
   {
    "duration": 16,
    "start_time": "2022-07-22T21:24:45.525Z"
   },
   {
    "duration": 13,
    "start_time": "2022-07-22T21:24:45.544Z"
   },
   {
    "duration": 12,
    "start_time": "2022-07-22T21:24:45.559Z"
   },
   {
    "duration": 16,
    "start_time": "2022-07-22T21:24:45.573Z"
   },
   {
    "duration": 17,
    "start_time": "2022-07-22T21:24:45.591Z"
   },
   {
    "duration": 21,
    "start_time": "2022-07-22T21:24:45.609Z"
   },
   {
    "duration": 8,
    "start_time": "2022-07-22T21:24:45.632Z"
   },
   {
    "duration": 10,
    "start_time": "2022-07-22T21:24:45.642Z"
   },
   {
    "duration": 7,
    "start_time": "2022-07-22T21:24:45.654Z"
   },
   {
    "duration": 5,
    "start_time": "2022-07-22T21:24:45.662Z"
   },
   {
    "duration": 7,
    "start_time": "2022-07-22T21:24:45.668Z"
   },
   {
    "duration": 195,
    "start_time": "2022-07-22T21:24:45.676Z"
   },
   {
    "duration": 6,
    "start_time": "2022-07-22T21:24:45.873Z"
   },
   {
    "duration": 14,
    "start_time": "2022-07-22T21:24:45.881Z"
   },
   {
    "duration": 14,
    "start_time": "2022-07-22T21:24:45.896Z"
   },
   {
    "duration": 9,
    "start_time": "2022-07-22T21:24:45.912Z"
   },
   {
    "duration": 195,
    "start_time": "2022-07-22T21:24:45.923Z"
   },
   {
    "duration": 199,
    "start_time": "2022-07-22T21:24:46.121Z"
   },
   {
    "duration": 22,
    "start_time": "2022-07-22T21:24:46.322Z"
   },
   {
    "duration": 5,
    "start_time": "2022-07-22T21:24:46.347Z"
   },
   {
    "duration": 11,
    "start_time": "2022-07-22T21:24:46.353Z"
   },
   {
    "duration": 268,
    "start_time": "2022-07-22T21:24:46.365Z"
   },
   {
    "duration": 18,
    "start_time": "2022-07-22T21:24:46.635Z"
   },
   {
    "duration": 22,
    "start_time": "2022-07-22T21:24:46.655Z"
   },
   {
    "duration": 33,
    "start_time": "2022-07-22T21:24:46.678Z"
   },
   {
    "duration": 7,
    "start_time": "2022-07-22T21:24:46.712Z"
   },
   {
    "duration": 17,
    "start_time": "2022-07-22T21:24:46.721Z"
   },
   {
    "duration": 14,
    "start_time": "2022-07-22T21:24:46.740Z"
   },
   {
    "duration": 10,
    "start_time": "2022-07-22T21:24:46.756Z"
   },
   {
    "duration": 16,
    "start_time": "2022-07-22T21:24:46.768Z"
   },
   {
    "duration": 12,
    "start_time": "2022-07-22T21:24:46.786Z"
   },
   {
    "duration": 19,
    "start_time": "2022-07-22T21:24:46.800Z"
   },
   {
    "duration": 31,
    "start_time": "2022-07-22T21:24:46.821Z"
   },
   {
    "duration": 20,
    "start_time": "2022-07-22T21:24:46.854Z"
   },
   {
    "duration": 33,
    "start_time": "2022-07-22T21:24:46.876Z"
   },
   {
    "duration": 15,
    "start_time": "2022-07-22T21:24:46.911Z"
   },
   {
    "duration": 2,
    "start_time": "2022-07-22T21:24:46.928Z"
   },
   {
    "duration": 7,
    "start_time": "2022-07-22T21:24:46.932Z"
   },
   {
    "duration": 15,
    "start_time": "2022-07-22T21:24:46.941Z"
   },
   {
    "duration": 16,
    "start_time": "2022-07-22T21:24:46.958Z"
   },
   {
    "duration": 43,
    "start_time": "2022-07-22T21:24:52.387Z"
   },
   {
    "duration": 6,
    "start_time": "2022-07-22T21:26:57.410Z"
   },
   {
    "duration": 5,
    "start_time": "2022-07-22T21:27:11.693Z"
   },
   {
    "duration": 148,
    "start_time": "2022-07-22T21:29:43.194Z"
   },
   {
    "duration": 79,
    "start_time": "2022-07-22T21:29:47.765Z"
   },
   {
    "duration": 15,
    "start_time": "2022-07-22T21:29:47.846Z"
   },
   {
    "duration": 14,
    "start_time": "2022-07-22T21:29:47.862Z"
   },
   {
    "duration": 39,
    "start_time": "2022-07-22T21:29:47.878Z"
   },
   {
    "duration": 22,
    "start_time": "2022-07-22T21:29:47.919Z"
   },
   {
    "duration": 17,
    "start_time": "2022-07-22T21:29:47.943Z"
   },
   {
    "duration": 106,
    "start_time": "2022-07-22T21:29:47.962Z"
   },
   {
    "duration": 86,
    "start_time": "2022-07-22T21:29:48.070Z"
   },
   {
    "duration": 18,
    "start_time": "2022-07-22T21:29:48.158Z"
   },
   {
    "duration": 6,
    "start_time": "2022-07-22T21:29:48.179Z"
   },
   {
    "duration": 30,
    "start_time": "2022-07-22T21:29:48.187Z"
   },
   {
    "duration": 12,
    "start_time": "2022-07-22T21:29:48.219Z"
   },
   {
    "duration": 7,
    "start_time": "2022-07-22T21:29:48.233Z"
   },
   {
    "duration": 9,
    "start_time": "2022-07-22T21:29:48.242Z"
   },
   {
    "duration": 5,
    "start_time": "2022-07-22T21:29:48.253Z"
   },
   {
    "duration": 10,
    "start_time": "2022-07-22T21:29:48.260Z"
   },
   {
    "duration": 6,
    "start_time": "2022-07-22T21:29:48.271Z"
   },
   {
    "duration": 32,
    "start_time": "2022-07-22T21:29:48.279Z"
   },
   {
    "duration": 7,
    "start_time": "2022-07-22T21:29:48.312Z"
   },
   {
    "duration": 195,
    "start_time": "2022-07-22T21:29:48.321Z"
   },
   {
    "duration": 5,
    "start_time": "2022-07-22T21:29:48.517Z"
   },
   {
    "duration": 10,
    "start_time": "2022-07-22T21:29:48.524Z"
   },
   {
    "duration": 7,
    "start_time": "2022-07-22T21:29:48.535Z"
   },
   {
    "duration": 10,
    "start_time": "2022-07-22T21:29:48.543Z"
   },
   {
    "duration": 212,
    "start_time": "2022-07-22T21:29:48.554Z"
   },
   {
    "duration": 185,
    "start_time": "2022-07-22T21:29:48.768Z"
   },
   {
    "duration": 22,
    "start_time": "2022-07-22T21:29:48.955Z"
   },
   {
    "duration": 6,
    "start_time": "2022-07-22T21:29:48.983Z"
   },
   {
    "duration": 28,
    "start_time": "2022-07-22T21:29:48.991Z"
   },
   {
    "duration": 188,
    "start_time": "2022-07-22T21:29:49.021Z"
   },
   {
    "duration": 19,
    "start_time": "2022-07-22T21:29:49.211Z"
   },
   {
    "duration": 24,
    "start_time": "2022-07-22T21:29:49.231Z"
   },
   {
    "duration": 6,
    "start_time": "2022-07-22T21:29:49.257Z"
   },
   {
    "duration": 9,
    "start_time": "2022-07-22T21:29:49.264Z"
   },
   {
    "duration": 6,
    "start_time": "2022-07-22T21:29:49.309Z"
   },
   {
    "duration": 16,
    "start_time": "2022-07-22T21:29:49.316Z"
   },
   {
    "duration": 8,
    "start_time": "2022-07-22T21:29:49.334Z"
   },
   {
    "duration": 8,
    "start_time": "2022-07-22T21:29:49.343Z"
   },
   {
    "duration": 10,
    "start_time": "2022-07-22T21:29:49.353Z"
   },
   {
    "duration": 22,
    "start_time": "2022-07-22T21:29:49.365Z"
   },
   {
    "duration": 42,
    "start_time": "2022-07-22T21:29:49.390Z"
   },
   {
    "duration": 25,
    "start_time": "2022-07-22T21:29:49.434Z"
   },
   {
    "duration": 17,
    "start_time": "2022-07-22T21:29:49.461Z"
   },
   {
    "duration": 38,
    "start_time": "2022-07-22T21:29:49.479Z"
   },
   {
    "duration": 2,
    "start_time": "2022-07-22T21:29:49.520Z"
   },
   {
    "duration": 14,
    "start_time": "2022-07-22T21:29:49.524Z"
   },
   {
    "duration": 15,
    "start_time": "2022-07-22T21:29:49.540Z"
   },
   {
    "duration": 13,
    "start_time": "2022-07-22T21:29:49.557Z"
   },
   {
    "duration": 60,
    "start_time": "2022-07-22T21:29:49.572Z"
   },
   {
    "duration": 181,
    "start_time": "2022-07-22T21:29:49.633Z"
   },
   {
    "duration": 177,
    "start_time": "2022-07-22T21:29:49.816Z"
   },
   {
    "duration": 188,
    "start_time": "2022-07-22T21:29:49.995Z"
   },
   {
    "duration": 202,
    "start_time": "2022-07-22T21:29:50.185Z"
   },
   {
    "duration": 194,
    "start_time": "2022-07-22T21:29:50.390Z"
   },
   {
    "duration": 23,
    "start_time": "2022-07-22T21:29:50.586Z"
   },
   {
    "duration": 3,
    "start_time": "2022-07-22T21:29:50.611Z"
   },
   {
    "duration": 212,
    "start_time": "2022-07-22T21:29:50.616Z"
   },
   {
    "duration": 26,
    "start_time": "2022-07-22T21:29:50.830Z"
   },
   {
    "duration": 191,
    "start_time": "2022-07-22T21:29:50.858Z"
   },
   {
    "duration": 15,
    "start_time": "2022-07-22T21:29:51.051Z"
   },
   {
    "duration": 14,
    "start_time": "2022-07-22T21:29:51.068Z"
   },
   {
    "duration": 9,
    "start_time": "2022-07-22T21:29:51.085Z"
   },
   {
    "duration": 223,
    "start_time": "2022-07-22T21:29:51.095Z"
   },
   {
    "duration": 28,
    "start_time": "2022-07-22T21:29:51.320Z"
   },
   {
    "duration": 7,
    "start_time": "2022-07-22T21:29:51.350Z"
   },
   {
    "duration": 304,
    "start_time": "2022-07-22T21:29:51.359Z"
   },
   {
    "duration": 147,
    "start_time": "2022-07-22T21:29:53.413Z"
   },
   {
    "duration": 5,
    "start_time": "2022-07-22T21:30:25.713Z"
   },
   {
    "duration": 10,
    "start_time": "2022-07-22T21:30:26.381Z"
   },
   {
    "duration": 84,
    "start_time": "2022-07-22T21:30:51.780Z"
   },
   {
    "duration": 17,
    "start_time": "2022-07-22T21:30:51.866Z"
   },
   {
    "duration": 14,
    "start_time": "2022-07-22T21:30:51.885Z"
   },
   {
    "duration": 14,
    "start_time": "2022-07-22T21:30:51.909Z"
   },
   {
    "duration": 22,
    "start_time": "2022-07-22T21:30:51.925Z"
   },
   {
    "duration": 17,
    "start_time": "2022-07-22T21:30:51.948Z"
   },
   {
    "duration": 102,
    "start_time": "2022-07-22T21:30:51.967Z"
   },
   {
    "duration": 73,
    "start_time": "2022-07-22T21:30:52.070Z"
   },
   {
    "duration": 17,
    "start_time": "2022-07-22T21:30:52.145Z"
   },
   {
    "duration": 9,
    "start_time": "2022-07-22T21:30:52.165Z"
   },
   {
    "duration": 35,
    "start_time": "2022-07-22T21:30:52.176Z"
   },
   {
    "duration": 12,
    "start_time": "2022-07-22T21:30:52.212Z"
   },
   {
    "duration": 11,
    "start_time": "2022-07-22T21:30:52.226Z"
   },
   {
    "duration": 16,
    "start_time": "2022-07-22T21:30:52.239Z"
   },
   {
    "duration": 5,
    "start_time": "2022-07-22T21:30:52.256Z"
   },
   {
    "duration": 6,
    "start_time": "2022-07-22T21:30:52.263Z"
   },
   {
    "duration": 8,
    "start_time": "2022-07-22T21:30:52.271Z"
   },
   {
    "duration": 30,
    "start_time": "2022-07-22T21:30:52.280Z"
   },
   {
    "duration": 4,
    "start_time": "2022-07-22T21:30:52.312Z"
   },
   {
    "duration": 203,
    "start_time": "2022-07-22T21:30:52.318Z"
   },
   {
    "duration": 6,
    "start_time": "2022-07-22T21:30:52.522Z"
   },
   {
    "duration": 14,
    "start_time": "2022-07-22T21:30:52.529Z"
   },
   {
    "duration": 4,
    "start_time": "2022-07-22T21:30:52.545Z"
   },
   {
    "duration": 13,
    "start_time": "2022-07-22T21:30:52.551Z"
   },
   {
    "duration": 205,
    "start_time": "2022-07-22T21:30:52.565Z"
   },
   {
    "duration": 201,
    "start_time": "2022-07-22T21:30:52.771Z"
   },
   {
    "duration": 22,
    "start_time": "2022-07-22T21:30:52.974Z"
   },
   {
    "duration": 6,
    "start_time": "2022-07-22T21:30:53.013Z"
   },
   {
    "duration": 8,
    "start_time": "2022-07-22T21:30:53.021Z"
   },
   {
    "duration": 203,
    "start_time": "2022-07-22T21:30:53.032Z"
   },
   {
    "duration": 20,
    "start_time": "2022-07-22T21:30:53.237Z"
   },
   {
    "duration": 58,
    "start_time": "2022-07-22T21:30:53.260Z"
   },
   {
    "duration": 7,
    "start_time": "2022-07-22T21:30:53.320Z"
   },
   {
    "duration": 18,
    "start_time": "2022-07-22T21:30:53.329Z"
   },
   {
    "duration": 9,
    "start_time": "2022-07-22T21:30:53.350Z"
   },
   {
    "duration": 11,
    "start_time": "2022-07-22T21:30:53.361Z"
   },
   {
    "duration": 13,
    "start_time": "2022-07-22T21:30:53.374Z"
   },
   {
    "duration": 21,
    "start_time": "2022-07-22T21:30:53.389Z"
   },
   {
    "duration": 8,
    "start_time": "2022-07-22T21:30:53.412Z"
   },
   {
    "duration": 25,
    "start_time": "2022-07-22T21:30:53.421Z"
   },
   {
    "duration": 23,
    "start_time": "2022-07-22T21:30:53.448Z"
   },
   {
    "duration": 46,
    "start_time": "2022-07-22T21:30:53.473Z"
   },
   {
    "duration": 18,
    "start_time": "2022-07-22T21:30:53.520Z"
   },
   {
    "duration": 17,
    "start_time": "2022-07-22T21:30:53.540Z"
   },
   {
    "duration": 3,
    "start_time": "2022-07-22T21:30:53.558Z"
   },
   {
    "duration": 14,
    "start_time": "2022-07-22T21:30:53.563Z"
   },
   {
    "duration": 37,
    "start_time": "2022-07-22T21:30:53.579Z"
   },
   {
    "duration": 18,
    "start_time": "2022-07-22T21:30:53.618Z"
   },
   {
    "duration": 51,
    "start_time": "2022-07-22T21:30:53.638Z"
   },
   {
    "duration": 206,
    "start_time": "2022-07-22T21:30:53.691Z"
   },
   {
    "duration": 192,
    "start_time": "2022-07-22T21:30:53.899Z"
   },
   {
    "duration": 180,
    "start_time": "2022-07-22T21:30:54.093Z"
   },
   {
    "duration": 217,
    "start_time": "2022-07-22T21:30:54.274Z"
   },
   {
    "duration": 205,
    "start_time": "2022-07-22T21:30:54.494Z"
   },
   {
    "duration": 22,
    "start_time": "2022-07-22T21:30:54.703Z"
   },
   {
    "duration": 7,
    "start_time": "2022-07-22T21:30:54.728Z"
   },
   {
    "duration": 267,
    "start_time": "2022-07-22T21:30:54.737Z"
   },
   {
    "duration": 33,
    "start_time": "2022-07-22T21:30:55.006Z"
   },
   {
    "duration": 198,
    "start_time": "2022-07-22T21:30:55.041Z"
   },
   {
    "duration": 15,
    "start_time": "2022-07-22T21:30:55.240Z"
   },
   {
    "duration": 6,
    "start_time": "2022-07-22T21:30:55.257Z"
   },
   {
    "duration": 21,
    "start_time": "2022-07-22T21:30:55.264Z"
   },
   {
    "duration": 228,
    "start_time": "2022-07-22T21:30:55.286Z"
   },
   {
    "duration": 30,
    "start_time": "2022-07-22T21:30:55.516Z"
   },
   {
    "duration": 8,
    "start_time": "2022-07-22T21:30:55.548Z"
   },
   {
    "duration": 183,
    "start_time": "2022-07-22T21:30:55.558Z"
   },
   {
    "duration": 3,
    "start_time": "2022-07-22T21:30:55.743Z"
   },
   {
    "duration": 8,
    "start_time": "2022-07-22T21:30:58.807Z"
   },
   {
    "duration": 145,
    "start_time": "2022-07-22T21:31:08.905Z"
   },
   {
    "duration": 4,
    "start_time": "2022-07-22T21:31:11.039Z"
   },
   {
    "duration": 8,
    "start_time": "2022-07-22T21:31:12.742Z"
   },
   {
    "duration": 4,
    "start_time": "2022-07-22T21:34:10.004Z"
   },
   {
    "duration": 5,
    "start_time": "2022-07-22T21:34:22.239Z"
   },
   {
    "duration": 7,
    "start_time": "2022-07-22T21:34:46.322Z"
   },
   {
    "duration": 4,
    "start_time": "2022-07-22T21:36:12.679Z"
   },
   {
    "duration": 5,
    "start_time": "2022-07-22T21:37:04.342Z"
   },
   {
    "duration": 6,
    "start_time": "2022-07-22T21:37:24.609Z"
   },
   {
    "duration": 5,
    "start_time": "2022-07-22T21:37:35.008Z"
   },
   {
    "duration": 111,
    "start_time": "2022-07-22T21:37:45.546Z"
   },
   {
    "duration": 15,
    "start_time": "2022-07-22T21:37:45.659Z"
   },
   {
    "duration": 13,
    "start_time": "2022-07-22T21:37:45.676Z"
   },
   {
    "duration": 31,
    "start_time": "2022-07-22T21:37:45.692Z"
   },
   {
    "duration": 30,
    "start_time": "2022-07-22T21:37:45.726Z"
   },
   {
    "duration": 18,
    "start_time": "2022-07-22T21:37:45.757Z"
   },
   {
    "duration": 103,
    "start_time": "2022-07-22T21:37:45.776Z"
   },
   {
    "duration": 81,
    "start_time": "2022-07-22T21:37:45.880Z"
   },
   {
    "duration": 16,
    "start_time": "2022-07-22T21:37:45.963Z"
   },
   {
    "duration": 30,
    "start_time": "2022-07-22T21:37:45.982Z"
   },
   {
    "duration": 31,
    "start_time": "2022-07-22T21:37:46.014Z"
   },
   {
    "duration": 15,
    "start_time": "2022-07-22T21:37:46.047Z"
   },
   {
    "duration": 7,
    "start_time": "2022-07-22T21:37:46.064Z"
   },
   {
    "duration": 10,
    "start_time": "2022-07-22T21:37:46.073Z"
   },
   {
    "duration": 10,
    "start_time": "2022-07-22T21:37:46.084Z"
   },
   {
    "duration": 7,
    "start_time": "2022-07-22T21:37:46.096Z"
   },
   {
    "duration": 15,
    "start_time": "2022-07-22T21:37:46.106Z"
   },
   {
    "duration": 21,
    "start_time": "2022-07-22T21:37:46.123Z"
   },
   {
    "duration": 7,
    "start_time": "2022-07-22T21:37:46.146Z"
   },
   {
    "duration": 201,
    "start_time": "2022-07-22T21:37:46.154Z"
   },
   {
    "duration": 6,
    "start_time": "2022-07-22T21:37:46.357Z"
   },
   {
    "duration": 23,
    "start_time": "2022-07-22T21:37:46.364Z"
   },
   {
    "duration": 9,
    "start_time": "2022-07-22T21:37:46.388Z"
   },
   {
    "duration": 13,
    "start_time": "2022-07-22T21:37:46.398Z"
   },
   {
    "duration": 290,
    "start_time": "2022-07-22T21:37:46.413Z"
   },
   {
    "duration": 209,
    "start_time": "2022-07-22T21:37:46.704Z"
   },
   {
    "duration": 29,
    "start_time": "2022-07-22T21:37:46.915Z"
   },
   {
    "duration": 5,
    "start_time": "2022-07-22T21:37:46.948Z"
   },
   {
    "duration": 8,
    "start_time": "2022-07-22T21:37:46.955Z"
   },
   {
    "duration": 214,
    "start_time": "2022-07-22T21:37:46.965Z"
   },
   {
    "duration": 33,
    "start_time": "2022-07-22T21:37:47.181Z"
   },
   {
    "duration": 35,
    "start_time": "2022-07-22T21:37:47.216Z"
   },
   {
    "duration": 7,
    "start_time": "2022-07-22T21:37:47.252Z"
   },
   {
    "duration": 12,
    "start_time": "2022-07-22T21:37:47.260Z"
   },
   {
    "duration": 36,
    "start_time": "2022-07-22T21:37:47.273Z"
   },
   {
    "duration": 7,
    "start_time": "2022-07-22T21:37:47.311Z"
   },
   {
    "duration": 13,
    "start_time": "2022-07-22T21:37:47.320Z"
   },
   {
    "duration": 10,
    "start_time": "2022-07-22T21:37:47.335Z"
   },
   {
    "duration": 13,
    "start_time": "2022-07-22T21:37:47.347Z"
   },
   {
    "duration": 25,
    "start_time": "2022-07-22T21:37:47.362Z"
   },
   {
    "duration": 40,
    "start_time": "2022-07-22T21:37:47.390Z"
   },
   {
    "duration": 25,
    "start_time": "2022-07-22T21:37:47.432Z"
   },
   {
    "duration": 21,
    "start_time": "2022-07-22T21:37:47.459Z"
   },
   {
    "duration": 39,
    "start_time": "2022-07-22T21:37:47.482Z"
   },
   {
    "duration": 18,
    "start_time": "2022-07-22T21:37:47.523Z"
   },
   {
    "duration": 10,
    "start_time": "2022-07-22T21:37:47.542Z"
   },
   {
    "duration": 22,
    "start_time": "2022-07-22T21:37:47.554Z"
   },
   {
    "duration": 25,
    "start_time": "2022-07-22T21:37:47.578Z"
   },
   {
    "duration": 47,
    "start_time": "2022-07-22T21:37:47.605Z"
   },
   {
    "duration": 227,
    "start_time": "2022-07-22T21:37:47.653Z"
   },
   {
    "duration": 185,
    "start_time": "2022-07-22T21:37:47.881Z"
   },
   {
    "duration": 173,
    "start_time": "2022-07-22T21:37:48.068Z"
   },
   {
    "duration": 199,
    "start_time": "2022-07-22T21:37:48.242Z"
   },
   {
    "duration": 191,
    "start_time": "2022-07-22T21:37:48.444Z"
   },
   {
    "duration": 13,
    "start_time": "2022-07-22T21:37:48.636Z"
   },
   {
    "duration": 10,
    "start_time": "2022-07-22T21:37:48.651Z"
   },
   {
    "duration": 214,
    "start_time": "2022-07-22T21:37:48.663Z"
   },
   {
    "duration": 34,
    "start_time": "2022-07-22T21:37:48.878Z"
   },
   {
    "duration": 179,
    "start_time": "2022-07-22T21:37:48.914Z"
   },
   {
    "duration": 23,
    "start_time": "2022-07-22T21:37:49.095Z"
   },
   {
    "duration": 4,
    "start_time": "2022-07-22T21:37:49.120Z"
   },
   {
    "duration": 16,
    "start_time": "2022-07-22T21:37:49.126Z"
   },
   {
    "duration": 214,
    "start_time": "2022-07-22T21:37:49.144Z"
   },
   {
    "duration": 52,
    "start_time": "2022-07-22T21:37:49.359Z"
   },
   {
    "duration": 8,
    "start_time": "2022-07-22T21:37:49.413Z"
   },
   {
    "duration": 158,
    "start_time": "2022-07-22T21:37:49.423Z"
   },
   {
    "duration": 3,
    "start_time": "2022-07-22T21:37:49.583Z"
   },
   {
    "duration": 24,
    "start_time": "2022-07-22T21:37:49.588Z"
   },
   {
    "duration": 7,
    "start_time": "2022-07-22T21:37:49.614Z"
   },
   {
    "duration": 188,
    "start_time": "2022-07-22T21:37:49.623Z"
   },
   {
    "duration": 5,
    "start_time": "2022-07-22T21:37:49.813Z"
   },
   {
    "duration": 10,
    "start_time": "2022-07-22T21:38:07.010Z"
   },
   {
    "duration": 7,
    "start_time": "2022-07-22T21:38:12.556Z"
   },
   {
    "duration": 10,
    "start_time": "2022-07-22T21:38:29.664Z"
   },
   {
    "duration": 7,
    "start_time": "2022-07-22T21:38:31.225Z"
   },
   {
    "duration": 12,
    "start_time": "2022-07-22T21:40:33.668Z"
   },
   {
    "duration": 8,
    "start_time": "2022-07-22T21:40:35.050Z"
   },
   {
    "duration": 10,
    "start_time": "2022-07-22T21:42:25.767Z"
   },
   {
    "duration": 83,
    "start_time": "2022-07-22T21:42:52.141Z"
   },
   {
    "duration": 16,
    "start_time": "2022-07-22T21:42:52.226Z"
   },
   {
    "duration": 15,
    "start_time": "2022-07-22T21:42:52.244Z"
   },
   {
    "duration": 37,
    "start_time": "2022-07-22T21:42:52.260Z"
   },
   {
    "duration": 20,
    "start_time": "2022-07-22T21:42:52.309Z"
   },
   {
    "duration": 21,
    "start_time": "2022-07-22T21:42:52.330Z"
   },
   {
    "duration": 93,
    "start_time": "2022-07-22T21:42:52.352Z"
   },
   {
    "duration": 64,
    "start_time": "2022-07-22T21:42:52.446Z"
   },
   {
    "duration": 16,
    "start_time": "2022-07-22T21:42:52.512Z"
   },
   {
    "duration": 29,
    "start_time": "2022-07-22T21:42:52.529Z"
   },
   {
    "duration": 8,
    "start_time": "2022-07-22T21:42:52.560Z"
   },
   {
    "duration": 19,
    "start_time": "2022-07-22T21:42:52.570Z"
   },
   {
    "duration": 11,
    "start_time": "2022-07-22T21:42:52.591Z"
   },
   {
    "duration": 7,
    "start_time": "2022-07-22T21:42:52.606Z"
   },
   {
    "duration": 6,
    "start_time": "2022-07-22T21:42:52.614Z"
   },
   {
    "duration": 8,
    "start_time": "2022-07-22T21:42:52.621Z"
   },
   {
    "duration": 11,
    "start_time": "2022-07-22T21:42:52.631Z"
   },
   {
    "duration": 5,
    "start_time": "2022-07-22T21:42:52.643Z"
   },
   {
    "duration": 7,
    "start_time": "2022-07-22T21:42:52.650Z"
   },
   {
    "duration": 202,
    "start_time": "2022-07-22T21:42:52.658Z"
   },
   {
    "duration": 5,
    "start_time": "2022-07-22T21:42:52.862Z"
   },
   {
    "duration": 19,
    "start_time": "2022-07-22T21:42:52.868Z"
   },
   {
    "duration": 5,
    "start_time": "2022-07-22T21:42:52.889Z"
   },
   {
    "duration": 21,
    "start_time": "2022-07-22T21:42:52.896Z"
   },
   {
    "duration": 266,
    "start_time": "2022-07-22T21:42:52.919Z"
   },
   {
    "duration": 188,
    "start_time": "2022-07-22T21:42:53.187Z"
   },
   {
    "duration": 22,
    "start_time": "2022-07-22T21:42:53.376Z"
   },
   {
    "duration": 5,
    "start_time": "2022-07-22T21:42:53.410Z"
   },
   {
    "duration": 13,
    "start_time": "2022-07-22T21:42:53.417Z"
   },
   {
    "duration": 180,
    "start_time": "2022-07-22T21:42:53.432Z"
   },
   {
    "duration": 18,
    "start_time": "2022-07-22T21:42:53.614Z"
   },
   {
    "duration": 21,
    "start_time": "2022-07-22T21:42:53.634Z"
   },
   {
    "duration": 6,
    "start_time": "2022-07-22T21:42:53.656Z"
   },
   {
    "duration": 13,
    "start_time": "2022-07-22T21:42:53.663Z"
   },
   {
    "duration": 11,
    "start_time": "2022-07-22T21:42:53.678Z"
   },
   {
    "duration": 7,
    "start_time": "2022-07-22T21:42:53.710Z"
   },
   {
    "duration": 11,
    "start_time": "2022-07-22T21:42:53.719Z"
   },
   {
    "duration": 8,
    "start_time": "2022-07-22T21:42:53.731Z"
   },
   {
    "duration": 15,
    "start_time": "2022-07-22T21:42:53.740Z"
   },
   {
    "duration": 18,
    "start_time": "2022-07-22T21:42:53.756Z"
   },
   {
    "duration": 33,
    "start_time": "2022-07-22T21:42:53.778Z"
   },
   {
    "duration": 17,
    "start_time": "2022-07-22T21:42:53.813Z"
   },
   {
    "duration": 17,
    "start_time": "2022-07-22T21:42:53.832Z"
   },
   {
    "duration": 14,
    "start_time": "2022-07-22T21:42:53.850Z"
   },
   {
    "duration": 2,
    "start_time": "2022-07-22T21:42:53.866Z"
   },
   {
    "duration": 9,
    "start_time": "2022-07-22T21:42:53.869Z"
   },
   {
    "duration": 41,
    "start_time": "2022-07-22T21:42:53.879Z"
   },
   {
    "duration": 13,
    "start_time": "2022-07-22T21:42:53.922Z"
   },
   {
    "duration": 42,
    "start_time": "2022-07-22T21:42:53.937Z"
   },
   {
    "duration": 206,
    "start_time": "2022-07-22T21:42:53.981Z"
   },
   {
    "duration": 189,
    "start_time": "2022-07-22T21:42:54.188Z"
   },
   {
    "duration": 160,
    "start_time": "2022-07-22T21:42:54.379Z"
   },
   {
    "duration": 196,
    "start_time": "2022-07-22T21:42:54.540Z"
   },
   {
    "duration": 199,
    "start_time": "2022-07-22T21:42:54.738Z"
   },
   {
    "duration": 13,
    "start_time": "2022-07-22T21:42:54.939Z"
   },
   {
    "duration": 22,
    "start_time": "2022-07-22T21:42:54.954Z"
   },
   {
    "duration": 212,
    "start_time": "2022-07-22T21:42:54.978Z"
   },
   {
    "duration": 34,
    "start_time": "2022-07-22T21:42:55.192Z"
   },
   {
    "duration": 197,
    "start_time": "2022-07-22T21:42:55.228Z"
   },
   {
    "duration": 14,
    "start_time": "2022-07-22T21:42:55.426Z"
   },
   {
    "duration": 5,
    "start_time": "2022-07-22T21:42:55.442Z"
   },
   {
    "duration": 23,
    "start_time": "2022-07-22T21:42:55.448Z"
   },
   {
    "duration": 214,
    "start_time": "2022-07-22T21:42:55.472Z"
   },
   {
    "duration": 37,
    "start_time": "2022-07-22T21:42:55.688Z"
   },
   {
    "duration": 9,
    "start_time": "2022-07-22T21:42:55.727Z"
   },
   {
    "duration": 159,
    "start_time": "2022-07-22T21:42:55.737Z"
   },
   {
    "duration": 13,
    "start_time": "2022-07-22T21:42:55.897Z"
   },
   {
    "duration": 17,
    "start_time": "2022-07-22T21:42:55.912Z"
   },
   {
    "duration": 9,
    "start_time": "2022-07-22T21:42:55.931Z"
   },
   {
    "duration": 180,
    "start_time": "2022-07-22T21:42:55.942Z"
   },
   {
    "duration": 5,
    "start_time": "2022-07-22T21:42:56.123Z"
   },
   {
    "duration": 30,
    "start_time": "2022-07-22T21:42:56.130Z"
   },
   {
    "duration": 12,
    "start_time": "2022-07-22T21:42:56.162Z"
   },
   {
    "duration": 30,
    "start_time": "2022-07-22T21:43:22.412Z"
   },
   {
    "duration": 912,
    "start_time": "2022-07-22T21:43:37.689Z"
   },
   {
    "duration": 12,
    "start_time": "2022-07-22T21:44:11.427Z"
   },
   {
    "duration": 1065,
    "start_time": "2022-07-22T21:46:23.348Z"
   },
   {
    "duration": 108,
    "start_time": "2022-07-22T22:08:39.859Z"
   },
   {
    "duration": 14,
    "start_time": "2022-07-22T22:08:39.969Z"
   },
   {
    "duration": 19,
    "start_time": "2022-07-22T22:08:39.985Z"
   },
   {
    "duration": 22,
    "start_time": "2022-07-22T22:08:40.006Z"
   },
   {
    "duration": 21,
    "start_time": "2022-07-22T22:08:40.030Z"
   },
   {
    "duration": 16,
    "start_time": "2022-07-22T22:08:40.052Z"
   },
   {
    "duration": 82,
    "start_time": "2022-07-22T22:08:40.069Z"
   },
   {
    "duration": 68,
    "start_time": "2022-07-22T22:08:40.153Z"
   },
   {
    "duration": 14,
    "start_time": "2022-07-22T22:08:40.223Z"
   },
   {
    "duration": 13,
    "start_time": "2022-07-22T22:08:40.240Z"
   },
   {
    "duration": 15,
    "start_time": "2022-07-22T22:08:40.255Z"
   },
   {
    "duration": 15,
    "start_time": "2022-07-22T22:08:40.272Z"
   },
   {
    "duration": 8,
    "start_time": "2022-07-22T22:08:40.289Z"
   },
   {
    "duration": 14,
    "start_time": "2022-07-22T22:08:40.298Z"
   },
   {
    "duration": 16,
    "start_time": "2022-07-22T22:08:40.313Z"
   },
   {
    "duration": 8,
    "start_time": "2022-07-22T22:08:40.330Z"
   },
   {
    "duration": 7,
    "start_time": "2022-07-22T22:08:40.339Z"
   },
   {
    "duration": 5,
    "start_time": "2022-07-22T22:08:40.347Z"
   },
   {
    "duration": 11,
    "start_time": "2022-07-22T22:08:40.353Z"
   },
   {
    "duration": 188,
    "start_time": "2022-07-22T22:08:40.365Z"
   },
   {
    "duration": 5,
    "start_time": "2022-07-22T22:08:40.555Z"
   },
   {
    "duration": 10,
    "start_time": "2022-07-22T22:08:40.562Z"
   },
   {
    "duration": 5,
    "start_time": "2022-07-22T22:08:40.574Z"
   },
   {
    "duration": 29,
    "start_time": "2022-07-22T22:08:40.581Z"
   },
   {
    "duration": 242,
    "start_time": "2022-07-22T22:08:40.612Z"
   },
   {
    "duration": 186,
    "start_time": "2022-07-22T22:08:40.855Z"
   },
   {
    "duration": 25,
    "start_time": "2022-07-22T22:08:41.043Z"
   },
   {
    "duration": 4,
    "start_time": "2022-07-22T22:08:41.072Z"
   },
   {
    "duration": 12,
    "start_time": "2022-07-22T22:08:41.077Z"
   },
   {
    "duration": 189,
    "start_time": "2022-07-22T22:08:41.090Z"
   },
   {
    "duration": 28,
    "start_time": "2022-07-22T22:08:41.281Z"
   },
   {
    "duration": 24,
    "start_time": "2022-07-22T22:08:41.311Z"
   },
   {
    "duration": 6,
    "start_time": "2022-07-22T22:08:41.337Z"
   },
   {
    "duration": 11,
    "start_time": "2022-07-22T22:08:41.345Z"
   },
   {
    "duration": 9,
    "start_time": "2022-07-22T22:08:41.358Z"
   },
   {
    "duration": 9,
    "start_time": "2022-07-22T22:08:41.369Z"
   },
   {
    "duration": 9,
    "start_time": "2022-07-22T22:08:41.379Z"
   },
   {
    "duration": 24,
    "start_time": "2022-07-22T22:08:41.390Z"
   },
   {
    "duration": 10,
    "start_time": "2022-07-22T22:08:41.416Z"
   },
   {
    "duration": 18,
    "start_time": "2022-07-22T22:08:41.427Z"
   },
   {
    "duration": 14,
    "start_time": "2022-07-22T22:08:41.447Z"
   },
   {
    "duration": 16,
    "start_time": "2022-07-22T22:08:41.462Z"
   },
   {
    "duration": 41,
    "start_time": "2022-07-22T22:08:41.479Z"
   },
   {
    "duration": 13,
    "start_time": "2022-07-22T22:08:41.522Z"
   },
   {
    "duration": 8,
    "start_time": "2022-07-22T22:08:41.536Z"
   },
   {
    "duration": 12,
    "start_time": "2022-07-22T22:08:41.545Z"
   },
   {
    "duration": 16,
    "start_time": "2022-07-22T22:08:41.559Z"
   },
   {
    "duration": 17,
    "start_time": "2022-07-22T22:08:41.576Z"
   },
   {
    "duration": 59,
    "start_time": "2022-07-22T22:08:41.595Z"
   },
   {
    "duration": 211,
    "start_time": "2022-07-22T22:08:41.656Z"
   },
   {
    "duration": 169,
    "start_time": "2022-07-22T22:08:41.868Z"
   },
   {
    "duration": 153,
    "start_time": "2022-07-22T22:08:42.040Z"
   },
   {
    "duration": 188,
    "start_time": "2022-07-22T22:08:42.194Z"
   },
   {
    "duration": 181,
    "start_time": "2022-07-22T22:08:42.383Z"
   },
   {
    "duration": 11,
    "start_time": "2022-07-22T22:08:42.566Z"
   },
   {
    "duration": 3,
    "start_time": "2022-07-22T22:08:42.579Z"
   },
   {
    "duration": 221,
    "start_time": "2022-07-22T22:08:42.584Z"
   },
   {
    "duration": 26,
    "start_time": "2022-07-22T22:08:42.806Z"
   },
   {
    "duration": 176,
    "start_time": "2022-07-22T22:08:42.833Z"
   },
   {
    "duration": 13,
    "start_time": "2022-07-22T22:08:43.011Z"
   },
   {
    "duration": 3,
    "start_time": "2022-07-22T22:08:43.026Z"
   },
   {
    "duration": 10,
    "start_time": "2022-07-22T22:08:43.030Z"
   },
   {
    "duration": 217,
    "start_time": "2022-07-22T22:08:43.041Z"
   },
   {
    "duration": 27,
    "start_time": "2022-07-22T22:08:43.260Z"
   },
   {
    "duration": 23,
    "start_time": "2022-07-22T22:08:43.289Z"
   },
   {
    "duration": 167,
    "start_time": "2022-07-22T22:08:43.314Z"
   },
   {
    "duration": 3,
    "start_time": "2022-07-22T22:08:43.483Z"
   },
   {
    "duration": 10,
    "start_time": "2022-07-22T22:08:43.488Z"
   },
   {
    "duration": 5,
    "start_time": "2022-07-22T22:08:43.509Z"
   },
   {
    "duration": 177,
    "start_time": "2022-07-22T22:08:43.516Z"
   },
   {
    "duration": 19,
    "start_time": "2022-07-22T22:08:43.695Z"
   },
   {
    "duration": 984,
    "start_time": "2022-07-22T22:08:43.716Z"
   },
   {
    "duration": 124,
    "start_time": "2022-07-22T22:15:01.842Z"
   },
   {
    "duration": 15,
    "start_time": "2022-07-22T22:15:01.968Z"
   },
   {
    "duration": 17,
    "start_time": "2022-07-22T22:15:01.985Z"
   },
   {
    "duration": 38,
    "start_time": "2022-07-22T22:15:02.011Z"
   },
   {
    "duration": 33,
    "start_time": "2022-07-22T22:15:02.051Z"
   },
   {
    "duration": 22,
    "start_time": "2022-07-22T22:15:02.086Z"
   },
   {
    "duration": 73,
    "start_time": "2022-07-22T22:15:02.109Z"
   },
   {
    "duration": 62,
    "start_time": "2022-07-22T22:15:02.184Z"
   },
   {
    "duration": 19,
    "start_time": "2022-07-22T22:15:02.248Z"
   },
   {
    "duration": 23,
    "start_time": "2022-07-22T22:15:02.269Z"
   },
   {
    "duration": 15,
    "start_time": "2022-07-22T22:15:02.294Z"
   },
   {
    "duration": 24,
    "start_time": "2022-07-22T22:15:02.310Z"
   },
   {
    "duration": 26,
    "start_time": "2022-07-22T22:15:02.336Z"
   },
   {
    "duration": 15,
    "start_time": "2022-07-22T22:15:02.364Z"
   },
   {
    "duration": 12,
    "start_time": "2022-07-22T22:15:02.381Z"
   },
   {
    "duration": 27,
    "start_time": "2022-07-22T22:15:02.395Z"
   },
   {
    "duration": 18,
    "start_time": "2022-07-22T22:15:02.423Z"
   },
   {
    "duration": 17,
    "start_time": "2022-07-22T22:15:02.443Z"
   },
   {
    "duration": 25,
    "start_time": "2022-07-22T22:15:02.461Z"
   },
   {
    "duration": 213,
    "start_time": "2022-07-22T22:15:02.487Z"
   },
   {
    "duration": 10,
    "start_time": "2022-07-22T22:15:02.702Z"
   },
   {
    "duration": 18,
    "start_time": "2022-07-22T22:15:02.713Z"
   },
   {
    "duration": 24,
    "start_time": "2022-07-22T22:15:02.732Z"
   },
   {
    "duration": 17,
    "start_time": "2022-07-22T22:15:02.758Z"
   },
   {
    "duration": 266,
    "start_time": "2022-07-22T22:15:02.776Z"
   },
   {
    "duration": 194,
    "start_time": "2022-07-22T22:15:03.044Z"
   },
   {
    "duration": 20,
    "start_time": "2022-07-22T22:15:03.239Z"
   },
   {
    "duration": 4,
    "start_time": "2022-07-22T22:15:03.263Z"
   },
   {
    "duration": 15,
    "start_time": "2022-07-22T22:15:03.268Z"
   },
   {
    "duration": 188,
    "start_time": "2022-07-22T22:15:03.284Z"
   },
   {
    "duration": 17,
    "start_time": "2022-07-22T22:15:03.474Z"
   },
   {
    "duration": 33,
    "start_time": "2022-07-22T22:15:03.492Z"
   },
   {
    "duration": 7,
    "start_time": "2022-07-22T22:15:03.527Z"
   },
   {
    "duration": 9,
    "start_time": "2022-07-22T22:15:03.536Z"
   },
   {
    "duration": 12,
    "start_time": "2022-07-22T22:15:03.547Z"
   },
   {
    "duration": 13,
    "start_time": "2022-07-22T22:15:03.561Z"
   },
   {
    "duration": 16,
    "start_time": "2022-07-22T22:15:03.575Z"
   },
   {
    "duration": 14,
    "start_time": "2022-07-22T22:15:03.592Z"
   },
   {
    "duration": 12,
    "start_time": "2022-07-22T22:15:03.607Z"
   },
   {
    "duration": 33,
    "start_time": "2022-07-22T22:15:03.621Z"
   },
   {
    "duration": 21,
    "start_time": "2022-07-22T22:15:03.656Z"
   },
   {
    "duration": 18,
    "start_time": "2022-07-22T22:15:03.679Z"
   },
   {
    "duration": 19,
    "start_time": "2022-07-22T22:15:03.699Z"
   },
   {
    "duration": 19,
    "start_time": "2022-07-22T22:15:03.720Z"
   },
   {
    "duration": 20,
    "start_time": "2022-07-22T22:15:03.740Z"
   },
   {
    "duration": 16,
    "start_time": "2022-07-22T22:15:03.762Z"
   },
   {
    "duration": 27,
    "start_time": "2022-07-22T22:15:03.779Z"
   },
   {
    "duration": 30,
    "start_time": "2022-07-22T22:15:03.808Z"
   },
   {
    "duration": 54,
    "start_time": "2022-07-22T22:15:03.840Z"
   },
   {
    "duration": 183,
    "start_time": "2022-07-22T22:15:03.896Z"
   },
   {
    "duration": 191,
    "start_time": "2022-07-22T22:15:04.080Z"
   },
   {
    "duration": 181,
    "start_time": "2022-07-22T22:15:04.272Z"
   },
   {
    "duration": 204,
    "start_time": "2022-07-22T22:15:04.455Z"
   },
   {
    "duration": 186,
    "start_time": "2022-07-22T22:15:04.660Z"
   },
   {
    "duration": 13,
    "start_time": "2022-07-22T22:15:04.848Z"
   },
   {
    "duration": 10,
    "start_time": "2022-07-22T22:15:04.862Z"
   },
   {
    "duration": 218,
    "start_time": "2022-07-22T22:15:04.874Z"
   },
   {
    "duration": 30,
    "start_time": "2022-07-22T22:15:05.094Z"
   },
   {
    "duration": 178,
    "start_time": "2022-07-22T22:15:05.126Z"
   },
   {
    "duration": 15,
    "start_time": "2022-07-22T22:15:05.309Z"
   },
   {
    "duration": 5,
    "start_time": "2022-07-22T22:15:05.326Z"
   },
   {
    "duration": 11,
    "start_time": "2022-07-22T22:15:05.332Z"
   },
   {
    "duration": 240,
    "start_time": "2022-07-22T22:15:05.345Z"
   },
   {
    "duration": 29,
    "start_time": "2022-07-22T22:15:05.587Z"
   },
   {
    "duration": 8,
    "start_time": "2022-07-22T22:15:05.617Z"
   },
   {
    "duration": 155,
    "start_time": "2022-07-22T22:15:05.626Z"
   },
   {
    "duration": 4,
    "start_time": "2022-07-22T22:15:05.782Z"
   },
   {
    "duration": 19,
    "start_time": "2022-07-22T22:15:05.787Z"
   },
   {
    "duration": 9,
    "start_time": "2022-07-22T22:15:05.810Z"
   },
   {
    "duration": 176,
    "start_time": "2022-07-22T22:15:05.820Z"
   },
   {
    "duration": 17,
    "start_time": "2022-07-22T22:15:05.998Z"
   },
   {
    "duration": 988,
    "start_time": "2022-07-22T22:15:06.017Z"
   },
   {
    "duration": 16,
    "start_time": "2022-07-22T22:15:07.009Z"
   },
   {
    "duration": 19,
    "start_time": "2022-07-22T22:15:07.027Z"
   },
   {
    "duration": 16,
    "start_time": "2022-07-22T22:15:07.047Z"
   },
   {
    "duration": 19,
    "start_time": "2022-07-22T22:15:07.064Z"
   },
   {
    "duration": 17,
    "start_time": "2022-07-22T22:24:52.646Z"
   },
   {
    "duration": 85,
    "start_time": "2022-07-22T22:25:59.198Z"
   },
   {
    "duration": 18,
    "start_time": "2022-07-22T22:25:59.285Z"
   },
   {
    "duration": 22,
    "start_time": "2022-07-22T22:25:59.304Z"
   },
   {
    "duration": 29,
    "start_time": "2022-07-22T22:25:59.328Z"
   },
   {
    "duration": 21,
    "start_time": "2022-07-22T22:25:59.359Z"
   },
   {
    "duration": 29,
    "start_time": "2022-07-22T22:25:59.382Z"
   },
   {
    "duration": 97,
    "start_time": "2022-07-22T22:25:59.413Z"
   },
   {
    "duration": 46,
    "start_time": "2022-07-22T22:25:59.512Z"
   },
   {
    "duration": 16,
    "start_time": "2022-07-22T22:25:59.560Z"
   },
   {
    "duration": 43,
    "start_time": "2022-07-22T22:25:59.579Z"
   },
   {
    "duration": 9,
    "start_time": "2022-07-22T22:25:59.624Z"
   },
   {
    "duration": 11,
    "start_time": "2022-07-22T22:25:59.634Z"
   },
   {
    "duration": 9,
    "start_time": "2022-07-22T22:25:59.647Z"
   },
   {
    "duration": 15,
    "start_time": "2022-07-22T22:25:59.658Z"
   },
   {
    "duration": 5,
    "start_time": "2022-07-22T22:25:59.674Z"
   },
   {
    "duration": 10,
    "start_time": "2022-07-22T22:25:59.681Z"
   },
   {
    "duration": 21,
    "start_time": "2022-07-22T22:25:59.693Z"
   },
   {
    "duration": 4,
    "start_time": "2022-07-22T22:25:59.716Z"
   },
   {
    "duration": 11,
    "start_time": "2022-07-22T22:25:59.722Z"
   },
   {
    "duration": 197,
    "start_time": "2022-07-22T22:25:59.734Z"
   },
   {
    "duration": 5,
    "start_time": "2022-07-22T22:25:59.933Z"
   },
   {
    "duration": 13,
    "start_time": "2022-07-22T22:25:59.940Z"
   },
   {
    "duration": 28,
    "start_time": "2022-07-22T22:25:59.954Z"
   },
   {
    "duration": 9,
    "start_time": "2022-07-22T22:25:59.984Z"
   },
   {
    "duration": 278,
    "start_time": "2022-07-22T22:25:59.994Z"
   },
   {
    "duration": 198,
    "start_time": "2022-07-22T22:26:00.274Z"
   },
   {
    "duration": 22,
    "start_time": "2022-07-22T22:26:00.474Z"
   },
   {
    "duration": 4,
    "start_time": "2022-07-22T22:26:00.512Z"
   },
   {
    "duration": 12,
    "start_time": "2022-07-22T22:26:00.518Z"
   },
   {
    "duration": 181,
    "start_time": "2022-07-22T22:26:00.532Z"
   },
   {
    "duration": 18,
    "start_time": "2022-07-22T22:26:00.715Z"
   },
   {
    "duration": 22,
    "start_time": "2022-07-22T22:26:00.734Z"
   },
   {
    "duration": 22,
    "start_time": "2022-07-22T22:26:00.757Z"
   },
   {
    "duration": 12,
    "start_time": "2022-07-22T22:26:00.781Z"
   },
   {
    "duration": 19,
    "start_time": "2022-07-22T22:26:00.794Z"
   },
   {
    "duration": 13,
    "start_time": "2022-07-22T22:26:00.815Z"
   },
   {
    "duration": 15,
    "start_time": "2022-07-22T22:26:00.829Z"
   },
   {
    "duration": 18,
    "start_time": "2022-07-22T22:26:00.846Z"
   },
   {
    "duration": 16,
    "start_time": "2022-07-22T22:26:00.866Z"
   },
   {
    "duration": 52,
    "start_time": "2022-07-22T22:26:00.884Z"
   },
   {
    "duration": 55,
    "start_time": "2022-07-22T22:26:00.939Z"
   },
   {
    "duration": 28,
    "start_time": "2022-07-22T22:26:00.996Z"
   },
   {
    "duration": 21,
    "start_time": "2022-07-22T22:26:01.026Z"
   },
   {
    "duration": 27,
    "start_time": "2022-07-22T22:26:01.048Z"
   },
   {
    "duration": 21,
    "start_time": "2022-07-22T22:26:01.076Z"
   },
   {
    "duration": 40,
    "start_time": "2022-07-22T22:26:01.099Z"
   },
   {
    "duration": 77,
    "start_time": "2022-07-22T22:26:01.141Z"
   },
   {
    "duration": 24,
    "start_time": "2022-07-22T22:26:01.220Z"
   },
   {
    "duration": 51,
    "start_time": "2022-07-22T22:26:01.246Z"
   },
   {
    "duration": 190,
    "start_time": "2022-07-22T22:26:01.300Z"
   },
   {
    "duration": 219,
    "start_time": "2022-07-22T22:26:01.493Z"
   },
   {
    "duration": 164,
    "start_time": "2022-07-22T22:26:01.714Z"
   },
   {
    "duration": 219,
    "start_time": "2022-07-22T22:26:01.880Z"
   },
   {
    "duration": 219,
    "start_time": "2022-07-22T22:26:02.101Z"
   },
   {
    "duration": 15,
    "start_time": "2022-07-22T22:26:02.322Z"
   },
   {
    "duration": 29,
    "start_time": "2022-07-22T22:26:02.339Z"
   },
   {
    "duration": 217,
    "start_time": "2022-07-22T22:26:02.370Z"
   },
   {
    "duration": 29,
    "start_time": "2022-07-22T22:26:02.589Z"
   },
   {
    "duration": 174,
    "start_time": "2022-07-22T22:26:02.620Z"
   },
   {
    "duration": 22,
    "start_time": "2022-07-22T22:26:02.796Z"
   },
   {
    "duration": 3,
    "start_time": "2022-07-22T22:26:02.819Z"
   },
   {
    "duration": 11,
    "start_time": "2022-07-22T22:26:02.824Z"
   },
   {
    "duration": 220,
    "start_time": "2022-07-22T22:26:02.836Z"
   },
   {
    "duration": 27,
    "start_time": "2022-07-22T22:26:03.057Z"
   },
   {
    "duration": 8,
    "start_time": "2022-07-22T22:26:03.085Z"
   },
   {
    "duration": 150,
    "start_time": "2022-07-22T22:26:03.110Z"
   },
   {
    "duration": 4,
    "start_time": "2022-07-22T22:26:03.262Z"
   },
   {
    "duration": 10,
    "start_time": "2022-07-22T22:26:03.268Z"
   },
   {
    "duration": 5,
    "start_time": "2022-07-22T22:26:03.280Z"
   },
   {
    "duration": 195,
    "start_time": "2022-07-22T22:26:03.287Z"
   },
   {
    "duration": 9,
    "start_time": "2022-07-22T22:26:03.483Z"
   },
   {
    "duration": 1061,
    "start_time": "2022-07-22T22:26:03.494Z"
   },
   {
    "duration": 18,
    "start_time": "2022-07-22T22:26:04.557Z"
   },
   {
    "duration": 33,
    "start_time": "2022-07-22T22:26:04.577Z"
   },
   {
    "duration": 17,
    "start_time": "2022-07-22T22:26:04.612Z"
   },
   {
    "duration": 18,
    "start_time": "2022-07-22T22:26:04.631Z"
   },
   {
    "duration": 44,
    "start_time": "2022-07-22T22:28:03.161Z"
   },
   {
    "duration": 902,
    "start_time": "2022-07-23T17:08:46.819Z"
   },
   {
    "duration": 22,
    "start_time": "2022-07-23T17:08:47.723Z"
   },
   {
    "duration": 22,
    "start_time": "2022-07-23T17:08:47.747Z"
   },
   {
    "duration": 20,
    "start_time": "2022-07-23T17:08:47.771Z"
   },
   {
    "duration": 25,
    "start_time": "2022-07-23T17:08:47.794Z"
   },
   {
    "duration": 18,
    "start_time": "2022-07-23T17:08:47.919Z"
   },
   {
    "duration": 76,
    "start_time": "2022-07-23T17:08:47.939Z"
   },
   {
    "duration": 46,
    "start_time": "2022-07-23T17:08:48.156Z"
   },
   {
    "duration": 15,
    "start_time": "2022-07-23T17:08:48.204Z"
   },
   {
    "duration": 10,
    "start_time": "2022-07-23T17:08:48.221Z"
   },
   {
    "duration": 24,
    "start_time": "2022-07-23T17:08:48.232Z"
   },
   {
    "duration": 14,
    "start_time": "2022-07-23T17:08:48.258Z"
   },
   {
    "duration": 10,
    "start_time": "2022-07-23T17:08:48.274Z"
   },
   {
    "duration": 9,
    "start_time": "2022-07-23T17:08:48.286Z"
   },
   {
    "duration": 6,
    "start_time": "2022-07-23T17:08:48.379Z"
   },
   {
    "duration": 9,
    "start_time": "2022-07-23T17:08:48.387Z"
   },
   {
    "duration": 6,
    "start_time": "2022-07-23T17:08:48.398Z"
   },
   {
    "duration": 4,
    "start_time": "2022-07-23T17:08:48.406Z"
   },
   {
    "duration": 6,
    "start_time": "2022-07-23T17:08:48.411Z"
   },
   {
    "duration": 174,
    "start_time": "2022-07-23T17:08:48.418Z"
   },
   {
    "duration": 7,
    "start_time": "2022-07-23T17:08:48.595Z"
   },
   {
    "duration": 17,
    "start_time": "2022-07-23T17:08:48.604Z"
   },
   {
    "duration": 13,
    "start_time": "2022-07-23T17:08:48.623Z"
   },
   {
    "duration": 16,
    "start_time": "2022-07-23T17:08:48.637Z"
   },
   {
    "duration": 174,
    "start_time": "2022-07-23T17:08:48.654Z"
   },
   {
    "duration": 178,
    "start_time": "2022-07-23T17:08:48.830Z"
   },
   {
    "duration": 29,
    "start_time": "2022-07-23T17:08:49.011Z"
   },
   {
    "duration": 4,
    "start_time": "2022-07-23T17:08:49.052Z"
   },
   {
    "duration": 10,
    "start_time": "2022-07-23T17:08:49.058Z"
   },
   {
    "duration": 178,
    "start_time": "2022-07-23T17:08:49.309Z"
   },
   {
    "duration": 16,
    "start_time": "2022-07-23T17:08:49.489Z"
   },
   {
    "duration": 18,
    "start_time": "2022-07-23T17:08:49.507Z"
   },
   {
    "duration": 28,
    "start_time": "2022-07-23T17:08:49.526Z"
   },
   {
    "duration": 7,
    "start_time": "2022-07-23T17:08:49.556Z"
   },
   {
    "duration": 7,
    "start_time": "2022-07-23T17:08:49.565Z"
   },
   {
    "duration": 7,
    "start_time": "2022-07-23T17:08:49.573Z"
   },
   {
    "duration": 7,
    "start_time": "2022-07-23T17:08:49.582Z"
   },
   {
    "duration": 10,
    "start_time": "2022-07-23T17:08:49.591Z"
   },
   {
    "duration": 12,
    "start_time": "2022-07-23T17:08:49.602Z"
   },
   {
    "duration": 85,
    "start_time": "2022-07-23T17:08:49.615Z"
   },
   {
    "duration": 16,
    "start_time": "2022-07-23T17:08:49.702Z"
   },
   {
    "duration": 36,
    "start_time": "2022-07-23T17:08:49.719Z"
   },
   {
    "duration": 21,
    "start_time": "2022-07-23T17:08:49.757Z"
   },
   {
    "duration": 17,
    "start_time": "2022-07-23T17:08:49.780Z"
   },
   {
    "duration": 2,
    "start_time": "2022-07-23T17:08:49.799Z"
   },
   {
    "duration": 8,
    "start_time": "2022-07-23T17:08:49.803Z"
   },
   {
    "duration": 43,
    "start_time": "2022-07-23T17:08:49.813Z"
   },
   {
    "duration": 12,
    "start_time": "2022-07-23T17:08:49.858Z"
   },
   {
    "duration": 41,
    "start_time": "2022-07-23T17:08:49.871Z"
   },
   {
    "duration": 196,
    "start_time": "2022-07-23T17:08:49.914Z"
   },
   {
    "duration": 168,
    "start_time": "2022-07-23T17:08:50.112Z"
   },
   {
    "duration": 151,
    "start_time": "2022-07-23T17:08:50.282Z"
   },
   {
    "duration": 179,
    "start_time": "2022-07-23T17:08:50.435Z"
   },
   {
    "duration": 187,
    "start_time": "2022-07-23T17:08:50.615Z"
   },
   {
    "duration": 12,
    "start_time": "2022-07-23T17:08:50.804Z"
   },
   {
    "duration": 9,
    "start_time": "2022-07-23T17:08:50.817Z"
   },
   {
    "duration": 203,
    "start_time": "2022-07-23T17:08:50.827Z"
   },
   {
    "duration": 30,
    "start_time": "2022-07-23T17:08:51.032Z"
   },
   {
    "duration": 168,
    "start_time": "2022-07-23T17:08:51.063Z"
   },
   {
    "duration": 19,
    "start_time": "2022-07-23T17:08:51.234Z"
   },
   {
    "duration": 3,
    "start_time": "2022-07-23T17:08:51.254Z"
   },
   {
    "duration": 7,
    "start_time": "2022-07-23T17:08:51.259Z"
   },
   {
    "duration": 201,
    "start_time": "2022-07-23T17:08:51.267Z"
   },
   {
    "duration": 23,
    "start_time": "2022-07-23T17:08:51.470Z"
   },
   {
    "duration": 9,
    "start_time": "2022-07-23T17:08:51.495Z"
   },
   {
    "duration": 156,
    "start_time": "2022-07-23T17:08:51.505Z"
   },
   {
    "duration": 3,
    "start_time": "2022-07-23T17:08:51.663Z"
   },
   {
    "duration": 13,
    "start_time": "2022-07-23T17:08:51.667Z"
   },
   {
    "duration": 5,
    "start_time": "2022-07-23T17:08:51.682Z"
   },
   {
    "duration": 178,
    "start_time": "2022-07-23T17:08:51.689Z"
   },
   {
    "duration": 10,
    "start_time": "2022-07-23T17:08:51.869Z"
   },
   {
    "duration": 883,
    "start_time": "2022-07-23T17:08:51.880Z"
   },
   {
    "duration": 16,
    "start_time": "2022-07-23T17:08:52.765Z"
   },
   {
    "duration": 16,
    "start_time": "2022-07-23T17:08:52.783Z"
   },
   {
    "duration": 16,
    "start_time": "2022-07-23T17:08:52.801Z"
   },
   {
    "duration": 44,
    "start_time": "2022-07-23T17:08:52.819Z"
   },
   {
    "duration": 1014,
    "start_time": "2022-07-25T15:04:19.684Z"
   },
   {
    "duration": 16,
    "start_time": "2022-07-25T15:04:20.700Z"
   },
   {
    "duration": 16,
    "start_time": "2022-07-25T15:04:20.717Z"
   },
   {
    "duration": 15,
    "start_time": "2022-07-25T15:04:20.735Z"
   },
   {
    "duration": 30,
    "start_time": "2022-07-25T15:04:20.753Z"
   },
   {
    "duration": 22,
    "start_time": "2022-07-25T15:04:20.784Z"
   },
   {
    "duration": 90,
    "start_time": "2022-07-25T15:04:20.808Z"
   },
   {
    "duration": 45,
    "start_time": "2022-07-25T15:04:20.899Z"
   },
   {
    "duration": 43,
    "start_time": "2022-07-25T15:04:20.946Z"
   },
   {
    "duration": 3,
    "start_time": "2022-07-25T15:04:20.991Z"
   },
   {
    "duration": 9,
    "start_time": "2022-07-25T15:04:20.996Z"
   },
   {
    "duration": 12,
    "start_time": "2022-07-25T15:04:21.007Z"
   },
   {
    "duration": 11,
    "start_time": "2022-07-25T15:04:21.021Z"
   },
   {
    "duration": 11,
    "start_time": "2022-07-25T15:04:21.035Z"
   },
   {
    "duration": 16,
    "start_time": "2022-07-25T15:04:21.048Z"
   },
   {
    "duration": 23,
    "start_time": "2022-07-25T15:04:21.066Z"
   },
   {
    "duration": 34,
    "start_time": "2022-07-25T15:04:21.090Z"
   },
   {
    "duration": 23,
    "start_time": "2022-07-25T15:04:21.126Z"
   },
   {
    "duration": 12,
    "start_time": "2022-07-25T15:04:21.151Z"
   },
   {
    "duration": 235,
    "start_time": "2022-07-25T15:04:21.165Z"
   },
   {
    "duration": 7,
    "start_time": "2022-07-25T15:04:21.401Z"
   },
   {
    "duration": 14,
    "start_time": "2022-07-25T15:04:21.409Z"
   },
   {
    "duration": 8,
    "start_time": "2022-07-25T15:04:21.424Z"
   },
   {
    "duration": 16,
    "start_time": "2022-07-25T15:04:21.433Z"
   },
   {
    "duration": 196,
    "start_time": "2022-07-25T15:04:21.451Z"
   },
   {
    "duration": 195,
    "start_time": "2022-07-25T15:04:21.649Z"
   },
   {
    "duration": 36,
    "start_time": "2022-07-25T15:04:21.846Z"
   },
   {
    "duration": 4,
    "start_time": "2022-07-25T15:04:21.884Z"
   },
   {
    "duration": 8,
    "start_time": "2022-07-25T15:04:21.890Z"
   },
   {
    "duration": 6,
    "start_time": "2022-07-25T15:04:27.700Z"
   },
   {
    "duration": 19,
    "start_time": "2022-07-25T15:07:20.772Z"
   },
   {
    "duration": 3,
    "start_time": "2022-07-25T15:08:08.791Z"
   },
   {
    "duration": 7,
    "start_time": "2022-07-25T15:08:09.988Z"
   },
   {
    "duration": 78,
    "start_time": "2022-07-25T15:10:36.360Z"
   },
   {
    "duration": 94,
    "start_time": "2022-07-25T15:11:20.509Z"
   },
   {
    "duration": 13,
    "start_time": "2022-07-25T15:11:20.605Z"
   },
   {
    "duration": 19,
    "start_time": "2022-07-25T15:11:20.620Z"
   },
   {
    "duration": 37,
    "start_time": "2022-07-25T15:11:20.642Z"
   },
   {
    "duration": 27,
    "start_time": "2022-07-25T15:11:20.681Z"
   },
   {
    "duration": 18,
    "start_time": "2022-07-25T15:11:20.710Z"
   },
   {
    "duration": 99,
    "start_time": "2022-07-25T15:11:20.730Z"
   },
   {
    "duration": 77,
    "start_time": "2022-07-25T15:11:20.831Z"
   },
   {
    "duration": 15,
    "start_time": "2022-07-25T15:11:20.910Z"
   },
   {
    "duration": 7,
    "start_time": "2022-07-25T15:11:20.928Z"
   },
   {
    "duration": 28,
    "start_time": "2022-07-25T15:11:20.936Z"
   },
   {
    "duration": 24,
    "start_time": "2022-07-25T15:11:20.966Z"
   },
   {
    "duration": 11,
    "start_time": "2022-07-25T15:11:20.991Z"
   },
   {
    "duration": 11,
    "start_time": "2022-07-25T15:11:21.004Z"
   },
   {
    "duration": 4,
    "start_time": "2022-07-25T15:11:21.017Z"
   },
   {
    "duration": 6,
    "start_time": "2022-07-25T15:11:21.022Z"
   },
   {
    "duration": 8,
    "start_time": "2022-07-25T15:11:21.030Z"
   },
   {
    "duration": 4,
    "start_time": "2022-07-25T15:11:21.039Z"
   },
   {
    "duration": 21,
    "start_time": "2022-07-25T15:11:21.044Z"
   },
   {
    "duration": 203,
    "start_time": "2022-07-25T15:11:21.067Z"
   },
   {
    "duration": 7,
    "start_time": "2022-07-25T15:11:21.273Z"
   },
   {
    "duration": 12,
    "start_time": "2022-07-25T15:11:21.281Z"
   },
   {
    "duration": 19,
    "start_time": "2022-07-25T15:11:21.295Z"
   },
   {
    "duration": 11,
    "start_time": "2022-07-25T15:11:21.316Z"
   },
   {
    "duration": 261,
    "start_time": "2022-07-25T15:11:21.328Z"
   },
   {
    "duration": 190,
    "start_time": "2022-07-25T15:11:21.591Z"
   },
   {
    "duration": 20,
    "start_time": "2022-07-25T15:11:21.783Z"
   },
   {
    "duration": 4,
    "start_time": "2022-07-25T15:11:21.806Z"
   },
   {
    "duration": 7,
    "start_time": "2022-07-25T15:11:21.812Z"
   },
   {
    "duration": 201,
    "start_time": "2022-07-25T15:11:21.820Z"
   },
   {
    "duration": 21,
    "start_time": "2022-07-25T15:11:22.037Z"
   },
   {
    "duration": 23,
    "start_time": "2022-07-25T15:11:22.060Z"
   },
   {
    "duration": 7,
    "start_time": "2022-07-25T15:11:22.085Z"
   },
   {
    "duration": 15,
    "start_time": "2022-07-25T15:11:22.093Z"
   },
   {
    "duration": 10,
    "start_time": "2022-07-25T15:11:22.110Z"
   },
   {
    "duration": 21,
    "start_time": "2022-07-25T15:11:22.121Z"
   },
   {
    "duration": 23,
    "start_time": "2022-07-25T15:11:22.143Z"
   },
   {
    "duration": 26,
    "start_time": "2022-07-25T15:11:22.168Z"
   },
   {
    "duration": 19,
    "start_time": "2022-07-25T15:11:22.196Z"
   },
   {
    "duration": 16,
    "start_time": "2022-07-25T15:11:22.217Z"
   },
   {
    "duration": 21,
    "start_time": "2022-07-25T15:11:22.234Z"
   },
   {
    "duration": 24,
    "start_time": "2022-07-25T15:11:22.256Z"
   },
   {
    "duration": 13,
    "start_time": "2022-07-25T15:11:22.282Z"
   },
   {
    "duration": 2,
    "start_time": "2022-07-25T15:11:22.297Z"
   },
   {
    "duration": 8,
    "start_time": "2022-07-25T15:11:22.301Z"
   },
   {
    "duration": 21,
    "start_time": "2022-07-25T15:11:22.310Z"
   },
   {
    "duration": 12,
    "start_time": "2022-07-25T15:11:22.332Z"
   },
   {
    "duration": 52,
    "start_time": "2022-07-25T15:11:22.363Z"
   },
   {
    "duration": 239,
    "start_time": "2022-07-25T15:11:22.417Z"
   },
   {
    "duration": 220,
    "start_time": "2022-07-25T15:11:22.658Z"
   },
   {
    "duration": 161,
    "start_time": "2022-07-25T15:11:22.880Z"
   },
   {
    "duration": 196,
    "start_time": "2022-07-25T15:11:23.043Z"
   },
   {
    "duration": 220,
    "start_time": "2022-07-25T15:11:23.241Z"
   },
   {
    "duration": 19,
    "start_time": "2022-07-25T15:11:23.464Z"
   },
   {
    "duration": 26,
    "start_time": "2022-07-25T15:11:23.484Z"
   },
   {
    "duration": 212,
    "start_time": "2022-07-25T15:11:23.511Z"
   },
   {
    "duration": 26,
    "start_time": "2022-07-25T15:11:23.724Z"
   },
   {
    "duration": 166,
    "start_time": "2022-07-25T15:11:23.751Z"
   },
   {
    "duration": 14,
    "start_time": "2022-07-25T15:11:23.919Z"
   },
   {
    "duration": 5,
    "start_time": "2022-07-25T15:11:23.934Z"
   },
   {
    "duration": 31,
    "start_time": "2022-07-25T15:11:23.941Z"
   },
   {
    "duration": 1070,
    "start_time": "2022-07-25T15:11:38.187Z"
   },
   {
    "duration": 1685,
    "start_time": "2022-07-25T15:11:55.262Z"
   },
   {
    "duration": 5,
    "start_time": "2022-07-25T15:12:51.625Z"
   },
   {
    "duration": 14,
    "start_time": "2022-07-25T15:13:07.828Z"
   },
   {
    "duration": 4,
    "start_time": "2022-07-25T15:14:12.226Z"
   },
   {
    "duration": 20,
    "start_time": "2022-07-25T15:14:54.281Z"
   },
   {
    "duration": 21,
    "start_time": "2022-07-25T15:15:07.645Z"
   },
   {
    "duration": 167,
    "start_time": "2022-07-25T15:15:19.788Z"
   },
   {
    "duration": 88,
    "start_time": "2022-07-25T15:15:23.550Z"
   },
   {
    "duration": 14,
    "start_time": "2022-07-25T15:15:23.640Z"
   },
   {
    "duration": 15,
    "start_time": "2022-07-25T15:15:23.656Z"
   },
   {
    "duration": 22,
    "start_time": "2022-07-25T15:15:23.673Z"
   },
   {
    "duration": 18,
    "start_time": "2022-07-25T15:15:23.697Z"
   },
   {
    "duration": 16,
    "start_time": "2022-07-25T15:15:23.716Z"
   },
   {
    "duration": 91,
    "start_time": "2022-07-25T15:15:23.733Z"
   },
   {
    "duration": 65,
    "start_time": "2022-07-25T15:15:23.826Z"
   },
   {
    "duration": 17,
    "start_time": "2022-07-25T15:15:23.892Z"
   },
   {
    "duration": 20,
    "start_time": "2022-07-25T15:15:23.911Z"
   },
   {
    "duration": 9,
    "start_time": "2022-07-25T15:15:23.933Z"
   },
   {
    "duration": 20,
    "start_time": "2022-07-25T15:15:23.944Z"
   },
   {
    "duration": 21,
    "start_time": "2022-07-25T15:15:23.967Z"
   },
   {
    "duration": 8,
    "start_time": "2022-07-25T15:15:23.990Z"
   },
   {
    "duration": 5,
    "start_time": "2022-07-25T15:15:24.000Z"
   },
   {
    "duration": 9,
    "start_time": "2022-07-25T15:15:24.007Z"
   },
   {
    "duration": 7,
    "start_time": "2022-07-25T15:15:24.018Z"
   },
   {
    "duration": 6,
    "start_time": "2022-07-25T15:15:24.027Z"
   },
   {
    "duration": 17,
    "start_time": "2022-07-25T15:15:24.034Z"
   },
   {
    "duration": 221,
    "start_time": "2022-07-25T15:15:24.053Z"
   },
   {
    "duration": 6,
    "start_time": "2022-07-25T15:15:24.277Z"
   },
   {
    "duration": 14,
    "start_time": "2022-07-25T15:15:24.285Z"
   },
   {
    "duration": 9,
    "start_time": "2022-07-25T15:15:24.300Z"
   },
   {
    "duration": 13,
    "start_time": "2022-07-25T15:15:24.310Z"
   },
   {
    "duration": 270,
    "start_time": "2022-07-25T15:15:24.324Z"
   },
   {
    "duration": 189,
    "start_time": "2022-07-25T15:15:29.299Z"
   },
   {
    "duration": 24,
    "start_time": "2022-07-25T15:15:56.709Z"
   },
   {
    "duration": 22,
    "start_time": "2022-07-25T15:16:06.590Z"
   },
   {
    "duration": 27,
    "start_time": "2022-07-25T15:16:12.535Z"
   },
   {
    "duration": 8,
    "start_time": "2022-07-25T15:16:18.969Z"
   },
   {
    "duration": 21,
    "start_time": "2022-07-25T15:16:22.138Z"
   },
   {
    "duration": 21,
    "start_time": "2022-07-25T15:16:31.529Z"
   },
   {
    "duration": 6,
    "start_time": "2022-07-25T15:16:42.865Z"
   },
   {
    "duration": 225,
    "start_time": "2022-07-25T15:16:50.829Z"
   },
   {
    "duration": 8,
    "start_time": "2022-07-25T15:18:01.870Z"
   },
   {
    "duration": 179,
    "start_time": "2022-07-25T15:18:03.606Z"
   },
   {
    "duration": 81,
    "start_time": "2022-07-25T15:20:45.259Z"
   },
   {
    "duration": 14,
    "start_time": "2022-07-25T15:20:45.343Z"
   },
   {
    "duration": 12,
    "start_time": "2022-07-25T15:20:45.359Z"
   },
   {
    "duration": 20,
    "start_time": "2022-07-25T15:20:45.374Z"
   },
   {
    "duration": 22,
    "start_time": "2022-07-25T15:20:45.397Z"
   },
   {
    "duration": 18,
    "start_time": "2022-07-25T15:20:45.421Z"
   },
   {
    "duration": 88,
    "start_time": "2022-07-25T15:20:45.441Z"
   },
   {
    "duration": 63,
    "start_time": "2022-07-25T15:20:45.531Z"
   },
   {
    "duration": 16,
    "start_time": "2022-07-25T15:20:45.596Z"
   },
   {
    "duration": 12,
    "start_time": "2022-07-25T15:20:45.615Z"
   },
   {
    "duration": 9,
    "start_time": "2022-07-25T15:20:45.629Z"
   },
   {
    "duration": 23,
    "start_time": "2022-07-25T15:20:45.640Z"
   },
   {
    "duration": 8,
    "start_time": "2022-07-25T15:20:45.665Z"
   },
   {
    "duration": 19,
    "start_time": "2022-07-25T15:20:45.674Z"
   },
   {
    "duration": 23,
    "start_time": "2022-07-25T15:20:45.695Z"
   },
   {
    "duration": 9,
    "start_time": "2022-07-25T15:20:45.719Z"
   },
   {
    "duration": 7,
    "start_time": "2022-07-25T15:20:45.730Z"
   },
   {
    "duration": 4,
    "start_time": "2022-07-25T15:20:45.738Z"
   },
   {
    "duration": 7,
    "start_time": "2022-07-25T15:20:45.744Z"
   },
   {
    "duration": 190,
    "start_time": "2022-07-25T15:20:45.752Z"
   },
   {
    "duration": 6,
    "start_time": "2022-07-25T15:20:45.943Z"
   },
   {
    "duration": 18,
    "start_time": "2022-07-25T15:20:45.950Z"
   },
   {
    "duration": 13,
    "start_time": "2022-07-25T15:20:45.969Z"
   },
   {
    "duration": 8,
    "start_time": "2022-07-25T15:20:45.984Z"
   },
   {
    "duration": 196,
    "start_time": "2022-07-25T15:20:45.994Z"
   },
   {
    "duration": 191,
    "start_time": "2022-07-25T15:20:46.192Z"
   },
   {
    "duration": 22,
    "start_time": "2022-07-25T15:20:46.385Z"
   },
   {
    "duration": 18,
    "start_time": "2022-07-25T15:20:46.410Z"
   },
   {
    "duration": 7,
    "start_time": "2022-07-25T15:20:46.430Z"
   },
   {
    "duration": 41,
    "start_time": "2022-07-25T15:20:46.438Z"
   },
   {
    "duration": 7,
    "start_time": "2022-07-25T15:20:46.481Z"
   },
   {
    "duration": 176,
    "start_time": "2022-07-25T15:20:50.399Z"
   },
   {
    "duration": 5,
    "start_time": "2022-07-25T15:21:29.382Z"
   },
   {
    "duration": 176,
    "start_time": "2022-07-25T15:21:33.320Z"
   },
   {
    "duration": 4,
    "start_time": "2022-07-25T15:21:46.765Z"
   },
   {
    "duration": 169,
    "start_time": "2022-07-25T15:21:49.200Z"
   },
   {
    "duration": 92,
    "start_time": "2022-07-25T15:23:29.034Z"
   },
   {
    "duration": 17,
    "start_time": "2022-07-25T15:23:29.128Z"
   },
   {
    "duration": 13,
    "start_time": "2022-07-25T15:23:29.147Z"
   },
   {
    "duration": 16,
    "start_time": "2022-07-25T15:23:29.162Z"
   },
   {
    "duration": 19,
    "start_time": "2022-07-25T15:23:29.180Z"
   },
   {
    "duration": 16,
    "start_time": "2022-07-25T15:23:29.200Z"
   },
   {
    "duration": 87,
    "start_time": "2022-07-25T15:23:29.217Z"
   },
   {
    "duration": 61,
    "start_time": "2022-07-25T15:23:29.305Z"
   },
   {
    "duration": 21,
    "start_time": "2022-07-25T15:23:29.367Z"
   },
   {
    "duration": 13,
    "start_time": "2022-07-25T15:23:29.391Z"
   },
   {
    "duration": 14,
    "start_time": "2022-07-25T15:23:29.405Z"
   },
   {
    "duration": 14,
    "start_time": "2022-07-25T15:23:29.421Z"
   },
   {
    "duration": 7,
    "start_time": "2022-07-25T15:23:29.436Z"
   },
   {
    "duration": 7,
    "start_time": "2022-07-25T15:23:29.445Z"
   },
   {
    "duration": 5,
    "start_time": "2022-07-25T15:23:29.464Z"
   },
   {
    "duration": 10,
    "start_time": "2022-07-25T15:23:29.470Z"
   },
   {
    "duration": 6,
    "start_time": "2022-07-25T15:23:29.481Z"
   },
   {
    "duration": 4,
    "start_time": "2022-07-25T15:23:29.488Z"
   },
   {
    "duration": 5,
    "start_time": "2022-07-25T15:23:29.494Z"
   },
   {
    "duration": 201,
    "start_time": "2022-07-25T15:23:29.500Z"
   },
   {
    "duration": 5,
    "start_time": "2022-07-25T15:23:29.702Z"
   },
   {
    "duration": 10,
    "start_time": "2022-07-25T15:23:29.709Z"
   },
   {
    "duration": 7,
    "start_time": "2022-07-25T15:23:29.720Z"
   },
   {
    "duration": 13,
    "start_time": "2022-07-25T15:23:29.728Z"
   },
   {
    "duration": 259,
    "start_time": "2022-07-25T15:23:29.742Z"
   },
   {
    "duration": 183,
    "start_time": "2022-07-25T15:23:30.003Z"
   },
   {
    "duration": 22,
    "start_time": "2022-07-25T15:23:30.188Z"
   },
   {
    "duration": 19,
    "start_time": "2022-07-25T15:23:30.213Z"
   },
   {
    "duration": 29,
    "start_time": "2022-07-25T15:23:30.234Z"
   },
   {
    "duration": 31,
    "start_time": "2022-07-25T15:23:30.265Z"
   },
   {
    "duration": 14,
    "start_time": "2022-07-25T15:23:30.298Z"
   },
   {
    "duration": 197,
    "start_time": "2022-07-25T15:23:30.313Z"
   },
   {
    "duration": 18,
    "start_time": "2022-07-25T15:23:30.512Z"
   },
   {
    "duration": 37,
    "start_time": "2022-07-25T15:23:30.532Z"
   },
   {
    "duration": 23,
    "start_time": "2022-07-25T15:23:30.570Z"
   },
   {
    "duration": 51,
    "start_time": "2022-07-25T15:23:30.595Z"
   },
   {
    "duration": 49,
    "start_time": "2022-07-25T15:23:30.648Z"
   },
   {
    "duration": 31,
    "start_time": "2022-07-25T15:23:30.699Z"
   },
   {
    "duration": 40,
    "start_time": "2022-07-25T15:23:30.732Z"
   },
   {
    "duration": 29,
    "start_time": "2022-07-25T15:23:30.774Z"
   },
   {
    "duration": 51,
    "start_time": "2022-07-25T15:23:30.805Z"
   },
   {
    "duration": 33,
    "start_time": "2022-07-25T15:23:30.858Z"
   },
   {
    "duration": 24,
    "start_time": "2022-07-25T15:23:30.893Z"
   },
   {
    "duration": 16,
    "start_time": "2022-07-25T15:23:30.919Z"
   },
   {
    "duration": 28,
    "start_time": "2022-07-25T15:23:30.937Z"
   },
   {
    "duration": 8,
    "start_time": "2022-07-25T15:23:30.967Z"
   },
   {
    "duration": 13,
    "start_time": "2022-07-25T15:23:30.976Z"
   },
   {
    "duration": 27,
    "start_time": "2022-07-25T15:23:30.991Z"
   },
   {
    "duration": 78,
    "start_time": "2022-07-25T15:24:09.648Z"
   },
   {
    "duration": 14,
    "start_time": "2022-07-25T15:24:09.728Z"
   },
   {
    "duration": 13,
    "start_time": "2022-07-25T15:24:09.744Z"
   },
   {
    "duration": 15,
    "start_time": "2022-07-25T15:24:09.759Z"
   },
   {
    "duration": 20,
    "start_time": "2022-07-25T15:24:09.776Z"
   },
   {
    "duration": 17,
    "start_time": "2022-07-25T15:24:09.797Z"
   },
   {
    "duration": 100,
    "start_time": "2022-07-25T15:24:09.816Z"
   },
   {
    "duration": 67,
    "start_time": "2022-07-25T15:24:09.918Z"
   },
   {
    "duration": 15,
    "start_time": "2022-07-25T15:24:09.987Z"
   },
   {
    "duration": 21,
    "start_time": "2022-07-25T15:24:10.005Z"
   },
   {
    "duration": 18,
    "start_time": "2022-07-25T15:24:10.028Z"
   },
   {
    "duration": 12,
    "start_time": "2022-07-25T15:24:10.048Z"
   },
   {
    "duration": 12,
    "start_time": "2022-07-25T15:24:10.062Z"
   },
   {
    "duration": 12,
    "start_time": "2022-07-25T15:24:10.075Z"
   },
   {
    "duration": 6,
    "start_time": "2022-07-25T15:24:10.088Z"
   },
   {
    "duration": 7,
    "start_time": "2022-07-25T15:24:10.095Z"
   },
   {
    "duration": 7,
    "start_time": "2022-07-25T15:24:10.103Z"
   },
   {
    "duration": 5,
    "start_time": "2022-07-25T15:24:10.111Z"
   },
   {
    "duration": 9,
    "start_time": "2022-07-25T15:24:10.118Z"
   },
   {
    "duration": 193,
    "start_time": "2022-07-25T15:24:10.128Z"
   },
   {
    "duration": 6,
    "start_time": "2022-07-25T15:24:10.323Z"
   },
   {
    "duration": 9,
    "start_time": "2022-07-25T15:24:10.331Z"
   },
   {
    "duration": 23,
    "start_time": "2022-07-25T15:24:10.342Z"
   },
   {
    "duration": 10,
    "start_time": "2022-07-25T15:24:10.367Z"
   },
   {
    "duration": 192,
    "start_time": "2022-07-25T15:24:10.379Z"
   },
   {
    "duration": 192,
    "start_time": "2022-07-25T15:24:10.572Z"
   },
   {
    "duration": 23,
    "start_time": "2022-07-25T15:24:10.766Z"
   },
   {
    "duration": 19,
    "start_time": "2022-07-25T15:24:10.794Z"
   },
   {
    "duration": 6,
    "start_time": "2022-07-25T15:24:10.814Z"
   },
   {
    "duration": 51,
    "start_time": "2022-07-25T15:24:10.822Z"
   },
   {
    "duration": 7,
    "start_time": "2022-07-25T15:24:10.875Z"
   },
   {
    "duration": 180,
    "start_time": "2022-07-25T15:24:10.883Z"
   },
   {
    "duration": 18,
    "start_time": "2022-07-25T15:24:11.065Z"
   },
   {
    "duration": 18,
    "start_time": "2022-07-25T15:24:11.085Z"
   },
   {
    "duration": 6,
    "start_time": "2022-07-25T15:24:11.105Z"
   },
   {
    "duration": 9,
    "start_time": "2022-07-25T15:24:11.112Z"
   },
   {
    "duration": 7,
    "start_time": "2022-07-25T15:24:11.123Z"
   },
   {
    "duration": 34,
    "start_time": "2022-07-25T15:24:11.131Z"
   },
   {
    "duration": 8,
    "start_time": "2022-07-25T15:24:11.167Z"
   },
   {
    "duration": 16,
    "start_time": "2022-07-25T15:24:11.177Z"
   },
   {
    "duration": 16,
    "start_time": "2022-07-25T15:24:11.195Z"
   },
   {
    "duration": 16,
    "start_time": "2022-07-25T15:24:11.212Z"
   },
   {
    "duration": 44,
    "start_time": "2022-07-25T15:24:11.230Z"
   },
   {
    "duration": 16,
    "start_time": "2022-07-25T15:24:11.276Z"
   },
   {
    "duration": 13,
    "start_time": "2022-07-25T15:24:11.294Z"
   },
   {
    "duration": 3,
    "start_time": "2022-07-25T15:24:11.309Z"
   },
   {
    "duration": 7,
    "start_time": "2022-07-25T15:24:11.313Z"
   },
   {
    "duration": 17,
    "start_time": "2022-07-25T15:24:11.321Z"
   },
   {
    "duration": 36,
    "start_time": "2022-07-25T15:24:11.340Z"
   },
   {
    "duration": 51,
    "start_time": "2022-07-25T15:24:11.378Z"
   },
   {
    "duration": 192,
    "start_time": "2022-07-25T15:24:11.431Z"
   },
   {
    "duration": 185,
    "start_time": "2022-07-25T15:24:11.625Z"
   },
   {
    "duration": 167,
    "start_time": "2022-07-25T15:24:11.812Z"
   },
   {
    "duration": 197,
    "start_time": "2022-07-25T15:24:11.981Z"
   },
   {
    "duration": 263,
    "start_time": "2022-07-25T15:24:12.179Z"
   },
   {
    "duration": 20,
    "start_time": "2022-07-25T15:24:12.444Z"
   },
   {
    "duration": 3,
    "start_time": "2022-07-25T15:24:12.466Z"
   },
   {
    "duration": 249,
    "start_time": "2022-07-25T15:24:12.470Z"
   },
   {
    "duration": 42,
    "start_time": "2022-07-25T15:24:12.721Z"
   },
   {
    "duration": 167,
    "start_time": "2022-07-25T15:24:12.765Z"
   },
   {
    "duration": 14,
    "start_time": "2022-07-25T15:24:12.933Z"
   },
   {
    "duration": 18,
    "start_time": "2022-07-25T15:24:12.948Z"
   },
   {
    "duration": 767,
    "start_time": "2022-07-25T15:24:16.683Z"
   },
   {
    "duration": 182,
    "start_time": "2022-07-25T15:24:45.388Z"
   },
   {
    "duration": 6,
    "start_time": "2022-07-25T15:25:07.907Z"
   },
   {
    "duration": 105,
    "start_time": "2022-07-25T15:33:49.349Z"
   },
   {
    "duration": 14,
    "start_time": "2022-07-25T15:33:49.456Z"
   },
   {
    "duration": 13,
    "start_time": "2022-07-25T15:33:49.472Z"
   },
   {
    "duration": 21,
    "start_time": "2022-07-25T15:33:49.487Z"
   },
   {
    "duration": 20,
    "start_time": "2022-07-25T15:33:49.509Z"
   },
   {
    "duration": 38,
    "start_time": "2022-07-25T15:33:49.530Z"
   },
   {
    "duration": 63,
    "start_time": "2022-07-25T15:33:49.569Z"
   },
   {
    "duration": 71,
    "start_time": "2022-07-25T15:33:49.633Z"
   },
   {
    "duration": 15,
    "start_time": "2022-07-25T15:33:49.705Z"
   },
   {
    "duration": 10,
    "start_time": "2022-07-25T15:33:49.722Z"
   },
   {
    "duration": 31,
    "start_time": "2022-07-25T15:33:49.734Z"
   },
   {
    "duration": 10,
    "start_time": "2022-07-25T15:33:49.766Z"
   },
   {
    "duration": 7,
    "start_time": "2022-07-25T15:33:49.777Z"
   },
   {
    "duration": 10,
    "start_time": "2022-07-25T15:33:49.786Z"
   },
   {
    "duration": 7,
    "start_time": "2022-07-25T15:33:49.797Z"
   },
   {
    "duration": 8,
    "start_time": "2022-07-25T15:33:49.805Z"
   },
   {
    "duration": 7,
    "start_time": "2022-07-25T15:33:49.814Z"
   },
   {
    "duration": 10,
    "start_time": "2022-07-25T15:33:49.823Z"
   },
   {
    "duration": 30,
    "start_time": "2022-07-25T15:33:49.834Z"
   },
   {
    "duration": 183,
    "start_time": "2022-07-25T15:33:49.866Z"
   },
   {
    "duration": 5,
    "start_time": "2022-07-25T15:33:50.051Z"
   },
   {
    "duration": 15,
    "start_time": "2022-07-25T15:33:50.057Z"
   },
   {
    "duration": 10,
    "start_time": "2022-07-25T15:33:50.074Z"
   },
   {
    "duration": 9,
    "start_time": "2022-07-25T15:33:50.085Z"
   },
   {
    "duration": 179,
    "start_time": "2022-07-25T15:33:50.095Z"
   },
   {
    "duration": 202,
    "start_time": "2022-07-25T15:33:50.275Z"
   },
   {
    "duration": 20,
    "start_time": "2022-07-25T15:33:50.478Z"
   },
   {
    "duration": 18,
    "start_time": "2022-07-25T15:33:50.502Z"
   },
   {
    "duration": 4,
    "start_time": "2022-07-25T15:33:50.521Z"
   },
   {
    "duration": 42,
    "start_time": "2022-07-25T15:33:50.527Z"
   },
   {
    "duration": 5,
    "start_time": "2022-07-25T15:33:50.571Z"
   },
   {
    "duration": 186,
    "start_time": "2022-07-25T15:33:50.577Z"
   },
   {
    "duration": 18,
    "start_time": "2022-07-25T15:33:50.765Z"
   },
   {
    "duration": 16,
    "start_time": "2022-07-25T15:33:50.784Z"
   },
   {
    "duration": 17,
    "start_time": "2022-07-25T15:33:50.801Z"
   },
   {
    "duration": 14,
    "start_time": "2022-07-25T15:33:50.819Z"
   },
   {
    "duration": 7,
    "start_time": "2022-07-25T15:33:50.834Z"
   },
   {
    "duration": 8,
    "start_time": "2022-07-25T15:33:50.842Z"
   },
   {
    "duration": 6,
    "start_time": "2022-07-25T15:33:50.863Z"
   },
   {
    "duration": 7,
    "start_time": "2022-07-25T15:33:50.871Z"
   },
   {
    "duration": 20,
    "start_time": "2022-07-25T15:33:50.880Z"
   },
   {
    "duration": 14,
    "start_time": "2022-07-25T15:33:50.901Z"
   },
   {
    "duration": 17,
    "start_time": "2022-07-25T15:33:50.917Z"
   },
   {
    "duration": 41,
    "start_time": "2022-07-25T15:33:50.935Z"
   },
   {
    "duration": 14,
    "start_time": "2022-07-25T15:33:50.977Z"
   },
   {
    "duration": 5,
    "start_time": "2022-07-25T15:33:50.992Z"
   },
   {
    "duration": 30,
    "start_time": "2022-07-25T15:33:50.998Z"
   },
   {
    "duration": 32,
    "start_time": "2022-07-25T15:33:51.030Z"
   },
   {
    "duration": 16,
    "start_time": "2022-07-25T15:33:51.064Z"
   },
   {
    "duration": 46,
    "start_time": "2022-07-25T15:33:51.082Z"
   },
   {
    "duration": 181,
    "start_time": "2022-07-25T15:33:51.130Z"
   },
   {
    "duration": 193,
    "start_time": "2022-07-25T15:33:51.313Z"
   },
   {
    "duration": 162,
    "start_time": "2022-07-25T15:33:51.507Z"
   },
   {
    "duration": 199,
    "start_time": "2022-07-25T15:33:51.671Z"
   },
   {
    "duration": 193,
    "start_time": "2022-07-25T15:33:51.872Z"
   },
   {
    "duration": 14,
    "start_time": "2022-07-25T15:33:52.067Z"
   },
   {
    "duration": 3,
    "start_time": "2022-07-25T15:33:52.082Z"
   },
   {
    "duration": 220,
    "start_time": "2022-07-25T15:33:52.087Z"
   },
   {
    "duration": 28,
    "start_time": "2022-07-25T15:33:52.309Z"
   },
   {
    "duration": 282,
    "start_time": "2022-07-25T15:33:52.339Z"
   },
   {
    "duration": 18,
    "start_time": "2022-07-25T15:33:52.622Z"
   },
   {
    "duration": 21,
    "start_time": "2022-07-25T15:33:52.643Z"
   },
   {
    "duration": 11,
    "start_time": "2022-07-25T15:33:52.666Z"
   },
   {
    "duration": 220,
    "start_time": "2022-07-25T15:33:52.681Z"
   },
   {
    "duration": 25,
    "start_time": "2022-07-25T15:33:52.903Z"
   },
   {
    "duration": 6,
    "start_time": "2022-07-25T15:33:52.930Z"
   },
   {
    "duration": 154,
    "start_time": "2022-07-25T15:33:52.938Z"
   },
   {
    "duration": 2,
    "start_time": "2022-07-25T15:33:53.094Z"
   },
   {
    "duration": 10,
    "start_time": "2022-07-25T15:33:53.098Z"
   },
   {
    "duration": 5,
    "start_time": "2022-07-25T15:33:53.109Z"
   },
   {
    "duration": 184,
    "start_time": "2022-07-25T15:33:53.116Z"
   },
   {
    "duration": 10,
    "start_time": "2022-07-25T15:33:53.301Z"
   },
   {
    "duration": 951,
    "start_time": "2022-07-25T15:33:53.313Z"
   },
   {
    "duration": 15,
    "start_time": "2022-07-25T15:33:54.265Z"
   },
   {
    "duration": 13,
    "start_time": "2022-07-25T15:33:54.282Z"
   },
   {
    "duration": 14,
    "start_time": "2022-07-25T15:33:54.297Z"
   },
   {
    "duration": 13,
    "start_time": "2022-07-25T15:33:54.312Z"
   }
  ],
  "kernelspec": {
   "display_name": "Python 3",
   "language": "python",
   "name": "python3"
  },
  "language_info": {
   "codemirror_mode": {
    "name": "ipython",
    "version": 3
   },
   "file_extension": ".py",
   "mimetype": "text/x-python",
   "name": "python",
   "nbconvert_exporter": "python",
   "pygments_lexer": "ipython3",
   "version": "3.9.12"
  },
  "toc": {
   "base_numbering": 1,
   "nav_menu": {},
   "number_sections": true,
   "sideBar": true,
   "skip_h1_title": true,
   "title_cell": "Table of Contents",
   "title_sidebar": "Contents",
   "toc_cell": false,
   "toc_position": {
    "height": "calc(100% - 180px)",
    "left": "10px",
    "top": "150px",
    "width": "272px"
   },
   "toc_section_display": true,
   "toc_window_display": false
  },
  "varInspector": {
   "cols": {
    "lenName": 16,
    "lenType": 16,
    "lenVar": 40
   },
   "kernels_config": {
    "python": {
     "delete_cmd_postfix": "",
     "delete_cmd_prefix": "del ",
     "library": "var_list.py",
     "varRefreshCmd": "print(var_dic_list())"
    },
    "r": {
     "delete_cmd_postfix": ") ",
     "delete_cmd_prefix": "rm(",
     "library": "var_list.r",
     "varRefreshCmd": "cat(var_dic_list()) "
    }
   },
   "types_to_exclude": [
    "module",
    "function",
    "builtin_function_or_method",
    "instance",
    "_Feature"
   ],
   "window_display": false
  }
 },
 "nbformat": 4,
 "nbformat_minor": 5
}
